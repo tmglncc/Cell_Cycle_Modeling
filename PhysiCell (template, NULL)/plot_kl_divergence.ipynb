{
 "cells": [
  {
   "cell_type": "markdown",
   "id": "e98c3b54",
   "metadata": {},
   "source": [
    "# Plotting Kullback-Leibler divergence for the distribution of the tumor cell population and fraction"
   ]
  },
  {
   "cell_type": "markdown",
   "id": "06b4b3cf",
   "metadata": {},
   "source": [
    "## Import libraries"
   ]
  },
  {
   "cell_type": "code",
   "execution_count": 2,
   "id": "a6b66648",
   "metadata": {},
   "outputs": [],
   "source": [
    "# %matplotlib notebook\n",
    "#  add Python-loader repo to the path \n",
    "import sys\n",
    "sys.path.insert(0, '../Python-loader/')\n",
    "from pyMCDS import pyMCDS\n",
    "\n",
    "import numpy as np\n",
    "import matplotlib\n",
    "import matplotlib.pyplot as plt\n",
    "import os\n",
    "import scipy.stats as sts\n",
    "from scipy.integrate import odeint\n",
    "from scipy.ndimage.filters import gaussian_filter"
   ]
  },
  {
   "cell_type": "markdown",
   "id": "b6c841d0",
   "metadata": {},
   "source": [
    "## Define cell cycle model"
   ]
  },
  {
   "cell_type": "code",
   "execution_count": 140,
   "id": "73d6ce4d",
   "metadata": {},
   "outputs": [],
   "source": [
    "# CELL CYCLE MODELS\n",
    "### advanced_Ki67_cycle_model = 0\n",
    "### basic_Ki67_cycle_model = 1\n",
    "### flow_cytometry_cycle_model = 2\n",
    "### live_apoptotic_cycle_model = 3\n",
    "### total_cells_cycle_model = 4\n",
    "### live_cells_cycle_model = 5 \n",
    "### flow_cytometry_separated_cycle_model = 6\n",
    "### cycling_quiescent_model = 7\n",
    "cycle_model = 6\n",
    "\n",
    "output_folder = \"output_Experimental_Settings_R300/\""
   ]
  },
  {
   "cell_type": "markdown",
   "id": "b31629cf",
   "metadata": {},
   "source": [
    "## Define experimental settings"
   ]
  },
  {
   "cell_type": "code",
   "execution_count": 141,
   "id": "b56b4de4",
   "metadata": {},
   "outputs": [],
   "source": [
    "num_folders = 18\n",
    "num_params = 3\n",
    "\n",
    "settings = np.zeros((num_folders, num_params))\n",
    "settings[0,:] = np.array([6, 100, 10])\n",
    "settings[1,:] = np.array([6, 100, 20])\n",
    "settings[2,:] = np.array([6, 100, 50])\n",
    "settings[3,:] = np.array([6, 100, 100])\n",
    "settings[4,:] = np.array([6, 100, 200])\n",
    "settings[5,:] = np.array([6, 100, 300])\n",
    "settings[6,:] = np.array([6, 500, 10])\n",
    "settings[7,:] = np.array([6, 500, 20])\n",
    "settings[8,:] = np.array([6, 500, 50])\n",
    "settings[9,:] = np.array([6, 500, 100])\n",
    "settings[10,:] = np.array([6, 500, 200])\n",
    "settings[11,:] = np.array([6, 500, 300])\n",
    "settings[12,:] = np.array([6, 1000, 10])\n",
    "settings[13,:] = np.array([6, 1000, 20])\n",
    "settings[14,:] = np.array([6, 1000, 50])\n",
    "settings[15,:] = np.array([6, 1000, 100])\n",
    "settings[16,:] = np.array([6, 1000, 200])\n",
    "settings[17,:] = np.array([6, 1000, 300])"
   ]
  },
  {
   "cell_type": "markdown",
   "id": "ee2c47fd",
   "metadata": {},
   "source": [
    "## Compute the number of each tumor cell phenotype over all replicates and simulation  times"
   ]
  },
  {
   "cell_type": "code",
   "execution_count": 142,
   "id": "a858444d",
   "metadata": {},
   "outputs": [],
   "source": [
    "def get_folder_name(settings):\n",
    "    if cycle_model == 0:\n",
    "        folder_name = \"output_Ki67_Advanced_\"\n",
    "    elif cycle_model == 1:\n",
    "        folder_name = \"output_Ki67_Basic_\"\n",
    "    elif cycle_model == 2:\n",
    "        folder_name = \"output_Flow_Cytometry_\"\n",
    "    elif cycle_model == 5:\n",
    "        folder_name = \"output_Live_\"\n",
    "    elif cycle_model == 6:\n",
    "        folder_name = \"output_Separated_Flow_Cytometry_\"\n",
    "    else:\n",
    "        print(\"Unrecognized cell cycle model.\")\n",
    "    \n",
    "    if settings[0].is_integer():\n",
    "        folder_name += \"dt\" + str(int(settings[0])) + \"_NC\" + str(int(settings[1])) + \"_R\" + str(int(settings[2])) + \"/\"\n",
    "    else:\n",
    "        folder_name += \"dt\" + str(settings[0]) + \"_NC\" + str(int(settings[1])) + \"_R\" + str(int(settings[2])) + \"/\"\n",
    "    \n",
    "    return folder_name"
   ]
  },
  {
   "cell_type": "code",
   "execution_count": 143,
   "id": "edd91c77",
   "metadata": {},
   "outputs": [],
   "source": [
    "last_index = 120;\n",
    "filename = \"PhysiCell_tumor_cell_population.csv\";\n",
    "\n",
    "times = [None] * num_folders; \n",
    "if cycle_model == 0:\n",
    "    Ki67_negative_count = [None] * num_folders; \n",
    "    Ki67_positive_premitotic_count = [None] * num_folders; \n",
    "    Ki67_positive_postmitotic_count = [None] * num_folders; \n",
    "elif cycle_model == 1:\n",
    "    Ki67_negative_count = [None] * num_folders; \n",
    "    Ki67_positive_count = [None] * num_folders; \n",
    "elif cycle_model == 2:\n",
    "    G0G1_phase_count = [None] * num_folders; \n",
    "    S_phase_count = [None] * num_folders; \n",
    "    G2M_phase_count = [None] * num_folders; \n",
    "elif cycle_model == 5:\n",
    "    live_count = [None] * num_folders; \n",
    "elif cycle_model == 6:\n",
    "    G0G1_phase_count = [None] * num_folders; \n",
    "    S_phase_count = [None] * num_folders; \n",
    "    G2_phase_count = [None] * num_folders; \n",
    "    M_phase_count = [None] * num_folders; \n",
    "else:\n",
    "    print(\"Unrecognized cell cycle model.\")\n",
    "dead_count = [None] * num_folders; \n",
    "\n",
    "for i in range(num_folders):\n",
    "    num_replicates = int(settings[i,2])\n",
    "    \n",
    "    times[i] = np.zeros( last_index+1 ); \n",
    "    if cycle_model == 0:\n",
    "        Ki67_negative_count[i] = np.zeros( (num_replicates, last_index+1) ); \n",
    "        Ki67_positive_premitotic_count[i] = np.zeros( (num_replicates, last_index+1) ); \n",
    "        Ki67_positive_postmitotic_count[i] = np.zeros( (num_replicates, last_index+1) ); \n",
    "    elif cycle_model == 1:\n",
    "        Ki67_negative_count[i] = np.zeros( (num_replicates, last_index+1) ); \n",
    "        Ki67_positive_count[i] = np.zeros( (num_replicates, last_index+1) ); \n",
    "    elif cycle_model == 2:\n",
    "        G0G1_phase_count[i] = np.zeros( (num_replicates, last_index+1) ); \n",
    "        S_phase_count[i] = np.zeros( (num_replicates, last_index+1) ); \n",
    "        G2M_phase_count[i] = np.zeros( (num_replicates, last_index+1) ); \n",
    "    elif cycle_model == 5:\n",
    "        live_count[i] = np.zeros( (num_replicates, last_index+1) ); \n",
    "    elif cycle_model == 6:\n",
    "        G0G1_phase_count[i] = np.zeros( (num_replicates, last_index+1) ); \n",
    "        S_phase_count[i] = np.zeros( (num_replicates, last_index+1) ); \n",
    "        G2_phase_count[i] = np.zeros( (num_replicates, last_index+1) ); \n",
    "        M_phase_count[i] = np.zeros( (num_replicates, last_index+1) ); \n",
    "    else:\n",
    "        print(\"Unrecognized cell cycle model.\")\n",
    "    dead_count[i] = np.zeros( (num_replicates, last_index+1) ); \n",
    "    \n",
    "    for id_replicate in range(num_replicates):\n",
    "        folder_name = output_folder+get_folder_name(settings[i,:])+\"output_R\"+str(\"%02d\"%id_replicate)+'/'\n",
    "\n",
    "        data = np.genfromtxt(folder_name + filename, dtype = float, delimiter = ',', names = True)\n",
    "        times[i][:] = data[\"times\"]\n",
    "        if cycle_model == 0:\n",
    "            Ki67_negative_count[i][id_replicate,:] = data[\"Ki67_negative_num\"]\n",
    "            Ki67_positive_premitotic_count[i][id_replicate,:] = data[\"Ki67_positive_premitotic_num\"]\n",
    "            Ki67_positive_postmitotic_count[i][id_replicate,:] = data[\"Ki67_positive_postmitotic_num\"]\n",
    "        elif cycle_model == 1:\n",
    "            Ki67_negative_count[i][id_replicate,:] = data[\"Ki67_negative_num\"]\n",
    "            Ki67_positive_count[i][id_replicate,:] = data[\"Ki67_positive_num\"]\n",
    "        elif cycle_model == 2:\n",
    "            G0G1_phase_count[i][id_replicate,:] = data[\"G0G1_phase_num\"]\n",
    "            S_phase_count[i][id_replicate,:] = data[\"S_phase_premitotic_num\"]\n",
    "            G2M_phase_count[i][id_replicate,:] = data[\"G2M_phase_postmitotic_num\"]\n",
    "        elif cycle_model == 5:\n",
    "            live_count[i][id_replicate,:] = data[\"Live_num\"]\n",
    "        elif cycle_model == 6:\n",
    "            G0G1_phase_count[i][id_replicate,:] = data[\"G0G1_phase_num\"]\n",
    "            S_phase_count[i][id_replicate,:] = data[\"S_phase_premitotic_num\"]\n",
    "            G2_phase_count[i][id_replicate,:] = data[\"G2_phase_postmitotic_num\"]\n",
    "            M_phase_count[i][id_replicate,:] = data[\"M_phase_postmitotic_num\"]\n",
    "        else:\n",
    "            print(\"Unrecognized cell cycle model.\")\n",
    "        dead_count[i][id_replicate,:] = data[\"Dead_num\"]"
   ]
  },
  {
   "cell_type": "markdown",
   "id": "aaafe539",
   "metadata": {},
   "source": [
    "## Compute tumor cell fraction over all replicates and simulation times"
   ]
  },
  {
   "cell_type": "code",
   "execution_count": 144,
   "id": "f3e62ed1",
   "metadata": {},
   "outputs": [],
   "source": [
    "has_apop_nec = False\n",
    "\n",
    "if cycle_model == 0:\n",
    "    Ki67_negative_fraction = [None] * num_folders; \n",
    "    Ki67_positive_premitotic_fraction = [None] * num_folders; \n",
    "    Ki67_positive_postmitotic_fraction = [None] * num_folders; \n",
    "elif cycle_model == 1:\n",
    "    Ki67_negative_fraction = [None] * num_folders; \n",
    "    Ki67_positive_fraction = [None] * num_folders; \n",
    "elif cycle_model == 2:\n",
    "    G0G1_phase_fraction = [None] * num_folders; \n",
    "    S_phase_fraction = [None] * num_folders; \n",
    "    G2M_phase_fraction = [None] * num_folders; \n",
    "elif cycle_model == 5:\n",
    "    live_fraction = [None] * num_folders; \n",
    "elif cycle_model == 6:\n",
    "    G0G1_phase_fraction = [None] * num_folders; \n",
    "    S_phase_fraction = [None] * num_folders; \n",
    "    G2_phase_fraction = [None] * num_folders; \n",
    "    M_phase_fraction = [None] * num_folders; \n",
    "else:\n",
    "    print(\"Unrecognized cell cycle model.\")\n",
    "\n",
    "if has_apop_nec:\n",
    "    apoptotic_fraction = [None] * num_folders; \n",
    "    necrotic_fraction = [None] * num_folders; \n",
    "else:\n",
    "    dead_fraction = [None] * num_folders; \n",
    "    \n",
    "for i in range(num_folders):\n",
    "    num_replicates = int(settings[i,2])\n",
    "    \n",
    "    if cycle_model == 0:\n",
    "        Ki67_negative_fraction[i] = np.zeros( (num_replicates, last_index+1) ); \n",
    "        Ki67_positive_premitotic_fraction[i] = np.zeros( (num_replicates, last_index+1) ); \n",
    "        Ki67_positive_postmitotic_fraction[i] = np.zeros( (num_replicates, last_index+1) ); \n",
    "    elif cycle_model == 1:\n",
    "        Ki67_negative_fraction[i] = np.zeros( (num_replicates, last_index+1) ); \n",
    "        Ki67_positive_fraction[i] = np.zeros( (num_replicates, last_index+1) ); \n",
    "    elif cycle_model == 2:\n",
    "        G0G1_phase_fraction[i] = np.zeros( (num_replicates, last_index+1) ); \n",
    "        S_phase_fraction[i] = np.zeros( (num_replicates, last_index+1) ); \n",
    "        G2M_phase_fraction[i] = np.zeros( (num_replicates, last_index+1) ); \n",
    "    elif cycle_model == 5:\n",
    "        live_fraction[i] = np.zeros( (num_replicates, last_index+1) ); \n",
    "    elif cycle_model == 6:\n",
    "        G0G1_phase_fraction[i] = np.zeros( (num_replicates, last_index+1) ); \n",
    "        S_phase_fraction[i] = np.zeros( (num_replicates, last_index+1) ); \n",
    "        G2_phase_fraction[i] = np.zeros( (num_replicates, last_index+1) ); \n",
    "        M_phase_fraction[i] = np.zeros( (num_replicates, last_index+1) ); \n",
    "    else:\n",
    "        print(\"Unrecognized cell cycle model.\")\n",
    "\n",
    "    if has_apop_nec:\n",
    "        apoptotic_fraction[i] = np.zeros( (num_replicates, last_index+1) ); \n",
    "        necrotic_fraction[i] = np.zeros( (num_replicates, last_index+1) ); \n",
    "    else:\n",
    "        dead_fraction[i] = np.zeros( (num_replicates, last_index+1) ); \n",
    "        \n",
    "    for id_replicate in range(num_replicates):\n",
    "        if cycle_model == 0:\n",
    "            total_count = Ki67_negative_count[i][id_replicate,:] + Ki67_positive_premitotic_count[i][id_replicate,:] + Ki67_positive_postmitotic_count[i][id_replicate,:];\n",
    "            total_count += apoptotic_count[i][id_replicate,:] + necrotic_count[i][id_replicate,:] if has_apop_nec else dead_count[i][id_replicate,:];\n",
    "\n",
    "            Ki67_negative_fraction[i][id_replicate,:] = Ki67_negative_count[i][id_replicate,:]/total_count;\n",
    "            Ki67_positive_premitotic_fraction[i][id_replicate,:] = Ki67_positive_premitotic_count[i][id_replicate,:]/total_count;\n",
    "            Ki67_positive_postmitotic_fraction[i][id_replicate,:] = Ki67_positive_postmitotic_count[i][id_replicate,:]/total_count;\n",
    "        elif cycle_model == 1:\n",
    "            total_count = Ki67_negative_count[i][id_replicate,:] + Ki67_positive_count[i][id_replicate,:];\n",
    "            total_count += apoptotic_count[i][id_replicate,:] + necrotic_count[i][id_replicate,:] if has_apop_nec else dead_count[i][id_replicate,:];\n",
    "\n",
    "            Ki67_negative_fraction[i][id_replicate,:] = Ki67_negative_count[i][id_replicate,:]/total_count;\n",
    "            Ki67_positive_fraction[i][id_replicate,:] = Ki67_positive_count[i][id_replicate,:]/total_count;\n",
    "        elif cycle_model == 2:\n",
    "            total_count = G0G1_phase_count[i][id_replicate,:] + S_phase_count[i][id_replicate,:] + G2M_phase_count[i][id_replicate,:];\n",
    "            total_count += apoptotic_count[i][id_replicate,:] + necrotic_count[i][id_replicate,:] if has_apop_nec else dead_count[i][id_replicate,:];\n",
    "\n",
    "            G0G1_phase_fraction[i][id_replicate,:] = G0G1_phase_count[i][id_replicate,:]/total_count;\n",
    "            S_phase_fraction[i][id_replicate,:] = S_phase_count[i][id_replicate,:]/total_count;\n",
    "            G2M_phase_fraction[i][id_replicate,:] = G2M_phase_count[i][id_replicate,:]/total_count;\n",
    "        elif cycle_model == 5:\n",
    "            total_count = live_count[i][id_replicate,:];\n",
    "            total_count += apoptotic_count[i][id_replicate,:] + necrotic_count[i][id_replicate,:] if has_apop_nec else dead_count[i][id_replicate,:];\n",
    "\n",
    "            live_fraction[i][id_replicate,:] = live_count[i][id_replicate,:]/total_count;\n",
    "        elif cycle_model == 6:\n",
    "            total_count = G0G1_phase_count[i][id_replicate,:] + S_phase_count[i][id_replicate,:] + G2_phase_count[i][id_replicate,:] + M_phase_count[i][id_replicate,:];\n",
    "            total_count += apoptotic_count[i][id_replicate,:] + necrotic_count[i][id_replicate,:] if has_apop_nec else dead_count[i][id_replicate,:];\n",
    "\n",
    "            G0G1_phase_fraction[i][id_replicate,:] = G0G1_phase_count[i][id_replicate,:]/total_count;\n",
    "            S_phase_fraction[i][id_replicate,:] = S_phase_count[i][id_replicate,:]/total_count;\n",
    "            G2_phase_fraction[i][id_replicate,:] = G2_phase_count[i][id_replicate,:]/total_count;\n",
    "            M_phase_fraction[i][id_replicate,:] = M_phase_count[i][id_replicate,:]/total_count;\n",
    "        else:\n",
    "            print(\"Unrecognized cell cycle model.\")\n",
    "\n",
    "        if has_apop_nec:\n",
    "            apoptotic_fraction[i][id_replicate,:] = apoptotic_count[i][id_replicate,:]/total_count;\n",
    "            necrotic_fraction[i][id_replicate,:] = necrotic_count[i][id_replicate,:]/total_count;\n",
    "        else:\n",
    "            dead_fraction[i][id_replicate,:] = dead_count[i][id_replicate,:]/total_count;"
   ]
  },
  {
   "cell_type": "markdown",
   "id": "34eb0980",
   "metadata": {},
   "source": [
    "## Solve true model numerically"
   ]
  },
  {
   "cell_type": "code",
   "execution_count": 145,
   "id": "5a6beffe",
   "metadata": {},
   "outputs": [],
   "source": [
    "true_solution = [None] * num_folders\n",
    "\n",
    "if cycle_model == 0:\n",
    "    def true_model(X, t, r01, r10, r12, r20):\n",
    "        Ki67_neg, Ki67_pos_pre, Ki67_pos_post = X\n",
    "        dXdt = [-r01*Ki67_neg + r10*Ki67_pos_post,\n",
    "            r01*Ki67_neg - r12*Ki67_pos_pre,\n",
    "            2.0*r12*Ki67_pos_pre - r20*Ki67_pos_post\n",
    "        ]\n",
    "        return dXdt\n",
    "    \n",
    "    r01 = 0.004604052\n",
    "    r10 = 0.006666667\n",
    "    r12 = 0.001282051\n",
    "    r20 = 0.006666667\n",
    "elif cycle_model == 1:\n",
    "    def true_model(X, t, r01, r10):\n",
    "        Ki67_neg, Ki67_pos = X\n",
    "        dXdt = [-r01*Ki67_neg + 2.0*r10*Ki67_pos, \n",
    "            r01*Ki67_neg - r10*Ki67_pos\n",
    "        ]\n",
    "        return dXdt\n",
    "    \n",
    "    r01 = 0.003631082\n",
    "    r10 = 0.001075269\n",
    "elif cycle_model == 2:\n",
    "    def true_model(X, t, r01, r20, r12):\n",
    "        G0G1, S, G2M = X\n",
    "        dXdt = [-r01*G0G1 + 2.0*r20*G2M,\n",
    "            r01*G0G1 - r12*S,\n",
    "            r12*S - r20*G2M\n",
    "        ]\n",
    "        return dXdt\n",
    "    \n",
    "    r01 = 0.003236246\n",
    "    r20 = 0.003333333\n",
    "    r12 = 0.002083333\n",
    "elif cycle_model == 5:\n",
    "    def true_model(X, t, b):\n",
    "        live = X\n",
    "        dXdt = b*live\n",
    "        return dXdt\n",
    "    \n",
    "    b = 0.0007198228\n",
    "elif cycle_model == 6:\n",
    "    def true_model(X, t, r01, r30, r12, r23):\n",
    "        G0G1, S, G2, M = X\n",
    "        dXdt = [-r01*G0G1 + 2.0*r30*M,\n",
    "            r01*G0G1 - r12*S,\n",
    "            r12*S - r23*G2,\n",
    "            r23*G2 - r30*M\n",
    "        ]\n",
    "        return dXdt\n",
    "    \n",
    "    r01 = 0.00334672\n",
    "    r30 = 0.016666667\n",
    "    r12 = 0.002083333\n",
    "    r23 = 0.004166667\n",
    "else:\n",
    "    print(\"Unrecognized cell cycle model.\")\n",
    "    \n",
    "for i in range(num_folders):\n",
    "    number_of_cells = int(settings[i,1])\n",
    "    \n",
    "    if cycle_model == 0:\n",
    "        X0 = np.array([number_of_cells, 0, 0])\n",
    "        true_solution[i] = odeint(true_model, X0, times[i], args=(r01, r10, r12, r20))\n",
    "    elif cycle_model == 1:\n",
    "        X0 = np.array([number_of_cells, 0])\n",
    "        true_solution[i] = odeint(true_model, X0, times[i], args=(r01, r10))\n",
    "    elif cycle_model == 2:\n",
    "        X0 = np.array([number_of_cells, 0, 0])\n",
    "        true_solution[i] = odeint(true_model, X0, times[i], args=(r01, r20, r12))\n",
    "    elif cycle_model == 5:\n",
    "        X0 = np.array([number_of_cells])\n",
    "        true_solution[i] = odeint(true_model, X0, times[i], args=(b,))\n",
    "    elif cycle_model == 6:\n",
    "        X0 = np.array([number_of_cells, 0, 0, 0])\n",
    "        true_solution[i] = odeint(true_model, X0, times[i], args=(r01, r30, r12, r23))\n",
    "    else:\n",
    "        print(\"Unrecognized cell cycle model.\")"
   ]
  },
  {
   "cell_type": "markdown",
   "id": "4e510b0f",
   "metadata": {},
   "source": [
    "## Compute tumor cell fraction for the true model"
   ]
  },
  {
   "cell_type": "code",
   "execution_count": 146,
   "id": "147aad8c",
   "metadata": {},
   "outputs": [],
   "source": [
    "if cycle_model == 0:\n",
    "    Ki67_negative_true = [None] * num_folders;\n",
    "    Ki67_positive_premitotic_true = [None] * num_folders;\n",
    "    Ki67_positive_postmitotic_true = [None] * num_folders;\n",
    "elif cycle_model == 1:\n",
    "    Ki67_negative_true = [None] * num_folders;\n",
    "    Ki67_positive_true = [None] * num_folders;\n",
    "elif cycle_model == 2:\n",
    "    G0G1_phase_true = [None] * num_folders;\n",
    "    S_phase_true = [None] * num_folders;\n",
    "    G2M_phase_true = [None] * num_folders;\n",
    "elif cycle_model == 5:\n",
    "    live_true = [None] * num_folders;\n",
    "elif cycle_model == 6:\n",
    "    G0G1_phase_true = [None] * num_folders;\n",
    "    S_phase_true = [None] * num_folders;\n",
    "    G2_phase_true = [None] * num_folders;\n",
    "    M_phase_true = [None] * num_folders;\n",
    "else:\n",
    "    print(\"Unrecognized cell cycle model.\")\n",
    "    \n",
    "for i in range(num_folders):\n",
    "    total_true = np.sum(true_solution[i], axis=1)\n",
    "\n",
    "    if cycle_model == 0:\n",
    "        Ki67_negative_true[i] = true_solution[i][:,0]/total_true;\n",
    "        Ki67_positive_premitotic_true[i] = true_solution[i][:,1]/total_true;\n",
    "        Ki67_positive_postmitotic_true[i] = true_solution[i][:,2]/total_true;\n",
    "    elif cycle_model == 1:\n",
    "        Ki67_negative_true[i] = true_solution[i][:,0]/total_true;\n",
    "        Ki67_positive_true[i] = true_solution[i][:,1]/total_true;\n",
    "    elif cycle_model == 2:\n",
    "        G0G1_phase_true[i] = true_solution[i][:,0]/total_true;\n",
    "        S_phase_true[i] = true_solution[i][:,1]/total_true;\n",
    "        G2M_phase_true[i] = true_solution[i][:,2]/total_true;\n",
    "    elif cycle_model == 5:\n",
    "        live_true[i] = true_solution[i][:,0]/total_true;\n",
    "    elif cycle_model == 6:\n",
    "        G0G1_phase_true[i] = true_solution[i][:,0]/total_true;\n",
    "        S_phase_true[i] = true_solution[i][:,1]/total_true;\n",
    "        G2_phase_true[i] = true_solution[i][:,2]/total_true;\n",
    "        M_phase_true[i] = true_solution[i][:,3]/total_true;\n",
    "    else:\n",
    "        print(\"Unrecognized cell cycle model.\")"
   ]
  },
  {
   "cell_type": "markdown",
   "id": "3cbf0b1e",
   "metadata": {},
   "source": [
    "## Compute Kullback-Leibler divergence for the distribution of the tumor cell population at the final simulation time"
   ]
  },
  {
   "cell_type": "code",
   "execution_count": 147,
   "id": "b995a29e",
   "metadata": {},
   "outputs": [],
   "source": [
    "def kl_divergence(p, q):\n",
    "    p = np.asarray(p, dtype=float)\n",
    "    q = np.asarray(q, dtype=float)\n",
    "\n",
    "    return np.sum(np.where(p != 0, p*np.log(p/q), 0))\n",
    "\n",
    "# def smoothed_hist_kl_divergence(a, b, bins=10, sigma=1):\n",
    "#     ahist, bhist = (np.histogram(a, bins=bins)[0], np.histogram(b, bins=bins)[0])\n",
    "#     asmooth, bsmooth = (gaussian_filter(ahist, sigma), gaussian_filter(bhist, sigma))\n",
    "\n",
    "#     return kl_divergence(asmooth, bsmooth)\n",
    "\n",
    "def smoothed_hist_kl_divergence(a, b, bins=10):\n",
    "    min_val = min(np.min(a), np.min(b))\n",
    "    max_val = max(np.max(a), np.max(b))\n",
    "    density_a, bar_a = np.histogram(a, bins=bins, range=(min_val, max_val), density=True)\n",
    "    density_b, bar_b = np.histogram(b, bins=bins, range=(min_val, max_val), density=True)\n",
    "    kde_a = sts.gaussian_kde(a)\n",
    "    kde_b = sts.gaussian_kde(b)\n",
    "    x = np.linspace(min_val, max_val, bins)\n",
    "    norm_density_a = density_a/sum(density_a)\n",
    "    norm_density_b = density_b/sum(density_b)\n",
    "    norm_kde_a = kde_a.pdf(x)/sum(kde_a.pdf(x))\n",
    "    norm_kde_b = kde_b.pdf(x)/sum(kde_b.pdf(x))\n",
    "    return kl_divergence(np.array(norm_kde_a), np.array(norm_kde_b))\n",
    "    # return kl_divergence(norm_density_a, norm_density_b)"
   ]
  },
  {
   "cell_type": "code",
   "execution_count": 148,
   "id": "03bdbd16",
   "metadata": {},
   "outputs": [],
   "source": [
    "num_unique_NC = len(np.unique(settings[:,1]))\n",
    "num_kl_divergence = len(np.unique(settings[:,2]))\n",
    "num_columns = 4\n",
    "\n",
    "NC100_indices = np.where(settings[:,1] == 100)[0]\n",
    "NC500_indices = np.where(settings[:,1] == 500)[0]\n",
    "NC1000_indices = np.where(settings[:,1] == 1000)[0]\n",
    "\n",
    "if cycle_model == 0:\n",
    "    Ki67_negative_kl_divergence = np.zeros((num_unique_NC*num_kl_divergence, num_columns))\n",
    "    Ki67_positive_premitotic_kl_divergence = np.zeros((num_unique_NC*num_kl_divergence, num_columns))\n",
    "    Ki67_positive_postmitotic_kl_divergence = np.zeros((num_unique_NC*num_kl_divergence, num_columns))\n",
    "elif cycle_model == 1:\n",
    "    Ki67_negative_kl_divergence = np.zeros((num_unique_NC*num_kl_divergence, num_columns))\n",
    "    Ki67_positive_kl_divergence = np.zeros((num_unique_NC*num_kl_divergence, num_columns))\n",
    "elif cycle_model == 2:\n",
    "    G0G1_phase_kl_divergence = np.zeros((num_unique_NC*num_kl_divergence, num_columns))\n",
    "    S_phase_kl_divergence = np.zeros((num_unique_NC*num_kl_divergence, num_columns))\n",
    "    G2M_phase_kl_divergence = np.zeros((num_unique_NC*num_kl_divergence, num_columns))\n",
    "elif cycle_model == 5:\n",
    "    live_kl_divergence = np.zeros((num_unique_NC*num_kl_divergence, num_columns))\n",
    "elif cycle_model == 6:\n",
    "    G0G1_phase_kl_divergence = np.zeros((num_unique_NC*num_kl_divergence, num_columns))\n",
    "    S_phase_kl_divergence = np.zeros((num_unique_NC*num_kl_divergence, num_columns))\n",
    "    G2_phase_kl_divergence = np.zeros((num_unique_NC*num_kl_divergence, num_columns))\n",
    "    M_phase_kl_divergence = np.zeros((num_unique_NC*num_kl_divergence, num_columns))\n",
    "else:\n",
    "    print(\"Unrecognized cell cycle model.\")\n",
    "\n",
    "for i in range(num_unique_NC):\n",
    "    if i == 0:\n",
    "        indices = NC100_indices\n",
    "    elif i == 1:\n",
    "        indices = NC500_indices\n",
    "    elif i == 2:\n",
    "        indices = NC1000_indices\n",
    "    \n",
    "    for j, ind in enumerate(indices):\n",
    "        k = i*num_kl_divergence + j\n",
    "            \n",
    "        if cycle_model == 0:\n",
    "            Ki67_negative_kl_divergence[k,:] = np.array([settings[ind,1], settings[ind,2], settings[indices[-1],2], \n",
    "                                                          smoothed_hist_kl_divergence(Ki67_negative_count[ind][:,-1], Ki67_negative_count[indices[-1]][:,-1])])\n",
    "            Ki67_positive_premitotic_kl_divergence[k,:] = np.array([settings[ind,1], settings[ind,2], settings[indices[-1],2], \n",
    "                                                          smoothed_hist_kl_divergence(Ki67_positive_premitotic_count[ind][:,-1], Ki67_positive_premitotic_count[indices[-1]][:,-1])])\n",
    "            Ki67_positive_postmitotic_kl_divergence[k,:] = np.array([settings[ind,1], settings[ind,2], settings[indices[-1],2], \n",
    "                                                          smoothed_hist_kl_divergence(Ki67_positive_postmitotic_count[ind][:,-1], Ki67_positive_postmitotic_count[indices[-1]][:,-1])])\n",
    "        elif cycle_model == 1:\n",
    "            Ki67_negative_kl_divergence[k,:] = np.array([settings[ind,1], settings[ind,2], settings[indices[-1],2], \n",
    "                                                          smoothed_hist_kl_divergence(Ki67_negative_count[ind][:,-1], Ki67_negative_count[indices[-1]][:,-1])])\n",
    "            Ki67_positive_kl_divergence[k,:] = np.array([settings[ind,1], settings[ind,2], settings[indices[-1],2], \n",
    "                                                          smoothed_hist_kl_divergence(Ki67_positive_count[ind][:,-1], Ki67_positive_count[indices[-1]][:,-1])])\n",
    "        elif cycle_model == 2:\n",
    "            G0G1_phase_kl_divergence[k,:] = np.array([settings[ind,1], settings[ind,2], settings[indices[-1],2], \n",
    "                                                          smoothed_hist_kl_divergence(G0G1_phase_count[ind][:,-1], G0G1_phase_count[indices[-1]][:,-1])])\n",
    "            S_phase_kl_divergence[k,:] = np.array([settings[ind,1], settings[ind,2], settings[indices[-1],2], \n",
    "                                                          smoothed_hist_kl_divergence(S_phase_count[ind][:,-1], S_phase_count[indices[-1]][:,-1])])\n",
    "            G2M_phase_kl_divergence[k,:] = np.array([settings[ind,1], settings[ind,2], settings[indices[-1],2], \n",
    "                                                          smoothed_hist_kl_divergence(G2M_phase_count[ind][:,-1], G2M_phase_count[indices[-1]][:,-1])])\n",
    "        elif cycle_model == 5:\n",
    "            live_kl_divergence[k,:] = np.array([settings[ind,1], settings[ind,2], settings[indices[-1],2], \n",
    "                                                          smoothed_hist_kl_divergence(live_count[ind][:,-1], live_count[indices[-1]][:,-1])])\n",
    "        elif cycle_model == 6:\n",
    "            G0G1_phase_kl_divergence[k,:] = np.array([settings[ind,1], settings[ind,2], settings[indices[-1],2], \n",
    "                                                          smoothed_hist_kl_divergence(G0G1_phase_count[ind][:,-1], G0G1_phase_count[indices[-1]][:,-1])])\n",
    "            S_phase_kl_divergence[k,:] = np.array([settings[ind,1], settings[ind,2], settings[indices[-1],2], \n",
    "                                                          smoothed_hist_kl_divergence(S_phase_count[ind][:,-1], S_phase_count[indices[-1]][:,-1])])\n",
    "            G2_phase_kl_divergence[k,:] = np.array([settings[ind,1], settings[ind,2], settings[indices[-1],2], \n",
    "                                                          smoothed_hist_kl_divergence(G2_phase_count[ind][:,-1], G2_phase_count[indices[-1]][:,-1])])\n",
    "            M_phase_kl_divergence[k,:] = np.array([settings[ind,1], settings[ind,2], settings[indices[-1],2], \n",
    "                                                          smoothed_hist_kl_divergence(M_phase_count[ind][:,-1], M_phase_count[indices[-1]][:,-1])])\n",
    "        else:\n",
    "            print(\"Unrecognized cell cycle model.\")"
   ]
  },
  {
   "cell_type": "markdown",
   "id": "c42d696c",
   "metadata": {},
   "source": [
    "## Plot Kullback-Leibler divergence for the distribution of the tumor cell population at the final simulation time"
   ]
  },
  {
   "cell_type": "code",
   "execution_count": 149,
   "id": "ad91569a",
   "metadata": {},
   "outputs": [],
   "source": [
    "def plot_kl_divergence(tumor_cell_kl_divergence, cell_cycle_phase_filename, bar_width = 0.15, ticks_factor = 2):\n",
    "    bar_data = np.split(tumor_cell_kl_divergence[:,-1], num_unique_NC)\n",
    "    for i in range(num_unique_NC):\n",
    "        bar_data[i] = bar_data[i][0:num_kl_divergence-1]\n",
    "    bar_data = np.array(bar_data).T.tolist()\n",
    "\n",
    "    bar_pos = [None] * len(bar_data)\n",
    "    bar_pos[0] = np.arange(len(bar_data[0]))\n",
    "    for i in range(1, len(bar_data)):\n",
    "        bar_pos[i] = np.array([x + bar_width for x in bar_pos[i-1]])\n",
    "\n",
    "    bars = []\n",
    "    labels = [\"R=\" + str(int(i)) for i in np.unique(settings[:,2])]\n",
    "    labels = labels[0:num_kl_divergence-1]\n",
    "    ticks = np.unique(settings[:,1]).astype(int)\n",
    "\n",
    "    plt.clf()\n",
    "    fig, ax = plt.subplots(1, 1, figsize = (5.27, 2.96), dpi = 300)\n",
    "    for i in range(len(bar_data)):\n",
    "        bar = plt.bar(bar_pos[i], bar_data[i], width=bar_width, edgecolor='grey', label=labels[i])\n",
    "        bars.append(bar)\n",
    "    # plt.legend(loc='center left', bbox_to_anchor=(1, 0.5))\n",
    "\n",
    "    plt.xticks([r + ticks_factor*bar_width for r in range(len(bar_data[0]))], ticks)\n",
    "    # plt.xlabel( 'Initial number of cells', size=15 ) \n",
    "    # plt.ylabel( 'KL divergence', size=15 )\n",
    "    # ax.set_ylim([0.0, 0.4])\n",
    "    plt.savefig(os.path.join(output_folder, cell_cycle_phase_filename + \"_kl_divergence.pdf\"), bbox_inches = 'tight')\n",
    "    \n",
    "    plt.clf()\n",
    "    plt.subplots(1, 1, figsize = (5.27, 2.96), dpi = 300)\n",
    "    plt.legend(bars, labels, loc='center', ncol=5)\n",
    "    plt.axis('off')\n",
    "    plt.savefig(os.path.join(output_folder, cell_cycle_phase_filename + \"_kl_divergence_legend.pdf\"), bbox_inches = 'tight')"
   ]
  },
  {
   "cell_type": "code",
   "execution_count": 150,
   "id": "a60e3d8d",
   "metadata": {},
   "outputs": [
    {
     "data": {
      "text/plain": [
       "<Figure size 432x288 with 0 Axes>"
      ]
     },
     "metadata": {},
     "output_type": "display_data"
    },
    {
     "data": {
      "text/plain": [
       "<Figure size 1581x888 with 0 Axes>"
      ]
     },
     "metadata": {},
     "output_type": "display_data"
    },
    {
     "data": {
      "text/plain": [
       "<Figure size 1581x888 with 0 Axes>"
      ]
     },
     "metadata": {},
     "output_type": "display_data"
    },
    {
     "data": {
      "text/plain": [
       "<Figure size 1581x888 with 0 Axes>"
      ]
     },
     "metadata": {},
     "output_type": "display_data"
    },
    {
     "data": {
      "text/plain": [
       "<Figure size 1581x888 with 0 Axes>"
      ]
     },
     "metadata": {},
     "output_type": "display_data"
    },
    {
     "data": {
      "text/plain": [
       "<Figure size 1581x888 with 0 Axes>"
      ]
     },
     "metadata": {},
     "output_type": "display_data"
    },
    {
     "data": {
      "text/plain": [
       "<Figure size 1581x888 with 0 Axes>"
      ]
     },
     "metadata": {},
     "output_type": "display_data"
    },
    {
     "data": {
      "text/plain": [
       "<Figure size 1581x888 with 0 Axes>"
      ]
     },
     "metadata": {},
     "output_type": "display_data"
    },
    {
     "data": {
      "image/png": "[encoded data removed]",
      "text/plain": [
       "<Figure size 1581x888 with 1 Axes>"
      ]
     },
     "metadata": {
      "needs_background": "light"
     },
     "output_type": "display_data"
    }
   ],
   "source": [
    "if cycle_model == 0:\n",
    "    plot_kl_divergence(Ki67_negative_kl_divergence, \"Ki67_neg_pop_NC\")\n",
    "    plot_kl_divergence(Ki67_positive_premitotic_kl_divergence, \"Ki67_pos_pre_pop_NC\")\n",
    "    plot_kl_divergence(Ki67_positive_postmitotic_kl_divergence, \"Ki67_pos_post_pop_NC\")\n",
    "elif cycle_model == 1:\n",
    "    plot_kl_divergence(Ki67_negative_kl_divergence, \"Ki67_neg_pop_NC\")\n",
    "    plot_kl_divergence(Ki67_positive_kl_divergence, \"Ki67_pos_pop_NC\")\n",
    "elif cycle_model == 2:\n",
    "    plot_kl_divergence(G0G1_phase_kl_divergence, \"G0G1_phase_pop_NC\")\n",
    "    plot_kl_divergence(S_phase_kl_divergence, \"S_phase_pop_NC\")\n",
    "    plot_kl_divergence(G2M_phase_kl_divergence, \"G2M_phase_pop_NC\")\n",
    "elif cycle_model == 5:\n",
    "    plot_kl_divergence(live_kl_divergence, \"live_pop_NC\")\n",
    "elif cycle_model == 6:\n",
    "    plot_kl_divergence(G0G1_phase_kl_divergence, \"G0G1_phase_pop_NC\")\n",
    "    plot_kl_divergence(S_phase_kl_divergence, \"S_phase_pop_NC\")\n",
    "    plot_kl_divergence(G2_phase_kl_divergence, \"G2_phase_pop_NC\")\n",
    "    plot_kl_divergence(M_phase_kl_divergence, \"M_phase_pop_NC\")\n",
    "else:\n",
    "    print(\"Unrecognized cell cycle model.\")"
   ]
  },
  {
   "cell_type": "markdown",
   "id": "82dc32ca",
   "metadata": {},
   "source": [
    "## Write *.csv* output file"
   ]
  },
  {
   "cell_type": "code",
   "execution_count": 151,
   "id": "5892345b",
   "metadata": {},
   "outputs": [],
   "source": [
    "if cycle_model == 0:\n",
    "    np.savetxt(os.path.join(output_folder, \"Ki67_neg_pop_NC_kl_divergence.csv\"), Ki67_negative_kl_divergence, delimiter=',', fmt='%.8f',\n",
    "               header=\"NC, P, Q, KL(P||Q)\", comments='')\n",
    "    np.savetxt(os.path.join(output_folder, \"Ki67_pos_pre_pop_NC_kl_divergence.csv\"), Ki67_positive_premitotic_kl_divergence, delimiter=',', fmt='%.8f',\n",
    "               header=\"NC, P, Q, KL(P||Q)\", comments='')\n",
    "    np.savetxt(os.path.join(output_folder, \"Ki67_pos_post_pop_NC_kl_divergence.csv\"), Ki67_positive_postmitotic_kl_divergence, delimiter=',', fmt='%.8f',\n",
    "               header=\"NC, P, Q, KL(P||Q)\", comments='')\n",
    "elif cycle_model == 1:\n",
    "    np.savetxt(os.path.join(output_folder, \"Ki67_neg_pop_NC_kl_divergence.csv\"), Ki67_negative_kl_divergence, delimiter=',', fmt='%.8f',\n",
    "               header=\"NC, P, Q, KL(P||Q)\", comments='')\n",
    "    np.savetxt(os.path.join(output_folder, \"Ki67_pos_pop_NC_kl_divergence.csv\"), Ki67_positive_kl_divergence, delimiter=',', fmt='%.8f',\n",
    "               header=\"NC, P, Q, KL(P||Q)\", comments='')\n",
    "elif cycle_model == 2:\n",
    "    np.savetxt(os.path.join(output_folder, \"G0G1_phase_pop_NC_kl_divergence.csv\"), G0G1_phase_kl_divergence, delimiter=',', fmt='%.8f',\n",
    "               header=\"NC, P, Q, KL(P||Q)\", comments='')\n",
    "    np.savetxt(os.path.join(output_folder, \"S_phase_pop_NC_kl_divergence.csv\"), S_phase_kl_divergence, delimiter=',', fmt='%.8f',\n",
    "               header=\"NC, P, Q, KL(P||Q)\", comments='')\n",
    "    np.savetxt(os.path.join(output_folder, \"G2M_phase_pop_NC_kl_divergence.csv\"), G2M_phase_kl_divergence, delimiter=',', fmt='%.8f',\n",
    "               header=\"NC, P, Q, KL(P||Q)\", comments='')\n",
    "elif cycle_model == 5:\n",
    "    np.savetxt(os.path.join(output_folder, \"live_pop_NC_kl_divergence.csv\"), live_kl_divergence, delimiter=',', fmt='%.8f',\n",
    "               header=\"NC, P, Q, KL(P||Q)\", comments='')\n",
    "elif cycle_model == 6:\n",
    "    np.savetxt(os.path.join(output_folder, \"G0G1_phase_pop_NC_kl_divergence.csv\"), G0G1_phase_kl_divergence, delimiter=',', fmt='%.8f',\n",
    "               header=\"NC, P, Q, KL(P||Q)\", comments='')\n",
    "    np.savetxt(os.path.join(output_folder, \"S_phase_pop_NC_kl_divergence.csv\"), S_phase_kl_divergence, delimiter=',', fmt='%.8f',\n",
    "               header=\"NC, P, Q, KL(P||Q)\", comments='')\n",
    "    np.savetxt(os.path.join(output_folder, \"G2_phase_pop_NC_kl_divergence.csv\"), G2_phase_kl_divergence, delimiter=',', fmt='%.8f',\n",
    "               header=\"NC, P, Q, KL(P||Q)\", comments='')\n",
    "    np.savetxt(os.path.join(output_folder, \"M_phase_pop_NC_kl_divergence.csv\"), M_phase_kl_divergence, delimiter=',', fmt='%.8f',\n",
    "               header=\"NC, P, Q, KL(P||Q)\", comments='')\n",
    "else:\n",
    "    print(\"Unrecognized cell cycle model.\")"
   ]
  },
  {
   "cell_type": "markdown",
   "id": "f0a4eb18",
   "metadata": {},
   "source": [
    "## Compute Kullback-Leibler divergence for the distribution of the tumor cell fraction at the final simulation time"
   ]
  },
  {
   "cell_type": "code",
   "execution_count": 152,
   "id": "e25ca168",
   "metadata": {},
   "outputs": [],
   "source": [
    "if cycle_model == 0:\n",
    "    Ki67_negative_kl_divergence = np.zeros((num_unique_NC*num_kl_divergence, num_columns))\n",
    "    Ki67_positive_premitotic_kl_divergence = np.zeros((num_unique_NC*num_kl_divergence, num_columns))\n",
    "    Ki67_positive_postmitotic_kl_divergence = np.zeros((num_unique_NC*num_kl_divergence, num_columns))\n",
    "elif cycle_model == 1:\n",
    "    Ki67_negative_kl_divergence = np.zeros((num_unique_NC*num_kl_divergence, num_columns))\n",
    "    Ki67_positive_kl_divergence = np.zeros((num_unique_NC*num_kl_divergence, num_columns))\n",
    "elif cycle_model == 2:\n",
    "    G0G1_phase_kl_divergence = np.zeros((num_unique_NC*num_kl_divergence, num_columns))\n",
    "    S_phase_kl_divergence = np.zeros((num_unique_NC*num_kl_divergence, num_columns))\n",
    "    G2M_phase_kl_divergence = np.zeros((num_unique_NC*num_kl_divergence, num_columns))\n",
    "elif cycle_model == 5:\n",
    "    live_kl_divergence = np.zeros((num_unique_NC*num_kl_divergence, num_columns))\n",
    "elif cycle_model == 6:\n",
    "    G0G1_phase_kl_divergence = np.zeros((num_unique_NC*num_kl_divergence, num_columns))\n",
    "    S_phase_kl_divergence = np.zeros((num_unique_NC*num_kl_divergence, num_columns))\n",
    "    G2_phase_kl_divergence = np.zeros((num_unique_NC*num_kl_divergence, num_columns))\n",
    "    M_phase_kl_divergence = np.zeros((num_unique_NC*num_kl_divergence, num_columns))\n",
    "else:\n",
    "    print(\"Unrecognized cell cycle model.\")\n",
    "\n",
    "for i in range(num_unique_NC):\n",
    "    if i == 0:\n",
    "        indices = NC100_indices\n",
    "    elif i == 1:\n",
    "        indices = NC500_indices\n",
    "    elif i == 2:\n",
    "        indices = NC1000_indices\n",
    "    \n",
    "    for j, ind in enumerate(indices):\n",
    "        k = i*num_kl_divergence + j\n",
    "            \n",
    "        if cycle_model == 0:\n",
    "            Ki67_negative_kl_divergence[k,:] = np.array([settings[ind,1], settings[ind,2], settings[indices[-1],2], \n",
    "                                                          smoothed_hist_kl_divergence(Ki67_negative_fraction[ind][:,-1], Ki67_negative_fraction[indices[-1]][:,-1])])\n",
    "            Ki67_positive_premitotic_kl_divergence[k,:] = np.array([settings[ind,1], settings[ind,2], settings[indices[-1],2], \n",
    "                                                          smoothed_hist_kl_divergence(Ki67_positive_premitotic_fraction[ind][:,-1], Ki67_positive_premitotic_fraction[indices[-1]][:,-1])])\n",
    "            Ki67_positive_postmitotic_kl_divergence[k,:] = np.array([settings[ind,1], settings[ind,2], settings[indices[-1],2], \n",
    "                                                          smoothed_hist_kl_divergence(Ki67_positive_postmitotic_fraction[ind][:,-1], Ki67_positive_postmitotic_fraction[indices[-1]][:,-1])])\n",
    "        elif cycle_model == 1:\n",
    "            Ki67_negative_kl_divergence[k,:] = np.array([settings[ind,1], settings[ind,2], settings[indices[-1],2], \n",
    "                                                          smoothed_hist_kl_divergence(Ki67_negative_fraction[ind][:,-1], Ki67_negative_fraction[indices[-1]][:,-1])])\n",
    "            Ki67_positive_kl_divergence[k,:] = np.array([settings[ind,1], settings[ind,2], settings[indices[-1],2], \n",
    "                                                          smoothed_hist_kl_divergence(Ki67_positive_fraction[ind][:,-1], Ki67_positive_fraction[indices[-1]][:,-1])])\n",
    "        elif cycle_model == 2:\n",
    "            G0G1_phase_kl_divergence[k,:] = np.array([settings[ind,1], settings[ind,2], settings[indices[-1],2], \n",
    "                                                          smoothed_hist_kl_divergence(G0G1_phase_fraction[ind][:,-1], G0G1_phase_fraction[indices[-1]][:,-1])])\n",
    "            S_phase_kl_divergence[k,:] = np.array([settings[ind,1], settings[ind,2], settings[indices[-1],2], \n",
    "                                                          smoothed_hist_kl_divergence(S_phase_fraction[ind][:,-1], S_phase_fraction[indices[-1]][:,-1])])\n",
    "            G2M_phase_kl_divergence[k,:] = np.array([settings[ind,1], settings[ind,2], settings[indices[-1],2], \n",
    "                                                          smoothed_hist_kl_divergence(G2M_phase_fraction[ind][:,-1], G2M_phase_fraction[indices[-1]][:,-1])])\n",
    "        elif cycle_model == 5:\n",
    "            live_kl_divergence[k,:] = np.array([settings[ind,1], settings[ind,2], settings[indices[-1],2], \n",
    "                                                          smoothed_hist_kl_divergence(live_fraction[ind][:,-1], live_fraction[indices[-1]][:,-1])])\n",
    "        elif cycle_model == 6:\n",
    "            G0G1_phase_kl_divergence[k,:] = np.array([settings[ind,1], settings[ind,2], settings[indices[-1],2], \n",
    "                                                          smoothed_hist_kl_divergence(G0G1_phase_fraction[ind][:,-1], G0G1_phase_fraction[indices[-1]][:,-1])])\n",
    "            S_phase_kl_divergence[k,:] = np.array([settings[ind,1], settings[ind,2], settings[indices[-1],2], \n",
    "                                                          smoothed_hist_kl_divergence(S_phase_fraction[ind][:,-1], S_phase_fraction[indices[-1]][:,-1])])\n",
    "            G2_phase_kl_divergence[k,:] = np.array([settings[ind,1], settings[ind,2], settings[indices[-1],2], \n",
    "                                                          smoothed_hist_kl_divergence(G2_phase_fraction[ind][:,-1], G2_phase_fraction[indices[-1]][:,-1])])\n",
    "            M_phase_kl_divergence[k,:] = np.array([settings[ind,1], settings[ind,2], settings[indices[-1],2], \n",
    "                                                          smoothed_hist_kl_divergence(M_phase_fraction[ind][:,-1], M_phase_fraction[indices[-1]][:,-1])])\n",
    "        else:\n",
    "            print(\"Unrecognized cell cycle model.\")"
   ]
  },
  {
   "cell_type": "markdown",
   "id": "0a73ed60",
   "metadata": {},
   "source": [
    "## Plot Kullback-Leibler divergence for the distribution of the tumor cell fraction at the final simulation time"
   ]
  },
  {
   "cell_type": "code",
   "execution_count": 153,
   "id": "369db275",
   "metadata": {},
   "outputs": [
    {
     "data": {
      "text/plain": [
       "<Figure size 432x288 with 0 Axes>"
      ]
     },
     "metadata": {},
     "output_type": "display_data"
    },
    {
     "data": {
      "text/plain": [
       "<Figure size 1581x888 with 0 Axes>"
      ]
     },
     "metadata": {},
     "output_type": "display_data"
    },
    {
     "data": {
      "text/plain": [
       "<Figure size 1581x888 with 0 Axes>"
      ]
     },
     "metadata": {},
     "output_type": "display_data"
    },
    {
     "data": {
      "text/plain": [
       "<Figure size 1581x888 with 0 Axes>"
      ]
     },
     "metadata": {},
     "output_type": "display_data"
    },
    {
     "data": {
      "text/plain": [
       "<Figure size 1581x888 with 0 Axes>"
      ]
     },
     "metadata": {},
     "output_type": "display_data"
    },
    {
     "data": {
      "text/plain": [
       "<Figure size 1581x888 with 0 Axes>"
      ]
     },
     "metadata": {},
     "output_type": "display_data"
    },
    {
     "data": {
      "text/plain": [
       "<Figure size 1581x888 with 0 Axes>"
      ]
     },
     "metadata": {},
     "output_type": "display_data"
    },
    {
     "data": {
      "text/plain": [
       "<Figure size 1581x888 with 0 Axes>"
      ]
     },
     "metadata": {},
     "output_type": "display_data"
    },
    {
     "data": {
      "image/png": "[encoded data removed]",
      "text/plain": [
       "<Figure size 1581x888 with 1 Axes>"
      ]
     },
     "metadata": {
      "needs_background": "light"
     },
     "output_type": "display_data"
    }
   ],
   "source": [
    "if cycle_model == 0:\n",
    "    plot_kl_divergence(Ki67_negative_kl_divergence, \"Ki67_neg_frac_NC\")\n",
    "    plot_kl_divergence(Ki67_positive_premitotic_kl_divergence, \"Ki67_pos_pre_frac_NC\")\n",
    "    plot_kl_divergence(Ki67_positive_postmitotic_kl_divergence, \"Ki67_pos_post_frac_NC\")\n",
    "elif cycle_model == 1:\n",
    "    plot_kl_divergence(Ki67_negative_kl_divergence, \"Ki67_neg_frac_NC\")\n",
    "    plot_kl_divergence(Ki67_positive_kl_divergence, \"Ki67_pos_frac_NC\")\n",
    "elif cycle_model == 2:\n",
    "    plot_kl_divergence(G0G1_phase_kl_divergence, \"G0G1_phase_frac_NC\")\n",
    "    plot_kl_divergence(S_phase_kl_divergence, \"S_phase_frac_NC\")\n",
    "    plot_kl_divergence(G2M_phase_kl_divergence, \"G2M_phase_frac_NC\")\n",
    "elif cycle_model == 5:\n",
    "    plot_kl_divergence(live_kl_divergence, \"live_frac_NC\")\n",
    "elif cycle_model == 6:\n",
    "    plot_kl_divergence(G0G1_phase_kl_divergence, \"G0G1_phase_frac_NC\")\n",
    "    plot_kl_divergence(S_phase_kl_divergence, \"S_phase_frac_NC\")\n",
    "    plot_kl_divergence(G2_phase_kl_divergence, \"G2_phase_frac_NC\")\n",
    "    plot_kl_divergence(M_phase_kl_divergence, \"M_phase_frac_NC\")\n",
    "else:\n",
    "    print(\"Unrecognized cell cycle model.\")"
   ]
  },
  {
   "cell_type": "markdown",
   "id": "6a278ffa",
   "metadata": {},
   "source": [
    "## Write *.csv* output file"
   ]
  },
  {
   "cell_type": "code",
   "execution_count": 154,
   "id": "3a963229",
   "metadata": {},
   "outputs": [],
   "source": [
    "if cycle_model == 0:\n",
    "    np.savetxt(os.path.join(output_folder, \"Ki67_neg_frac_NC_kl_divergence.csv\"), Ki67_negative_kl_divergence, delimiter=',', fmt='%.8f',\n",
    "               header=\"NC, P, Q, KL(P||Q)\", comments='')\n",
    "    np.savetxt(os.path.join(output_folder, \"Ki67_pos_pre_frac_NC_kl_divergence.csv\"), Ki67_positive_premitotic_kl_divergence, delimiter=',', fmt='%.8f',\n",
    "               header=\"NC, P, Q, KL(P||Q)\", comments='')\n",
    "    np.savetxt(os.path.join(output_folder, \"Ki67_pos_post_frac_NC_kl_divergence.csv\"), Ki67_positive_postmitotic_kl_divergence, delimiter=',', fmt='%.8f',\n",
    "               header=\"NC, P, Q, KL(P||Q)\", comments='')\n",
    "elif cycle_model == 1:\n",
    "    np.savetxt(os.path.join(output_folder, \"Ki67_neg_frac_NC_kl_divergence.csv\"), Ki67_negative_kl_divergence, delimiter=',', fmt='%.8f',\n",
    "               header=\"NC, P, Q, KL(P||Q)\", comments='')\n",
    "    np.savetxt(os.path.join(output_folder, \"Ki67_pos_frac_NC_kl_divergence.csv\"), Ki67_positive_kl_divergence, delimiter=',', fmt='%.8f',\n",
    "               header=\"NC, P, Q, KL(P||Q)\", comments='')\n",
    "elif cycle_model == 2:\n",
    "    np.savetxt(os.path.join(output_folder, \"G0G1_phase_frac_NC_kl_divergence.csv\"), G0G1_phase_kl_divergence, delimiter=',', fmt='%.8f',\n",
    "               header=\"NC, P, Q, KL(P||Q)\", comments='')\n",
    "    np.savetxt(os.path.join(output_folder, \"S_phase_frac_NC_kl_divergence.csv\"), S_phase_kl_divergence, delimiter=',', fmt='%.8f',\n",
    "               header=\"NC, P, Q, KL(P||Q)\", comments='')\n",
    "    np.savetxt(os.path.join(output_folder, \"G2M_phase_frac_NC_kl_divergence.csv\"), G2M_phase_kl_divergence, delimiter=',', fmt='%.8f',\n",
    "               header=\"NC, P, Q, KL(P||Q)\", comments='')\n",
    "elif cycle_model == 5:\n",
    "    np.savetxt(os.path.join(output_folder, \"live_frac_NC_kl_divergence.csv\"), live_kl_divergence, delimiter=',', fmt='%.8f',\n",
    "               header=\"NC, P, Q, KL(P||Q)\", comments='')\n",
    "elif cycle_model == 6:\n",
    "    np.savetxt(os.path.join(output_folder, \"G0G1_phase_frac_NC_kl_divergence.csv\"), G0G1_phase_kl_divergence, delimiter=',', fmt='%.8f',\n",
    "               header=\"NC, P, Q, KL(P||Q)\", comments='')\n",
    "    np.savetxt(os.path.join(output_folder, \"S_phase_frac_NC_kl_divergence.csv\"), S_phase_kl_divergence, delimiter=',', fmt='%.8f',\n",
    "               header=\"NC, P, Q, KL(P||Q)\", comments='')\n",
    "    np.savetxt(os.path.join(output_folder, \"G2_phase_frac_NC_kl_divergence.csv\"), G2_phase_kl_divergence, delimiter=',', fmt='%.8f',\n",
    "               header=\"NC, P, Q, KL(P||Q)\", comments='')\n",
    "    np.savetxt(os.path.join(output_folder, \"M_phase_frac_NC_kl_divergence.csv\"), M_phase_kl_divergence, delimiter=',', fmt='%.8f',\n",
    "               header=\"NC, P, Q, KL(P||Q)\", comments='')\n",
    "else:\n",
    "    print(\"Unrecognized cell cycle model.\")"
   ]
  },
  {
   "cell_type": "markdown",
   "id": "06d4b7e4",
   "metadata": {},
   "source": [
    "## Compute Kullback-Leibler divergence for the distribution of the tumor cell fraction at the final simulation time"
   ]
  },
  {
   "cell_type": "code",
   "execution_count": 155,
   "id": "1c39d093",
   "metadata": {},
   "outputs": [],
   "source": [
    "num_unique_R = len(np.unique(settings[:,2]))\n",
    "num_kl_divergence = len(np.unique(settings[:,1]))\n",
    "num_columns = 4\n",
    "\n",
    "R10_indices = np.where(settings[:,2] == 10)[0]\n",
    "R20_indices = np.where(settings[:,2] == 20)[0]\n",
    "R50_indices = np.where(settings[:,2] == 50)[0]\n",
    "R100_indices = np.where(settings[:,2] == 100)[0]\n",
    "R200_indices = np.where(settings[:,2] == 200)[0]\n",
    "R300_indices = np.where(settings[:,2] == 300)[0]\n",
    "\n",
    "if cycle_model == 0:\n",
    "    Ki67_negative_kl_divergence = np.zeros((num_unique_R*num_kl_divergence, num_columns))\n",
    "    Ki67_positive_premitotic_kl_divergence = np.zeros((num_unique_R*num_kl_divergence, num_columns))\n",
    "    Ki67_positive_postmitotic_kl_divergence = np.zeros((num_unique_R*num_kl_divergence, num_columns))\n",
    "elif cycle_model == 1:\n",
    "    Ki67_negative_kl_divergence = np.zeros((num_unique_R*num_kl_divergence, num_columns))\n",
    "    Ki67_positive_kl_divergence = np.zeros((num_unique_R*num_kl_divergence, num_columns))\n",
    "elif cycle_model == 2:\n",
    "    G0G1_phase_kl_divergence = np.zeros((num_unique_R*num_kl_divergence, num_columns))\n",
    "    S_phase_kl_divergence = np.zeros((num_unique_R*num_kl_divergence, num_columns))\n",
    "    G2M_phase_kl_divergence = np.zeros((num_unique_R*num_kl_divergence, num_columns))\n",
    "elif cycle_model == 5:\n",
    "    live_kl_divergence = np.zeros((num_unique_R*num_kl_divergence, num_columns))\n",
    "elif cycle_model == 6:\n",
    "    G0G1_phase_kl_divergence = np.zeros((num_unique_R*num_kl_divergence, num_columns))\n",
    "    S_phase_kl_divergence = np.zeros((num_unique_R*num_kl_divergence, num_columns))\n",
    "    G2_phase_kl_divergence = np.zeros((num_unique_R*num_kl_divergence, num_columns))\n",
    "    M_phase_kl_divergence = np.zeros((num_unique_R*num_kl_divergence, num_columns))\n",
    "else:\n",
    "    print(\"Unrecognized cell cycle model.\")\n",
    "\n",
    "for i in range(num_unique_R):\n",
    "    if i == 0:\n",
    "        indices = R10_indices\n",
    "    elif i == 1:\n",
    "        indices = R20_indices\n",
    "    elif i == 2:\n",
    "        indices = R50_indices\n",
    "    elif i == 3:\n",
    "        indices = R100_indices\n",
    "    elif i == 4:\n",
    "        indices = R200_indices\n",
    "    elif i == 5:\n",
    "        indices = R300_indices\n",
    "    \n",
    "    for j, ind in enumerate(indices):\n",
    "        k = i*num_kl_divergence + j\n",
    "            \n",
    "        if cycle_model == 0:\n",
    "            Ki67_negative_kl_divergence[k,:] = np.array([settings[ind,2], settings[ind,1], settings[indices[-1],1], \n",
    "                                                          smoothed_hist_kl_divergence(Ki67_negative_fraction[ind][:,-1], Ki67_negative_fraction[indices[-1]][:,-1])])\n",
    "            Ki67_positive_premitotic_kl_divergence[k,:] = np.array([settings[ind,2], settings[ind,1], settings[indices[-1],1], \n",
    "                                                          smoothed_hist_kl_divergence(Ki67_positive_premitotic_fraction[ind][:,-1], Ki67_positive_premitotic_fraction[indices[-1]][:,-1])])\n",
    "            Ki67_positive_postmitotic_kl_divergence[k,:] = np.array([settings[ind,2], settings[ind,1], settings[indices[-1],1], \n",
    "                                                          smoothed_hist_kl_divergence(Ki67_positive_postmitotic_fraction[ind][:,-1], Ki67_positive_postmitotic_fraction[indices[-1]][:,-1])])\n",
    "        elif cycle_model == 1:\n",
    "            Ki67_negative_kl_divergence[k,:] = np.array([settings[ind,2], settings[ind,1], settings[indices[-1],1], \n",
    "                                                          smoothed_hist_kl_divergence(Ki67_negative_fraction[ind][:,-1], Ki67_negative_fraction[indices[-1]][:,-1])])\n",
    "            Ki67_positive_kl_divergence[k,:] = np.array([settings[ind,2], settings[ind,1], settings[indices[-1],1], \n",
    "                                                          smoothed_hist_kl_divergence(Ki67_positive_fraction[ind][:,-1], Ki67_positive_fraction[indices[-1]][:,-1])])\n",
    "        elif cycle_model == 2:\n",
    "            G0G1_phase_kl_divergence[k,:] = np.array([settings[ind,2], settings[ind,1], settings[indices[-1],1], \n",
    "                                                          smoothed_hist_kl_divergence(G0G1_phase_fraction[ind][:,-1], G0G1_phase_fraction[indices[-1]][:,-1])])\n",
    "            S_phase_kl_divergence[k,:] = np.array([settings[ind,2], settings[ind,1], settings[indices[-1],1], \n",
    "                                                          smoothed_hist_kl_divergence(S_phase_fraction[ind][:,-1], S_phase_fraction[indices[-1]][:,-1])])\n",
    "            G2M_phase_kl_divergence[k,:] = np.array([settings[ind,2], settings[ind,1], settings[indices[-1],1], \n",
    "                                                          smoothed_hist_kl_divergence(G2M_phase_fraction[ind][:,-1], G2M_phase_fraction[indices[-1]][:,-1])])\n",
    "        elif cycle_model == 5:\n",
    "            live_kl_divergence[k,:] = np.array([settings[ind,2], settings[ind,1], settings[indices[-1],1], \n",
    "                                                          smoothed_hist_kl_divergence(live_fraction[ind][:,-1], live_fraction[indices[-1]][:,-1])])\n",
    "        elif cycle_model == 6:\n",
    "            G0G1_phase_kl_divergence[k,:] = np.array([settings[ind,2], settings[ind,1], settings[indices[-1],1], \n",
    "                                                          smoothed_hist_kl_divergence(G0G1_phase_fraction[ind][:,-1], G0G1_phase_fraction[indices[-1]][:,-1])])\n",
    "            S_phase_kl_divergence[k,:] = np.array([settings[ind,2], settings[ind,1], settings[indices[-1],1], \n",
    "                                                          smoothed_hist_kl_divergence(S_phase_fraction[ind][:,-1], S_phase_fraction[indices[-1]][:,-1])])\n",
    "            G2_phase_kl_divergence[k,:] = np.array([settings[ind,2], settings[ind,1], settings[indices[-1],1], \n",
    "                                                          smoothed_hist_kl_divergence(G2_phase_fraction[ind][:,-1], G2_phase_fraction[indices[-1]][:,-1])])\n",
    "            M_phase_kl_divergence[k,:] = np.array([settings[ind,2], settings[ind,1], settings[indices[-1],1], \n",
    "                                                          smoothed_hist_kl_divergence(M_phase_fraction[ind][:,-1], M_phase_fraction[indices[-1]][:,-1])])\n",
    "        else:\n",
    "            print(\"Unrecognized cell cycle model.\")"
   ]
  },
  {
   "cell_type": "markdown",
   "id": "1717c1a9",
   "metadata": {},
   "source": [
    "## Plot Kullback-Leibler divergence for the distribution of the tumor cell fraction at the final simulation time"
   ]
  },
  {
   "cell_type": "code",
   "execution_count": 156,
   "id": "59ecc41f",
   "metadata": {},
   "outputs": [],
   "source": [
    "def plot_kl_divergence(tumor_cell_kl_divergence, cell_cycle_phase_filename, bar_width = 0.25, ticks_factor = 0.5):\n",
    "    bar_data = np.split(tumor_cell_kl_divergence[:,-1], num_unique_R)\n",
    "    for i in range(num_unique_R):\n",
    "        bar_data[i] = bar_data[i][0:num_kl_divergence-1]\n",
    "    bar_data = np.array(bar_data).T.tolist()\n",
    "\n",
    "    bar_pos = [None] * len(bar_data)\n",
    "    bar_pos[0] = np.arange(len(bar_data[0]))\n",
    "    for i in range(1, len(bar_data)):\n",
    "        bar_pos[i] = np.array([x + bar_width for x in bar_pos[i-1]])\n",
    "\n",
    "    bars = []\n",
    "    labels = [\"NC=\" + str(int(i)) for i in np.unique(settings[:,1])]\n",
    "    labels = labels[0:num_kl_divergence-1]\n",
    "    ticks = np.unique(settings[:,2]).astype(int)\n",
    "\n",
    "    plt.clf()\n",
    "    plt.subplots(1, 1, figsize = (5.27, 2.96), dpi = 300)\n",
    "    for i in range(len(bar_data)):\n",
    "        bar = plt.bar(bar_pos[i], bar_data[i], width=bar_width, edgecolor='grey', label=labels[i])\n",
    "        bars.append(bar)\n",
    "    # plt.legend(loc='center left', bbox_to_anchor=(1, 0.5))\n",
    "\n",
    "    plt.xticks([r + ticks_factor*bar_width for r in range(len(bar_data[0]))], ticks)\n",
    "    # plt.xlabel( 'Number of replicates', size=15 ) \n",
    "    # plt.ylabel( 'KL divergence', size=15 )\n",
    "    plt.yscale( 'log' )\n",
    "    plt.savefig(os.path.join(output_folder, cell_cycle_phase_filename + \"_kl_divergence.pdf\"), bbox_inches = 'tight')\n",
    "    \n",
    "    plt.clf()\n",
    "    plt.subplots(1, 1, figsize = (5.27, 2.96), dpi = 300)\n",
    "    plt.legend(bars, labels, loc='center', ncol=5)\n",
    "    plt.axis('off')\n",
    "    plt.savefig(os.path.join(output_folder, cell_cycle_phase_filename + \"_kl_divergence_legend.pdf\"), bbox_inches = 'tight')"
   ]
  },
  {
   "cell_type": "code",
   "execution_count": 157,
   "id": "763de1cf",
   "metadata": {},
   "outputs": [
    {
     "data": {
      "text/plain": [
       "<Figure size 432x288 with 0 Axes>"
      ]
     },
     "metadata": {},
     "output_type": "display_data"
    },
    {
     "data": {
      "text/plain": [
       "<Figure size 1581x888 with 0 Axes>"
      ]
     },
     "metadata": {},
     "output_type": "display_data"
    },
    {
     "data": {
      "text/plain": [
       "<Figure size 1581x888 with 0 Axes>"
      ]
     },
     "metadata": {},
     "output_type": "display_data"
    },
    {
     "data": {
      "text/plain": [
       "<Figure size 1581x888 with 0 Axes>"
      ]
     },
     "metadata": {},
     "output_type": "display_data"
    },
    {
     "data": {
      "text/plain": [
       "<Figure size 1581x888 with 0 Axes>"
      ]
     },
     "metadata": {},
     "output_type": "display_data"
    },
    {
     "data": {
      "text/plain": [
       "<Figure size 1581x888 with 0 Axes>"
      ]
     },
     "metadata": {},
     "output_type": "display_data"
    },
    {
     "data": {
      "text/plain": [
       "<Figure size 1581x888 with 0 Axes>"
      ]
     },
     "metadata": {},
     "output_type": "display_data"
    },
    {
     "data": {
      "text/plain": [
       "<Figure size 1581x888 with 0 Axes>"
      ]
     },
     "metadata": {},
     "output_type": "display_data"
    },
    {
     "data": {
      "image/png": "[encoded data removed]",
      "text/plain": [
       "<Figure size 1581x888 with 1 Axes>"
      ]
     },
     "metadata": {
      "needs_background": "light"
     },
     "output_type": "display_data"
    }
   ],
   "source": [
    "if cycle_model == 0:\n",
    "    plot_kl_divergence(Ki67_negative_kl_divergence, \"Ki67_neg_frac_R\")\n",
    "    plot_kl_divergence(Ki67_positive_premitotic_kl_divergence, \"Ki67_pos_pre_frac_R\")\n",
    "    plot_kl_divergence(Ki67_positive_postmitotic_kl_divergence, \"Ki67_pos_post_frac_R\")\n",
    "elif cycle_model == 1:\n",
    "    plot_kl_divergence(Ki67_negative_kl_divergence, \"Ki67_neg_frac_R\")\n",
    "    plot_kl_divergence(Ki67_positive_kl_divergence, \"Ki67_pos_frac_R\")\n",
    "elif cycle_model == 2:\n",
    "    plot_kl_divergence(G0G1_phase_kl_divergence, \"G0G1_phase_frac_R\")\n",
    "    plot_kl_divergence(S_phase_kl_divergence, \"S_phase_frac_R\")\n",
    "    plot_kl_divergence(G2M_phase_kl_divergence, \"G2M_phase_frac_R\")\n",
    "elif cycle_model == 5:\n",
    "    plot_kl_divergence(live_kl_divergence, \"live_frac_R\")\n",
    "elif cycle_model == 6:\n",
    "    plot_kl_divergence(G0G1_phase_kl_divergence, \"G0G1_phase_frac_R\")\n",
    "    plot_kl_divergence(S_phase_kl_divergence, \"S_phase_frac_R\")\n",
    "    plot_kl_divergence(G2_phase_kl_divergence, \"G2_phase_frac_R\")\n",
    "    plot_kl_divergence(M_phase_kl_divergence, \"M_phase_frac_R\")\n",
    "else:\n",
    "    print(\"Unrecognized cell cycle model.\")"
   ]
  },
  {
   "cell_type": "markdown",
   "id": "41a135d5",
   "metadata": {},
   "source": [
    "## Write *.csv* output file"
   ]
  },
  {
   "cell_type": "code",
   "execution_count": 158,
   "id": "572b048f",
   "metadata": {},
   "outputs": [],
   "source": [
    "if cycle_model == 0:\n",
    "    np.savetxt(os.path.join(output_folder, \"Ki67_neg_frac_R_kl_divergence.csv\"), Ki67_negative_kl_divergence, delimiter=',', fmt='%.8f',\n",
    "               header=\"R, P, Q, KL(P||Q)\", comments='')\n",
    "    np.savetxt(os.path.join(output_folder, \"Ki67_pos_pre_frac_R_kl_divergence.csv\"), Ki67_positive_premitotic_kl_divergence, delimiter=',', fmt='%.8f',\n",
    "               header=\"R, P, Q, KL(P||Q)\", comments='')\n",
    "    np.savetxt(os.path.join(output_folder, \"Ki67_pos_post_frac_R_kl_divergence.csv\"), Ki67_positive_postmitotic_kl_divergence, delimiter=',', fmt='%.8f',\n",
    "               header=\"R, P, Q, KL(P||Q)\", comments='')\n",
    "elif cycle_model == 1:\n",
    "    np.savetxt(os.path.join(output_folder, \"Ki67_neg_frac_R_kl_divergence.csv\"), Ki67_negative_kl_divergence, delimiter=',', fmt='%.8f',\n",
    "               header=\"R, P, Q, KL(P||Q)\", comments='')\n",
    "    np.savetxt(os.path.join(output_folder, \"Ki67_pos_frac_R_kl_divergence.csv\"), Ki67_positive_kl_divergence, delimiter=',', fmt='%.8f',\n",
    "               header=\"R, P, Q, KL(P||Q)\", comments='')\n",
    "elif cycle_model == 2:\n",
    "    np.savetxt(os.path.join(output_folder, \"G0G1_phase_frac_R_kl_divergence.csv\"), G0G1_phase_kl_divergence, delimiter=',', fmt='%.8f',\n",
    "               header=\"R, P, Q, KL(P||Q)\", comments='')\n",
    "    np.savetxt(os.path.join(output_folder, \"S_phase_frac_R_kl_divergence.csv\"), S_phase_kl_divergence, delimiter=',', fmt='%.8f',\n",
    "               header=\"R, P, Q, KL(P||Q)\", comments='')\n",
    "    np.savetxt(os.path.join(output_folder, \"G2M_phase_frac_R_kl_divergence.csv\"), G2M_phase_kl_divergence, delimiter=',', fmt='%.8f',\n",
    "               header=\"R, P, Q, KL(P||Q)\", comments='')\n",
    "elif cycle_model == 5:\n",
    "    np.savetxt(os.path.join(output_folder, \"live_frac_R_kl_divergence.csv\"), live_kl_divergence, delimiter=',', fmt='%.8f',\n",
    "               header=\"R, P, Q, KL(P||Q)\", comments='')\n",
    "elif cycle_model == 6:\n",
    "    np.savetxt(os.path.join(output_folder, \"G0G1_phase_frac_R_kl_divergence.csv\"), G0G1_phase_kl_divergence, delimiter=',', fmt='%.8f',\n",
    "               header=\"R, P, Q, KL(P||Q)\", comments='')\n",
    "    np.savetxt(os.path.join(output_folder, \"S_phase_frac_R_kl_divergence.csv\"), S_phase_kl_divergence, delimiter=',', fmt='%.8f',\n",
    "               header=\"R, P, Q, KL(P||Q)\", comments='')\n",
    "    np.savetxt(os.path.join(output_folder, \"G2_phase_frac_R_kl_divergence.csv\"), G2_phase_kl_divergence, delimiter=',', fmt='%.8f',\n",
    "               header=\"R, P, Q, KL(P||Q)\", comments='')\n",
    "    np.savetxt(os.path.join(output_folder, \"M_phase_frac_R_kl_divergence.csv\"), M_phase_kl_divergence, delimiter=',', fmt='%.8f',\n",
    "               header=\"R, P, Q, KL(P||Q)\", comments='')\n",
    "else:\n",
    "    print(\"Unrecognized cell cycle model.\")"
   ]
  },
  {
   "cell_type": "markdown",
   "id": "768d2fab",
   "metadata": {},
   "source": [
    "## Compute Kullback-Leibler divergence for the distribution of the tumor cell fraction at the final simulation time using the same reference"
   ]
  },
  {
   "cell_type": "code",
   "execution_count": 159,
   "id": "6be5c8f8",
   "metadata": {},
   "outputs": [],
   "source": [
    "num_unique_NC = len(np.unique(settings[:,1]))\n",
    "num_kl_divergence = len(np.unique(settings[:,2]))\n",
    "num_columns = 3\n",
    "\n",
    "NC100_indices = np.where(settings[:,1] == 100)[0]\n",
    "NC500_indices = np.where(settings[:,1] == 500)[0]\n",
    "NC1000_indices = np.where(settings[:,1] == 1000)[0]\n",
    "\n",
    "if cycle_model == 0:\n",
    "    Ki67_negative_kl_divergence = np.zeros((num_unique_NC*num_kl_divergence, num_columns))\n",
    "    Ki67_positive_premitotic_kl_divergence = np.zeros((num_unique_NC*num_kl_divergence, num_columns))\n",
    "    Ki67_positive_postmitotic_kl_divergence = np.zeros((num_unique_NC*num_kl_divergence, num_columns))\n",
    "elif cycle_model == 1:\n",
    "    Ki67_negative_kl_divergence = np.zeros((num_unique_NC*num_kl_divergence, num_columns))\n",
    "    Ki67_positive_kl_divergence = np.zeros((num_unique_NC*num_kl_divergence, num_columns))\n",
    "elif cycle_model == 2:\n",
    "    G0G1_phase_kl_divergence = np.zeros((num_unique_NC*num_kl_divergence, num_columns))\n",
    "    S_phase_kl_divergence = np.zeros((num_unique_NC*num_kl_divergence, num_columns))\n",
    "    G2M_phase_kl_divergence = np.zeros((num_unique_NC*num_kl_divergence, num_columns))\n",
    "elif cycle_model == 5:\n",
    "    live_kl_divergence = np.zeros((num_unique_NC*num_kl_divergence, num_columns))\n",
    "elif cycle_model == 6:\n",
    "    G0G1_phase_kl_divergence = np.zeros((num_unique_NC*num_kl_divergence, num_columns))\n",
    "    S_phase_kl_divergence = np.zeros((num_unique_NC*num_kl_divergence, num_columns))\n",
    "    G2_phase_kl_divergence = np.zeros((num_unique_NC*num_kl_divergence, num_columns))\n",
    "    M_phase_kl_divergence = np.zeros((num_unique_NC*num_kl_divergence, num_columns))\n",
    "else:\n",
    "    print(\"Unrecognized cell cycle model.\")\n",
    "\n",
    "for i in range(num_unique_NC):\n",
    "    if i == 0:\n",
    "        indices = NC100_indices\n",
    "    elif i == 1:\n",
    "        indices = NC500_indices\n",
    "    elif i == 2:\n",
    "        indices = NC1000_indices\n",
    "    \n",
    "    for j, ind in enumerate(indices):\n",
    "        k = i*num_kl_divergence + j\n",
    "            \n",
    "        if cycle_model == 0:\n",
    "            Ki67_negative_kl_divergence[k,:] = np.array([settings[ind,1], settings[ind,2], \n",
    "                                                          smoothed_hist_kl_divergence(Ki67_negative_fraction[ind][:,-1], Ki67_negative_fraction[NC1000_indices[-1]][:,-1])])\n",
    "            Ki67_positive_premitotic_kl_divergence[k,:] = np.array([settings[ind,1], settings[ind,2], \n",
    "                                                          smoothed_hist_kl_divergence(Ki67_positive_premitotic_fraction[ind][:,-1], Ki67_positive_premitotic_fraction[NC1000_indices[-1]][:,-1])])\n",
    "            Ki67_positive_postmitotic_kl_divergence[k,:] = np.array([settings[ind,1], settings[ind,2], \n",
    "                                                          smoothed_hist_kl_divergence(Ki67_positive_postmitotic_fraction[ind][:,-1], Ki67_positive_postmitotic_fraction[NC1000_indices[-1]][:,-1])])\n",
    "        elif cycle_model == 1:\n",
    "            Ki67_negative_kl_divergence[k,:] = np.array([settings[ind,1], settings[ind,2], \n",
    "                                                          smoothed_hist_kl_divergence(Ki67_negative_fraction[ind][:,-1], Ki67_negative_fraction[NC1000_indices[-1]][:,-1])])\n",
    "            Ki67_positive_kl_divergence[k,:] = np.array([settings[ind,1], settings[ind,2], \n",
    "                                                          smoothed_hist_kl_divergence(Ki67_positive_fraction[ind][:,-1], Ki67_positive_fraction[NC1000_indices[-1]][:,-1])])\n",
    "        elif cycle_model == 2:\n",
    "            G0G1_phase_kl_divergence[k,:] = np.array([settings[ind,1], settings[ind,2], \n",
    "                                                          smoothed_hist_kl_divergence(G0G1_phase_fraction[ind][:,-1], G0G1_phase_fraction[NC1000_indices[-1]][:,-1])])\n",
    "            S_phase_kl_divergence[k,:] = np.array([settings[ind,1], settings[ind,2], \n",
    "                                                          smoothed_hist_kl_divergence(S_phase_fraction[ind][:,-1], S_phase_fraction[NC1000_indices[-1]][:,-1])])\n",
    "            G2M_phase_kl_divergence[k,:] = np.array([settings[ind,1], settings[ind,2], \n",
    "                                                          smoothed_hist_kl_divergence(G2M_phase_fraction[ind][:,-1], G2M_phase_fraction[NC1000_indices[-1]][:,-1])])\n",
    "        elif cycle_model == 5:\n",
    "            live_kl_divergence[k,:] = np.array([settings[ind,1], settings[ind,2], \n",
    "                                                          smoothed_hist_kl_divergence(live_fraction[ind][:,-1], live_fraction[NC1000_indices[-1]][:,-1])])\n",
    "        elif cycle_model == 6:\n",
    "            G0G1_phase_kl_divergence[k,:] = np.array([settings[ind,1], settings[ind,2], \n",
    "                                                          smoothed_hist_kl_divergence(G0G1_phase_fraction[ind][:,-1], G0G1_phase_fraction[NC1000_indices[-1]][:,-1])])\n",
    "            S_phase_kl_divergence[k,:] = np.array([settings[ind,1], settings[ind,2], \n",
    "                                                          smoothed_hist_kl_divergence(S_phase_fraction[ind][:,-1], S_phase_fraction[NC1000_indices[-1]][:,-1])])\n",
    "            G2_phase_kl_divergence[k,:] = np.array([settings[ind,1], settings[ind,2], \n",
    "                                                          smoothed_hist_kl_divergence(G2_phase_fraction[ind][:,-1], G2_phase_fraction[NC1000_indices[-1]][:,-1])])\n",
    "            M_phase_kl_divergence[k,:] = np.array([settings[ind,1], settings[ind,2], \n",
    "                                                          smoothed_hist_kl_divergence(M_phase_fraction[ind][:,-1], M_phase_fraction[NC1000_indices[-1]][:,-1])])\n",
    "        else:\n",
    "            print(\"Unrecognized cell cycle model.\")"
   ]
  },
  {
   "cell_type": "markdown",
   "id": "8ef105c3",
   "metadata": {},
   "source": [
    "## Plot Kullback-Leibler divergence for the distribution of the tumor cell fraction at the final simulation time using the same reference"
   ]
  },
  {
   "cell_type": "code",
   "execution_count": 160,
   "id": "3689d58c",
   "metadata": {},
   "outputs": [],
   "source": [
    "def heatmap(data, row_labels, col_labels, ax=None, cbar_kw={}, cbarlabel=\"\", **kwargs):\n",
    "    \"\"\"\n",
    "    Create a heatmap from a numpy array and two lists of labels.\n",
    "\n",
    "    Parameters\n",
    "    ----------\n",
    "    data\n",
    "        A 2D numpy array of shape (N, M).\n",
    "    row_labels\n",
    "        A list or array of length N with the labels for the rows.\n",
    "    col_labels\n",
    "        A list or array of length M with the labels for the columns.\n",
    "    ax\n",
    "        A `matplotlib.axes.Axes` instance to which the heatmap is plotted.  If\n",
    "        not provided, use current axes or create a new one.  Optional.\n",
    "    cbar_kw\n",
    "        A dictionary with arguments to `matplotlib.Figure.colorbar`.  Optional.\n",
    "    cbarlabel\n",
    "        The label for the colorbar.  Optional.\n",
    "    **kwargs\n",
    "        All other arguments are forwarded to `imshow`.\n",
    "    \"\"\"\n",
    "\n",
    "    if not ax:\n",
    "        ax = plt.gca()\n",
    "\n",
    "    # Plot the heatmap\n",
    "    im = ax.imshow(data, **kwargs)\n",
    "\n",
    "    # Create colorbar\n",
    "    im_ratio = data.shape[0]/data.shape[1]\n",
    "    cbar = ax.figure.colorbar(im, ax=ax, fraction=0.046*im_ratio, pad=0.04, **cbar_kw)\n",
    "    cbar.ax.set_ylabel(cbarlabel, rotation=-90, va=\"bottom\")\n",
    "\n",
    "    # We want to show all ticks...\n",
    "    ax.set_xticks(np.arange(data.shape[1]))\n",
    "    ax.set_yticks(np.arange(data.shape[0]))\n",
    "    # ... and label them with the respective list entries.\n",
    "    ax.set_xticklabels(col_labels)\n",
    "    ax.set_yticklabels(row_labels)\n",
    "\n",
    "    # Let the horizontal axes labeling appear on top.\n",
    "    ax.tick_params(top=True, bottom=False,\n",
    "                   labeltop=True, labelbottom=False)\n",
    "\n",
    "    # Rotate the tick labels and set their alignment.\n",
    "    # plt.setp(ax.get_xticklabels(), rotation=-30, ha=\"right\",\n",
    "    # \t\t rotation_mode=\"anchor\")\n",
    "\n",
    "    # Turn spines off and create white grid.\n",
    "    ax.spines['left'].set_visible(False)\n",
    "    ax.spines['right'].set_visible(False)\n",
    "    ax.spines['top'].set_visible(False)\n",
    "    ax.spines['bottom'].set_visible(False)\n",
    "\n",
    "    ax.set_xticks(np.arange(data.shape[1]+1)-.5, minor=True)\n",
    "    ax.set_yticks(np.arange(data.shape[0]+1)-.5, minor=True)\n",
    "    ax.grid(which=\"minor\", color=\"w\", linestyle='-', linewidth=3)\n",
    "    ax.tick_params(which=\"minor\", bottom=False, left=False)\n",
    "\n",
    "    return im, cbar\n",
    "\n",
    "def annotate_heatmap(im, data=None, valfmt=\"{x:.2f}\", textcolors=(\"black\", \"white\"), threshold=None, **textkw):\n",
    "    \"\"\"\n",
    "    A function to annotate a heatmap.\n",
    "\n",
    "    Parameters\n",
    "    ----------\n",
    "    im\n",
    "        The AxesImage to be labeled.\n",
    "    data\n",
    "        Data used to annotate.  If None, the image's data is used.  Optional.\n",
    "    valfmt\n",
    "        The format of the annotations inside the heatmap.  This should either\n",
    "        use the string format method, e.g. \"$ {x:.2f}\", or be a\n",
    "        `matplotlib.ticker.Formatter`.  Optional.\n",
    "    textcolors\n",
    "        A pair of colors.  The first is used for values below a threshold,\n",
    "        the second for those above.  Optional.\n",
    "    threshold\n",
    "        Value in data units according to which the colors from textcolors are\n",
    "        applied.  If None (the default) uses the middle of the colormap as\n",
    "        separation.  Optional.\n",
    "    **kwargs\n",
    "        All other arguments are forwarded to each call to `text` used to create\n",
    "        the text labels.\n",
    "    \"\"\"\n",
    "\n",
    "    if not isinstance(data, (list, np.ndarray)):\n",
    "        data = im.get_array()\n",
    "\n",
    "    # Normalize the threshold to the images color range.\n",
    "    if threshold is not None:\n",
    "        threshold = im.norm(threshold)\n",
    "    else:\n",
    "        threshold = im.norm(data.max())/2.\n",
    "\n",
    "    # Set default alignment to center, but allow it to be\n",
    "    # overwritten by textkw.\n",
    "    kw = dict(horizontalalignment=\"center\",\n",
    "              verticalalignment=\"center\")\n",
    "    kw.update(textkw)\n",
    "\n",
    "    # Get the formatter in case a string is supplied\n",
    "    if isinstance(valfmt, str):\n",
    "        valfmt = matplotlib.ticker.StrMethodFormatter(valfmt)\n",
    "\n",
    "    # Loop over the data and create a `Text` for each \"pixel\".\n",
    "    # Change the text's color depending on the data.\n",
    "    texts = []\n",
    "    for i in range(data.shape[0]):\n",
    "        for j in range(data.shape[1]):\n",
    "            # kw.update(color=textcolors[int(im.norm(data[i, j]) > threshold)])\n",
    "            text = im.axes.text(j, i, valfmt(data[i, j], None), **kw)\n",
    "            texts.append(text)\n",
    "\n",
    "    return texts"
   ]
  },
  {
   "cell_type": "code",
   "execution_count": 161,
   "id": "e0dce543",
   "metadata": {},
   "outputs": [],
   "source": [
    "number_of_cells = np.unique(settings[:,1])\n",
    "num_replicates = np.unique(settings[:,2])\n",
    "\n",
    "number_of_cells_labels = number_of_cells.astype(int).astype(str)\n",
    "num_replicates_labels = num_replicates.astype(int).astype(str)\n",
    "\n",
    "if cycle_model == 0:\n",
    "    Ki67_negative_kl_divergence_heatmap = Ki67_negative_kl_divergence[:,-1]\n",
    "    Ki67_positive_premitotic_kl_divergence_heatmap = Ki67_positive_premitotic_kl_divergence[:,-1]\n",
    "    Ki67_positive_postmitotic_kl_divergence_heatmap = Ki67_positive_postmitotic_kl_divergence[:,-1]\n",
    "    \n",
    "    Ki67_negative_kl_divergence_heatmap = Ki67_negative_kl_divergence_heatmap.reshape((len(number_of_cells), len(num_replicates)))\n",
    "    Ki67_positive_premitotic_kl_divergence_heatmap = Ki67_positive_premitotic_kl_divergence_heatmap.reshape((len(number_of_cells), len(num_replicates)))\n",
    "    Ki67_positive_postmitotic_kl_divergence_heatmap = Ki67_positive_postmitotic_kl_divergence_heatmap.reshape((len(number_of_cells), len(num_replicates)))\n",
    "    \n",
    "    Ki67_negative_kl_divergence_heatmap = np.transpose(Ki67_negative_kl_divergence_heatmap)\n",
    "    Ki67_positive_premitotic_kl_divergence_heatmap = np.transpose(Ki67_positive_premitotic_kl_divergence_heatmap)\n",
    "    Ki67_positive_postmitotic_kl_divergence_heatmap = np.transpose(Ki67_positive_postmitotic_kl_divergence_heatmap)\n",
    "elif cycle_model == 1:\n",
    "    Ki67_negative_kl_divergence_heatmap = Ki67_negative_kl_divergence[:,-1]\n",
    "    Ki67_positive_kl_divergence_heatmap = Ki67_positive_kl_divergence[:,-1]\n",
    "    \n",
    "    Ki67_negative_kl_divergence_heatmap = Ki67_negative_kl_divergence_heatmap.reshape((len(number_of_cells), len(num_replicates)))\n",
    "    Ki67_positive_kl_divergence_heatmap = Ki67_positive_kl_divergence_heatmap.reshape((len(number_of_cells), len(num_replicates)))\n",
    "    \n",
    "    Ki67_negative_kl_divergence_heatmap = np.transpose(Ki67_negative_kl_divergence_heatmap)\n",
    "    Ki67_positive_kl_divergence_heatmap = np.transpose(Ki67_positive_kl_divergence_heatmap)\n",
    "elif cycle_model == 2:\n",
    "    G0G1_phase_kl_divergence_heatmap = G0G1_phase_kl_divergence[:,-1]\n",
    "    S_phase_kl_divergence_heatmap = S_phase_kl_divergence[:,-1]\n",
    "    G2M_phase_kl_divergence_heatmap = G2M_phase_kl_divergence[:,-1]\n",
    "    \n",
    "    G0G1_phase_kl_divergence_heatmap = G0G1_phase_kl_divergence_heatmap.reshape((len(number_of_cells), len(num_replicates)))\n",
    "    S_phase_kl_divergence_heatmap = S_phase_kl_divergence_heatmap.reshape((len(number_of_cells), len(num_replicates)))\n",
    "    G2M_phase_kl_divergence_heatmap = G2M_phase_kl_divergence_heatmap.reshape((len(number_of_cells), len(num_replicates)))\n",
    "    \n",
    "    G0G1_phase_kl_divergence_heatmap = np.transpose(G0G1_phase_kl_divergence_heatmap)\n",
    "    S_phase_kl_divergence_heatmap = np.transpose(S_phase_kl_divergence_heatmap)\n",
    "    G2M_phase_kl_divergence_heatmap = np.transpose(G2M_phase_kl_divergence_heatmap)\n",
    "elif cycle_model == 5:\n",
    "    live_kl_divergence_heatmap = live_kl_divergence[:,-1]\n",
    "    \n",
    "    live_kl_divergence_heatmap = live_kl_divergence_heatmap.reshape((len(number_of_cells), len(num_replicates)))\n",
    "    \n",
    "    live_kl_divergence_heatmap = np.transpose(live_kl_divergence_heatmap)\n",
    "elif cycle_model == 6:\n",
    "    G0G1_phase_kl_divergence_heatmap = G0G1_phase_kl_divergence[:,-1]\n",
    "    S_phase_kl_divergence_heatmap = S_phase_kl_divergence[:,-1]\n",
    "    G2_phase_kl_divergence_heatmap = G2_phase_kl_divergence[:,-1]\n",
    "    M_phase_kl_divergence_heatmap = M_phase_kl_divergence[:,-1]\n",
    "    \n",
    "    G0G1_phase_kl_divergence_heatmap = G0G1_phase_kl_divergence_heatmap.reshape((len(number_of_cells), len(num_replicates)))\n",
    "    S_phase_kl_divergence_heatmap = S_phase_kl_divergence_heatmap.reshape((len(number_of_cells), len(num_replicates)))\n",
    "    G2_phase_kl_divergence_heatmap = G2_phase_kl_divergence_heatmap.reshape((len(number_of_cells), len(num_replicates)))\n",
    "    M_phase_kl_divergence_heatmap = M_phase_kl_divergence_heatmap.reshape((len(number_of_cells), len(num_replicates)))\n",
    "    \n",
    "    G0G1_phase_kl_divergence_heatmap = np.transpose(G0G1_phase_kl_divergence_heatmap)\n",
    "    S_phase_kl_divergence_heatmap = np.transpose(S_phase_kl_divergence_heatmap)\n",
    "    G2_phase_kl_divergence_heatmap = np.transpose(G2_phase_kl_divergence_heatmap)\n",
    "    M_phase_kl_divergence_heatmap = np.transpose(M_phase_kl_divergence_heatmap)\n",
    "else:\n",
    "    print(\"Unrecognized cell cycle model.\")"
   ]
  },
  {
   "cell_type": "code",
   "execution_count": 162,
   "id": "77755ae2",
   "metadata": {},
   "outputs": [],
   "source": [
    "def plot_heatmap(heatmap_data, cell_cycle_phase_filename):\n",
    "    plt.clf()\n",
    "    fig, ax = plt.subplots(1, 1, figsize = (5.27, 2.96), dpi = 300)\n",
    "    im, cbar = heatmap(heatmap_data, num_replicates_labels, number_of_cells_labels, ax=ax, cmap=\"Greens\", norm=matplotlib.colors.LogNorm(vmin=1.0e-3, vmax=1.0e1)) #cbarlabel=\"KL divergence\",\n",
    "    cbar.remove()\n",
    "    # texts = annotate_heatmap(im, valfmt=\"{x:.1f}\")\n",
    "\n",
    "    # plt.xlabel( \"Initial number of cells\", size=10 )\n",
    "    ax.xaxis.set_label_position('top') \n",
    "    # plt.ylabel( \"Number of replicates\", size=10 )\n",
    "    plt.savefig(os.path.join(output_folder, cell_cycle_phase_filename + \"_kl_divergence_same_ref.pdf\"), bbox_inches = 'tight')\n",
    "    \n",
    "    plt.clf()\n",
    "    fig, ax = plt.subplots(1, 1, figsize = (1.48, 2.96), dpi = 300)\n",
    "    \n",
    "    im_ratio = heatmap_data.shape[0]/heatmap_data.shape[1]\n",
    "    cbar = ax.figure.colorbar(im, ax=ax, fraction=0.046*im_ratio, pad=0.04, cmap=\"Greens\", norm=matplotlib.colors.LogNorm(vmin=1.0e-3, vmax=1.0e1))\n",
    "    plt.gca().set_visible(False)\n",
    "    \n",
    "    plt.savefig(os.path.join(output_folder, cell_cycle_phase_filename + \"_kl_divergence_same_ref_colorbar.pdf\"), bbox_inches = 'tight')"
   ]
  },
  {
   "cell_type": "code",
   "execution_count": 163,
   "id": "be638d96",
   "metadata": {},
   "outputs": [
    {
     "data": {
      "text/plain": [
       "<Figure size 432x288 with 0 Axes>"
      ]
     },
     "metadata": {},
     "output_type": "display_data"
    },
    {
     "data": {
      "text/plain": [
       "<Figure size 1581x888 with 0 Axes>"
      ]
     },
     "metadata": {},
     "output_type": "display_data"
    },
    {
     "data": {
      "text/plain": [
       "<Figure size 444x888 with 0 Axes>"
      ]
     },
     "metadata": {},
     "output_type": "display_data"
    },
    {
     "data": {
      "text/plain": [
       "<Figure size 1581x888 with 0 Axes>"
      ]
     },
     "metadata": {},
     "output_type": "display_data"
    },
    {
     "data": {
      "text/plain": [
       "<Figure size 444x888 with 0 Axes>"
      ]
     },
     "metadata": {},
     "output_type": "display_data"
    },
    {
     "data": {
      "text/plain": [
       "<Figure size 1581x888 with 0 Axes>"
      ]
     },
     "metadata": {},
     "output_type": "display_data"
    },
    {
     "data": {
      "text/plain": [
       "<Figure size 444x888 with 0 Axes>"
      ]
     },
     "metadata": {},
     "output_type": "display_data"
    },
    {
     "data": {
      "text/plain": [
       "<Figure size 1581x888 with 0 Axes>"
      ]
     },
     "metadata": {},
     "output_type": "display_data"
    },
    {
     "data": {
      "image/png": "[encoded data removed]",
      "text/plain": [
       "<Figure size 444x888 with 2 Axes>"
      ]
     },
     "metadata": {
      "needs_background": "light"
     },
     "output_type": "display_data"
    }
   ],
   "source": [
    "if cycle_model == 0:\n",
    "    plot_heatmap(Ki67_negative_kl_divergence_heatmap, \"Ki67_neg_frac\")\n",
    "    plot_heatmap(Ki67_positive_premitotic_kl_divergence_heatmap, \"Ki67_pos_pre_frac\")\n",
    "    plot_heatmap(Ki67_positive_postmitotic_kl_divergence_heatmap, \"Ki67_pos_post_frac\")\n",
    "elif cycle_model == 1:\n",
    "    plot_heatmap(Ki67_negative_kl_divergence_heatmap, \"Ki67_neg_frac\")\n",
    "    plot_heatmap(Ki67_positive_kl_divergence_heatmap, \"Ki67_pos_frac\")\n",
    "elif cycle_model == 2:\n",
    "    plot_heatmap(G0G1_phase_kl_divergence_heatmap, \"G0G1_phase_frac\")\n",
    "    plot_heatmap(S_phase_kl_divergence_heatmap, \"S_phase_frac\")\n",
    "    plot_heatmap(G2M_phase_kl_divergence_heatmap, \"G2M_phase_frac\")\n",
    "elif cycle_model == 5:\n",
    "    plot_heatmap(live_kl_divergence_heatmap, \"live_frac\")\n",
    "elif cycle_model == 6:\n",
    "    plot_heatmap(G0G1_phase_kl_divergence_heatmap, \"G0G1_phase_frac\")\n",
    "    plot_heatmap(S_phase_kl_divergence_heatmap, \"S_phase_frac\")\n",
    "    plot_heatmap(G2_phase_kl_divergence_heatmap, \"G2_phase_frac\")\n",
    "    plot_heatmap(M_phase_kl_divergence_heatmap, \"M_phase_frac\")\n",
    "else:\n",
    "    print(\"Unrecognized cell cycle model.\")"
   ]
  },
  {
   "cell_type": "markdown",
   "id": "98e3c232",
   "metadata": {},
   "source": [
    "## Write *.csv* output file"
   ]
  },
  {
   "cell_type": "code",
   "execution_count": 164,
   "id": "21191fc5",
   "metadata": {},
   "outputs": [],
   "source": [
    "if cycle_model == 0:\n",
    "    np.savetxt(os.path.join(output_folder, \"Ki67_neg_frac_NC_kl_divergence_same_ref.csv\"), Ki67_negative_kl_divergence, delimiter=',', fmt='%.8f',\n",
    "               header=\"NC, R, KL(P||Q)\", comments='')\n",
    "    np.savetxt(os.path.join(output_folder, \"Ki67_pos_pre_frac_NC_kl_divergence_same_ref.csv\"), Ki67_positive_premitotic_kl_divergence, delimiter=',', fmt='%.8f',\n",
    "               header=\"NC, R, KL(P||Q)\", comments='')\n",
    "    np.savetxt(os.path.join(output_folder, \"Ki67_pos_post_frac_NC_kl_divergence_same_ref.csv\"), Ki67_positive_postmitotic_kl_divergence, delimiter=',', fmt='%.8f',\n",
    "               header=\"NC, R, KL(P||Q)\", comments='')\n",
    "elif cycle_model == 1:\n",
    "    np.savetxt(os.path.join(output_folder, \"Ki67_neg_frac_NC_kl_divergence_same_ref.csv\"), Ki67_negative_kl_divergence, delimiter=',', fmt='%.8f',\n",
    "               header=\"NC, R, KL(P||Q)\", comments='')\n",
    "    np.savetxt(os.path.join(output_folder, \"Ki67_pos_frac_NC_kl_divergence_same_ref.csv\"), Ki67_positive_kl_divergence, delimiter=',', fmt='%.8f',\n",
    "               header=\"NC, R, KL(P||Q)\", comments='')\n",
    "elif cycle_model == 2:\n",
    "    np.savetxt(os.path.join(output_folder, \"G0G1_phase_frac_NC_kl_divergence_same_ref.csv\"), G0G1_phase_kl_divergence, delimiter=',', fmt='%.8f',\n",
    "               header=\"NC, R, KL(P||Q)\", comments='')\n",
    "    np.savetxt(os.path.join(output_folder, \"S_phase_frac_NC_kl_divergence_same_ref.csv\"), S_phase_kl_divergence, delimiter=',', fmt='%.8f',\n",
    "               header=\"NC, R, KL(P||Q)\", comments='')\n",
    "    np.savetxt(os.path.join(output_folder, \"G2M_phase_frac_NC_kl_divergence_same_ref.csv\"), G2M_phase_kl_divergence, delimiter=',', fmt='%.8f',\n",
    "               header=\"NC, R, KL(P||Q)\", comments='')\n",
    "elif cycle_model == 5:\n",
    "    np.savetxt(os.path.join(output_folder, \"live_frac_NC_kl_divergence_same_ref.csv\"), live_kl_divergence, delimiter=',', fmt='%.8f',\n",
    "               header=\"NC, R, KL(P||Q)\", comments='')\n",
    "elif cycle_model == 6:\n",
    "    np.savetxt(os.path.join(output_folder, \"G0G1_phase_frac_NC_kl_divergence_same_ref.csv\"), G0G1_phase_kl_divergence, delimiter=',', fmt='%.8f',\n",
    "               header=\"NC, R, KL(P||Q)\", comments='')\n",
    "    np.savetxt(os.path.join(output_folder, \"S_phase_frac_NC_kl_divergence_same_ref.csv\"), S_phase_kl_divergence, delimiter=',', fmt='%.8f',\n",
    "               header=\"NC, R, KL(P||Q)\", comments='')\n",
    "    np.savetxt(os.path.join(output_folder, \"G2_phase_frac_NC_kl_divergence_same_ref.csv\"), G2_phase_kl_divergence, delimiter=',', fmt='%.8f',\n",
    "               header=\"NC, R, KL(P||Q)\", comments='')\n",
    "    np.savetxt(os.path.join(output_folder, \"M_phase_frac_NC_kl_divergence_same_ref.csv\"), M_phase_kl_divergence, delimiter=',', fmt='%.8f',\n",
    "               header=\"NC, R, KL(P||Q)\", comments='')\n",
    "else:\n",
    "    print(\"Unrecognized cell cycle model.\")"
   ]
  },
  {
   "cell_type": "code",
   "execution_count": null,
   "id": "14d6a006",
   "metadata": {},
   "outputs": [],
   "source": []
  }
 ],
 "metadata": {
  "kernelspec": {
   "display_name": "Python 3",
   "language": "python",
   "name": "python3"
  },
  "language_info": {
   "codemirror_mode": {
    "name": "ipython",
    "version": 3
   },
   "file_extension": ".py",
   "mimetype": "text/x-python",
   "name": "python",
   "nbconvert_exporter": "python",
   "pygments_lexer": "ipython3",
   "version": "3.8.2"
  }
 },
 "nbformat": 4,
 "nbformat_minor": 5
}
