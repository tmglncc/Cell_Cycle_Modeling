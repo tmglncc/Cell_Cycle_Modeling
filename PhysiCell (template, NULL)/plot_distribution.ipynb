{
 "cells": [
  {
   "cell_type": "markdown",
   "id": "b2801f3f",
   "metadata": {},
   "source": [
    "# Plotting the distribution of the tumor cell population and fraction"
   ]
  },
  {
   "cell_type": "markdown",
   "id": "06d94f18",
   "metadata": {},
   "source": [
    "## Import libraries"
   ]
  },
  {
   "cell_type": "code",
   "execution_count": 1,
   "id": "2ba17066",
   "metadata": {},
   "outputs": [],
   "source": [
    "# %matplotlib notebook\n",
    "#  add Python-loader repo to the path \n",
    "import sys\n",
    "sys.path.insert(0, '../Python-loader/')\n",
    "from pyMCDS import pyMCDS\n",
    "\n",
    "import numpy as np\n",
    "import matplotlib.pyplot as plt\n",
    "import os\n",
    "from scipy.integrate import odeint"
   ]
  },
  {
   "cell_type": "markdown",
   "id": "e020b8dc",
   "metadata": {},
   "source": [
    "## Define cell cycle model"
   ]
  },
  {
   "cell_type": "code",
   "execution_count": 196,
   "id": "871f6a59",
   "metadata": {},
   "outputs": [],
   "source": [
    "# CELL CYCLE MODELS\n",
    "### advanced_Ki67_cycle_model = 0\n",
    "### basic_Ki67_cycle_model = 1\n",
    "### flow_cytometry_cycle_model = 2\n",
    "### live_apoptotic_cycle_model = 3\n",
    "### total_cells_cycle_model = 4\n",
    "### live_cells_cycle_model = 5 \n",
    "### flow_cytometry_separated_cycle_model = 6\n",
    "### cycling_quiescent_model = 7\n",
    "cycle_model = 1\n",
    "\n",
    "# output_folder = \"output_Experimental_Settings_R300/output_Live_dt6_NC1000_R50/\"\n",
    "output_folder = \"output_Experimental_Settings_R300/output_Ki67_Basic_dt6_NC1000_R50/\"\n",
    "# output_folder = \"output_Ki67_Advanced_dt6_NC100_R100/\"\n",
    "# output_folder = \"output_Flow_Cytometry_dt6_NC100_R100/\"\n",
    "# output_folder = \"output_Separated_Flow_Cytometry_dt6_NC100_R100/\""
   ]
  },
  {
   "cell_type": "markdown",
   "id": "3a8897bd",
   "metadata": {},
   "source": [
    "## List output folders"
   ]
  },
  {
   "cell_type": "code",
   "execution_count": 197,
   "id": "92db4bec",
   "metadata": {},
   "outputs": [
    {
     "data": {
      "text/plain": [
       "['absolute_error.csv',\n",
       " 'absolute_error.pdf',\n",
       " 'convergence_fraction.pdf',\n",
       " 'cost.csv',\n",
       " 'csse.csv',\n",
       " 'csse.pdf',\n",
       " 'data_fraction.csv',\n",
       " 'data_fraction_std.csv',\n",
       " 'data_population.csv',\n",
       " 'data_population_std.csv',\n",
       " 'ergodic_mean.pdf',\n",
       " 'fraction_comparison.pdf',\n",
       " 'geweke.pdf',\n",
       " 'output_R00',\n",
       " 'output_R01',\n",
       " 'output_R02',\n",
       " 'output_R03',\n",
       " 'output_R04',\n",
       " 'output_R05',\n",
       " 'output_R06',\n",
       " 'output_R07',\n",
       " 'output_R08',\n",
       " 'output_R09',\n",
       " 'output_R10',\n",
       " 'output_R11',\n",
       " 'output_R12',\n",
       " 'output_R13',\n",
       " 'output_R14',\n",
       " 'output_R15',\n",
       " 'output_R16',\n",
       " 'output_R17',\n",
       " 'output_R18',\n",
       " 'output_R19',\n",
       " 'output_R20',\n",
       " 'output_R21',\n",
       " 'output_R22',\n",
       " 'output_R23',\n",
       " 'output_R24',\n",
       " 'output_R25',\n",
       " 'output_R26',\n",
       " 'output_R27',\n",
       " 'output_R28',\n",
       " 'output_R29',\n",
       " 'output_R30',\n",
       " 'output_R31',\n",
       " 'output_R32',\n",
       " 'output_R33',\n",
       " 'output_R34',\n",
       " 'output_R35',\n",
       " 'output_R36',\n",
       " 'output_R37',\n",
       " 'output_R38',\n",
       " 'output_R39',\n",
       " 'output_R40',\n",
       " 'output_R41',\n",
       " 'output_R42',\n",
       " 'output_R43',\n",
       " 'output_R44',\n",
       " 'output_R45',\n",
       " 'output_R46',\n",
       " 'output_R47',\n",
       " 'output_R48',\n",
       " 'output_R49',\n",
       " 'squared_error.csv',\n",
       " 'stochastic_fraction.pdf',\n",
       " 'stochastic_population.pdf']"
      ]
     },
     "execution_count": 197,
     "metadata": {},
     "output_type": "execute_result"
    }
   ],
   "source": [
    "## Type pyMCDS. and hit the tab key to see methods \n",
    "\n",
    "sorted(os.listdir(\"./\"+output_folder))"
   ]
  },
  {
   "cell_type": "markdown",
   "id": "155a6234",
   "metadata": {},
   "source": [
    "## List *.xml* output files from one replicate"
   ]
  },
  {
   "cell_type": "code",
   "execution_count": 198,
   "id": "fc415d5d",
   "metadata": {},
   "outputs": [
    {
     "name": "stdout",
     "output_type": "stream",
     "text": [
      "['./output_Experimental_Settings_R300/output_Ki67_Basic_dt6_NC1000_R50/output_R00/PhysiCell_settings_Ki67_Basic_without_o2_apop_nec.xml', './output_Experimental_Settings_R300/output_Ki67_Basic_dt6_NC1000_R50/output_R00/final.xml', './output_Experimental_Settings_R300/output_Ki67_Basic_dt6_NC1000_R50/output_R00/initial.xml']\n"
     ]
    }
   ],
   "source": [
    "## Type pyMCDS. and hit the tab key to see methods \n",
    "\n",
    "file_list = []\n",
    "for file in os.listdir(\"./\"+output_folder+\"output_R00/\"):\n",
    "    if file.endswith(\".xml\"):\n",
    "        file_list.append(os.path.join(\"./\"+output_folder+\"output_R00/\", file))\n",
    "print(sorted(file_list))"
   ]
  },
  {
   "cell_type": "markdown",
   "id": "46c0fe27",
   "metadata": {},
   "source": [
    "## Compute the number of each tumor cell phenotype over all replicates and simulation times"
   ]
  },
  {
   "cell_type": "code",
   "execution_count": 199,
   "id": "22d9b6a2",
   "metadata": {},
   "outputs": [],
   "source": [
    "# num_replicates = 10;\n",
    "# last_index = 120;\n",
    "\n",
    "# times = np.zeros( last_index+1 ); \n",
    "# if cycle_model == 0:\n",
    "#     Ki67_negative_count = np.zeros( (num_replicates, last_index+1) ); \n",
    "#     Ki67_positive_premitotic_count = np.zeros( (num_replicates, last_index+1) ); \n",
    "#     Ki67_positive_postmitotic_count = np.zeros( (num_replicates, last_index+1) ); \n",
    "# elif cycle_model == 1:\n",
    "#     Ki67_negative_count = np.zeros( (num_replicates, last_index+1) ); \n",
    "#     Ki67_positive_count = np.zeros( (num_replicates, last_index+1) ); \n",
    "# elif cycle_model == 2:\n",
    "#     G0G1_phase_count = np.zeros( (num_replicates, last_index+1) ); \n",
    "#     S_phase_count = np.zeros( (num_replicates, last_index+1) ); \n",
    "#     G2M_phase_count = np.zeros( (num_replicates, last_index+1) ); \n",
    "# elif cycle_model == 5:\n",
    "#     live_count = np.zeros( (num_replicates, last_index+1) ); \n",
    "# elif cycle_model == 6:\n",
    "#     G0G1_phase_count = np.zeros( (num_replicates, last_index+1) ); \n",
    "#     S_phase_count = np.zeros( (num_replicates, last_index+1) ); \n",
    "#     G2_phase_count = np.zeros( (num_replicates, last_index+1) ); \n",
    "#     M_phase_count = np.zeros( (num_replicates, last_index+1) ); \n",
    "# else:\n",
    "#     print(\"Unrecognized cell cycle model.\")\n",
    "# apoptotic_count = np.zeros( (num_replicates, last_index+1) ); \n",
    "# necrotic_count = np.zeros( (num_replicates, last_index+1) ); \n",
    "\n",
    "# for id_replicate in range(num_replicates):\n",
    "#     folder_name = output_folder+\"output_R\"+str(\"%02d\"%id_replicate)+'/'\n",
    "#     for n in range( 0, last_index+1 ):\n",
    "#         filename = 'output'+\"%08i\"%n+'.xml'\n",
    "#         mcds = pyMCDS(filename, folder_name)\n",
    "\n",
    "#         times[n] = mcds.get_time()\n",
    "#         cp = mcds.data['discrete_cells']['current_phase']\n",
    "#         if cycle_model == 0:\n",
    "#             Ki67_negative = np.argwhere( cp == 3 ).flatten()\n",
    "#             Ki67_positive_premitotic = np.argwhere( cp == 0 ).flatten()\n",
    "#             Ki67_positive_postmitotic = np.argwhere( cp == 1 ).flatten()\n",
    "\n",
    "#             Ki67_negative_count[id_replicate][n] = len( Ki67_negative )\n",
    "#             Ki67_positive_premitotic_count[id_replicate][n] = len( Ki67_positive_premitotic )\n",
    "#             Ki67_positive_postmitotic_count[id_replicate][n] = len( Ki67_positive_postmitotic )\n",
    "#         elif cycle_model == 1:\n",
    "#             Ki67_negative = np.argwhere( cp == 3 ).flatten()\n",
    "#             Ki67_positive = np.argwhere( cp == 2 ).flatten()\n",
    "\n",
    "#             Ki67_negative_count[id_replicate][n] = len( Ki67_negative )\n",
    "#             Ki67_positive_count[id_replicate][n] = len( Ki67_positive )\n",
    "#         elif cycle_model == 2:\n",
    "#             G0G1_phase = np.argwhere( cp == 4 ).flatten()\n",
    "#             S_phase = np.argwhere( cp == 10 ).flatten()\n",
    "#             G2M_phase = np.argwhere( cp == 11 ).flatten()\n",
    "\n",
    "#             G0G1_phase_count[id_replicate][n] = len( G0G1_phase )\n",
    "#             S_phase_count[id_replicate][n] = len( S_phase )\n",
    "#             G2M_phase_count[id_replicate][n] = len( G2M_phase )\n",
    "#         elif cycle_model == 5:\n",
    "#             live = np.argwhere( cp == 14 ).flatten()\n",
    "\n",
    "#             live_count[id_replicate][n] = len( live )\n",
    "#         elif cycle_model == 6:\n",
    "#             G0G1_phase = np.argwhere( cp == 4 ).flatten()\n",
    "#             S_phase = np.argwhere( cp == 10 ).flatten()\n",
    "#             G2_phase = np.argwhere( cp == 12 ).flatten()\n",
    "#             M_phase = np.argwhere( cp == 13 ).flatten()\n",
    "\n",
    "#             G0G1_phase_count[id_replicate][n] = len( G0G1_phase )\n",
    "#             S_phase_count[id_replicate][n] = len( S_phase )\n",
    "#             G2_phase_count[id_replicate][n] = len( G2_phase )\n",
    "#             M_phase_count[id_replicate][n] = len( M_phase )\n",
    "#         else:\n",
    "#             print(\"Unrecognized cell cycle model.\")\n",
    "#         apoptotic = np.argwhere( cp == 100 ).flatten()\n",
    "#         necrotic = np.argwhere( cp == 103 ).flatten()\n",
    "\n",
    "#         apoptotic_count[id_replicate][n] = len( apoptotic )\n",
    "#         necrotic_count[id_replicate][n] = len( necrotic )"
   ]
  },
  {
   "cell_type": "code",
   "execution_count": 200,
   "id": "bfb84836",
   "metadata": {},
   "outputs": [],
   "source": [
    "num_replicates = 50;\n",
    "last_index = 120;\n",
    "filename = \"PhysiCell_tumor_cell_population.csv\";\n",
    "\n",
    "times = np.zeros( last_index+1 ); \n",
    "if cycle_model == 0:\n",
    "    Ki67_negative_count = np.zeros( (num_replicates, last_index+1) ); \n",
    "    Ki67_positive_premitotic_count = np.zeros( (num_replicates, last_index+1) ); \n",
    "    Ki67_positive_postmitotic_count = np.zeros( (num_replicates, last_index+1) ); \n",
    "elif cycle_model == 1:\n",
    "    Ki67_negative_count = np.zeros( (num_replicates, last_index+1) ); \n",
    "    Ki67_positive_count = np.zeros( (num_replicates, last_index+1) ); \n",
    "elif cycle_model == 2:\n",
    "    G0G1_phase_count = np.zeros( (num_replicates, last_index+1) ); \n",
    "    S_phase_count = np.zeros( (num_replicates, last_index+1) ); \n",
    "    G2M_phase_count = np.zeros( (num_replicates, last_index+1) ); \n",
    "elif cycle_model == 5:\n",
    "    live_count = np.zeros( (num_replicates, last_index+1) ); \n",
    "elif cycle_model == 6:\n",
    "    G0G1_phase_count = np.zeros( (num_replicates, last_index+1) ); \n",
    "    S_phase_count = np.zeros( (num_replicates, last_index+1) ); \n",
    "    G2_phase_count = np.zeros( (num_replicates, last_index+1) ); \n",
    "    M_phase_count = np.zeros( (num_replicates, last_index+1) ); \n",
    "else:\n",
    "    print(\"Unrecognized cell cycle model.\")\n",
    "dead_count = np.zeros( (num_replicates, last_index+1) ); \n",
    "\n",
    "for id_replicate in range(num_replicates):\n",
    "    folder_name = output_folder+\"output_R\"+str(\"%02d\"%id_replicate)+'/'\n",
    "    \n",
    "    data = np.genfromtxt(folder_name + filename, dtype = float, delimiter = ',', names = True)\n",
    "    times[:] = data[\"times\"]\n",
    "    if cycle_model == 0:\n",
    "        Ki67_negative_count[id_replicate,:] = data[\"Ki67_negative_num\"]\n",
    "        Ki67_positive_premitotic_count[id_replicate,:] = data[\"Ki67_positive_premitotic_num\"]\n",
    "        Ki67_positive_postmitotic_count[id_replicate,:] = data[\"Ki67_positive_postmitotic_num\"]\n",
    "    elif cycle_model == 1:\n",
    "        Ki67_negative_count[id_replicate,:] = data[\"Ki67_negative_num\"]\n",
    "        Ki67_positive_count[id_replicate,:] = data[\"Ki67_positive_num\"]\n",
    "    elif cycle_model == 2:\n",
    "        G0G1_phase_count[id_replicate,:] = data[\"G0G1_phase_num\"]\n",
    "        S_phase_count[id_replicate,:] = data[\"S_phase_num\"]\n",
    "        G2M_phase_count[id_replicate,:] = data[\"G2M_phase_num\"]\n",
    "    elif cycle_model == 5:\n",
    "        live_count[id_replicate,:] = data[\"Live_num\"]\n",
    "    elif cycle_model == 6:\n",
    "        G0G1_phase_count[id_replicate,:] = data[\"G0G1_phase_num\"]\n",
    "        S_phase_count[id_replicate,:] = data[\"S_phase_num\"]\n",
    "        G2_phase_count[id_replicate,:] = data[\"G2_phase_num\"]\n",
    "        M_phase_count[id_replicate,:] = data[\"M_phase_num\"]\n",
    "    else:\n",
    "        print(\"Unrecognized cell cycle model.\")\n",
    "    dead_count[id_replicate,:] = data[\"Dead_num\"]"
   ]
  },
  {
   "cell_type": "markdown",
   "id": "665a6ec2",
   "metadata": {},
   "source": [
    "## Compute tumor cell fraction over all replicates and simulation times"
   ]
  },
  {
   "cell_type": "code",
   "execution_count": 201,
   "id": "4fa63cbe",
   "metadata": {},
   "outputs": [],
   "source": [
    "has_apop_nec = False\n",
    "\n",
    "if cycle_model == 0:\n",
    "    Ki67_negative_fraction = np.zeros( (num_replicates, last_index+1) ); \n",
    "    Ki67_positive_premitotic_fraction = np.zeros( (num_replicates, last_index+1) ); \n",
    "    Ki67_positive_postmitotic_fraction = np.zeros( (num_replicates, last_index+1) ); \n",
    "elif cycle_model == 1:\n",
    "    Ki67_negative_fraction = np.zeros( (num_replicates, last_index+1) ); \n",
    "    Ki67_positive_fraction = np.zeros( (num_replicates, last_index+1) ); \n",
    "elif cycle_model == 2:\n",
    "    G0G1_phase_fraction = np.zeros( (num_replicates, last_index+1) ); \n",
    "    S_phase_fraction = np.zeros( (num_replicates, last_index+1) ); \n",
    "    G2M_phase_fraction = np.zeros( (num_replicates, last_index+1) ); \n",
    "elif cycle_model == 5:\n",
    "    live_fraction = np.zeros( (num_replicates, last_index+1) ); \n",
    "elif cycle_model == 6:\n",
    "    G0G1_phase_fraction = np.zeros( (num_replicates, last_index+1) ); \n",
    "    S_phase_fraction = np.zeros( (num_replicates, last_index+1) ); \n",
    "    G2_phase_fraction = np.zeros( (num_replicates, last_index+1) ); \n",
    "    M_phase_fraction = np.zeros( (num_replicates, last_index+1) ); \n",
    "else:\n",
    "    print(\"Unrecognized cell cycle model.\")\n",
    "\n",
    "if has_apop_nec:\n",
    "    apoptotic_fraction = np.zeros( (num_replicates, last_index+1) ); \n",
    "    necrotic_fraction = np.zeros( (num_replicates, last_index+1) ); \n",
    "else:\n",
    "    dead_fraction = np.zeros( (num_replicates, last_index+1) ); \n",
    "\n",
    "for id_replicate in range(num_replicates):\n",
    "    if cycle_model == 0:\n",
    "        total_count = Ki67_negative_count[id_replicate,:] + Ki67_positive_premitotic_count[id_replicate,:] + Ki67_positive_postmitotic_count[id_replicate,:];\n",
    "        total_count += apoptotic_count[id_replicate,:] + necrotic_count[id_replicate,:] if has_apop_nec else dead_count[id_replicate,:];\n",
    "\n",
    "        Ki67_negative_fraction[id_replicate,:] = Ki67_negative_count[id_replicate,:]/total_count;\n",
    "        Ki67_positive_premitotic_fraction[id_replicate,:] = Ki67_positive_premitotic_count[id_replicate,:]/total_count;\n",
    "        Ki67_positive_postmitotic_fraction[id_replicate,:] = Ki67_positive_postmitotic_count[id_replicate,:]/total_count;\n",
    "    elif cycle_model == 1:\n",
    "        total_count = Ki67_negative_count[id_replicate,:] + Ki67_positive_count[id_replicate,:];\n",
    "        total_count += apoptotic_count[id_replicate,:] + necrotic_count[id_replicate,:] if has_apop_nec else dead_count[id_replicate,:];\n",
    "\n",
    "        Ki67_negative_fraction[id_replicate,:] = Ki67_negative_count[id_replicate,:]/total_count;\n",
    "        Ki67_positive_fraction[id_replicate,:] = Ki67_positive_count[id_replicate,:]/total_count;\n",
    "    elif cycle_model == 2:\n",
    "        total_count = G0G1_phase_count[id_replicate,:] + S_phase_count[id_replicate,:] + G2M_phase_count[id_replicate,:];\n",
    "        total_count += apoptotic_count[id_replicate,:] + necrotic_count[id_replicate,:] if has_apop_nec else dead_count[id_replicate,:];\n",
    "\n",
    "        G0G1_phase_fraction[id_replicate,:] = G0G1_phase_count[id_replicate,:]/total_count;\n",
    "        S_phase_fraction[id_replicate,:] = S_phase_count[id_replicate,:]/total_count;\n",
    "        G2M_phase_fraction[id_replicate,:] = G2M_phase_count[id_replicate,:]/total_count;\n",
    "    elif cycle_model == 5:\n",
    "        total_count = live_count[id_replicate,:];\n",
    "        total_count += apoptotic_count[id_replicate,:] + necrotic_count[id_replicate,:] if has_apop_nec else dead_count[id_replicate,:];\n",
    "\n",
    "        live_fraction[id_replicate,:] = live_count[id_replicate,:]/total_count;\n",
    "    elif cycle_model == 6:\n",
    "        total_count = G0G1_phase_count[id_replicate,:] + S_phase_count[id_replicate,:] + G2_phase_count[id_replicate,:] + M_phase_count[id_replicate,:];\n",
    "        total_count += apoptotic_count[id_replicate,:] + necrotic_count[id_replicate,:] if has_apop_nec else dead_count[id_replicate,:];\n",
    "\n",
    "        G0G1_phase_fraction[id_replicate,:] = G0G1_phase_count[id_replicate,:]/total_count;\n",
    "        S_phase_fraction[id_replicate,:] = S_phase_count[id_replicate,:]/total_count;\n",
    "        G2_phase_fraction[id_replicate,:] = G2_phase_count[id_replicate,:]/total_count;\n",
    "        M_phase_fraction[id_replicate,:] = M_phase_count[id_replicate,:]/total_count;\n",
    "    else:\n",
    "        print(\"Unrecognized cell cycle model.\")\n",
    "    \n",
    "    if has_apop_nec:\n",
    "        apoptotic_fraction[id_replicate,:] = apoptotic_count[id_replicate,:]/total_count;\n",
    "        necrotic_fraction[id_replicate,:] = necrotic_count[id_replicate,:]/total_count;\n",
    "    else:\n",
    "        dead_fraction[id_replicate,:] = dead_count[id_replicate,:]/total_count;"
   ]
  },
  {
   "cell_type": "markdown",
   "id": "2415e82d",
   "metadata": {},
   "source": [
    "## Solve true model numerically"
   ]
  },
  {
   "cell_type": "code",
   "execution_count": 202,
   "id": "2b500900",
   "metadata": {},
   "outputs": [],
   "source": [
    "number_of_cells = 1000\n",
    "\n",
    "if cycle_model == 0:\n",
    "    def true_model(X, t, r01, r10, r12, r20):\n",
    "        Ki67_neg, Ki67_pos_pre, Ki67_pos_post = X\n",
    "        dXdt = [-r01*Ki67_neg + r10*Ki67_pos_post,\n",
    "            r01*Ki67_neg - r12*Ki67_pos_pre,\n",
    "            2.0*r12*Ki67_pos_pre - r20*Ki67_pos_post\n",
    "        ]\n",
    "        return dXdt\n",
    "    \n",
    "    X0 = np.array([number_of_cells, 0, 0])\n",
    "    r01 = 0.004604052\n",
    "    r10 = 0.006666667\n",
    "    r12 = 0.001282051\n",
    "    r20 = 0.006666667\n",
    "    true_solution = odeint(true_model, X0, times, args=(r01, r10, r12, r20))\n",
    "elif cycle_model == 1:\n",
    "    def true_model(X, t, r01, r10):\n",
    "        Ki67_neg, Ki67_pos = X\n",
    "        dXdt = [-r01*Ki67_neg + 2.0*r10*Ki67_pos, \n",
    "            r01*Ki67_neg - r10*Ki67_pos\n",
    "        ]\n",
    "        return dXdt\n",
    "    \n",
    "    X0 = np.array([number_of_cells, 0])\n",
    "    r01 = 0.003631082\n",
    "    r10 = 0.001075269\n",
    "    true_solution = odeint(true_model, X0, times, args=(r01, r10))\n",
    "elif cycle_model == 2:\n",
    "    def true_model(X, t, r01, r20, r12):\n",
    "        G0G1, S, G2M = X\n",
    "        dXdt = [-r01*G0G1 + 2.0*r20*G2M,\n",
    "            r01*G0G1 - r12*S,\n",
    "            r12*S - r20*G2M\n",
    "        ]\n",
    "        return dXdt\n",
    "    \n",
    "    X0 = np.array([number_of_cells, 0, 0])\n",
    "    r01 = 0.003236246\n",
    "    r20 = 0.003333333\n",
    "    r12 = 0.002083333\n",
    "    true_solution = odeint(true_model, X0, times, args=(r01, r20, r12))\n",
    "elif cycle_model == 5:\n",
    "    def true_model(X, t, b):\n",
    "        live = X\n",
    "        dXdt = b*live\n",
    "        return dXdt\n",
    "    \n",
    "    X0 = np.array([number_of_cells])\n",
    "    b = 0.0007198228\n",
    "    true_solution = odeint(true_model, X0, times, args=(b,))\n",
    "elif cycle_model == 6:\n",
    "    def true_model(X, t, r01, r30, r12, r23):\n",
    "        G0G1, S, G2, M = X\n",
    "        dXdt = [-r01*G0G1 + 2.0*r30*M,\n",
    "            r01*G0G1 - r12*S,\n",
    "            r12*S - r23*G2,\n",
    "            r23*G2 - r30*M\n",
    "        ]\n",
    "        return dXdt\n",
    "    \n",
    "    X0 = np.array([number_of_cells, 0, 0, 0])\n",
    "    r01 = 0.00334672\n",
    "    r30 = 0.016666667\n",
    "    r12 = 0.002083333\n",
    "    r23 = 0.004166667\n",
    "    true_solution = odeint(true_model, X0, times, args=(r01, r30, r12, r23))\n",
    "else:\n",
    "    print(\"Unrecognized cell cycle model.\")"
   ]
  },
  {
   "cell_type": "markdown",
   "id": "70210d31",
   "metadata": {},
   "source": [
    "## Compute tumor cell fraction for the true model"
   ]
  },
  {
   "cell_type": "code",
   "execution_count": 203,
   "id": "218d3ab0",
   "metadata": {},
   "outputs": [],
   "source": [
    "total_true = np.sum(true_solution, axis=1)\n",
    "\n",
    "if cycle_model == 0:\n",
    "    Ki67_negative_true = true_solution[:,0]/total_true;\n",
    "    Ki67_positive_premitotic_true = true_solution[:,1]/total_true;\n",
    "    Ki67_positive_postmitotic_true = true_solution[:,2]/total_true;\n",
    "elif cycle_model == 1:\n",
    "    Ki67_negative_true = true_solution[:,0]/total_true;\n",
    "    Ki67_positive_true = true_solution[:,1]/total_true;\n",
    "elif cycle_model == 2:\n",
    "    G0G1_phase_true = true_solution[:,0]/total_true;\n",
    "    S_phase_true = true_solution[:,1]/total_true;\n",
    "    G2M_phase_true = true_solution[:,2]/total_true;\n",
    "elif cycle_model == 5:\n",
    "    live_true = true_solution[:,0]/total_true;\n",
    "elif cycle_model == 6:\n",
    "    G0G1_phase_true = true_solution[:,0]/total_true;\n",
    "    S_phase_true = true_solution[:,1]/total_true;\n",
    "    G2_phase_true = true_solution[:,2]/total_true;\n",
    "    M_phase_true = true_solution[:,3]/total_true;\n",
    "else:\n",
    "    print(\"Unrecognized cell cycle model.\")"
   ]
  },
  {
   "cell_type": "markdown",
   "id": "c8819e77",
   "metadata": {},
   "source": [
    "## Plot the distribution of the tumor cell population at the final simulation time"
   ]
  },
  {
   "cell_type": "code",
   "execution_count": 204,
   "id": "c44c43ad",
   "metadata": {},
   "outputs": [],
   "source": [
    "def plot_distribution(data, true, cell_cycle_phase_title, cell_cycle_phase_filename, bins = 10):\n",
    "    plt.clf()\n",
    "    plt.subplots(1, 1, figsize = (5.27, 2.96), dpi = 300)\n",
    "    plt.hist(data, bins=bins, edgecolor = 'gray', facecolor='blue', alpha=0.4)\n",
    "    plt.axvline(np.mean(data), label = \"Mean\", color=\"tab:gray\", linestyle=':')\n",
    "    plt.axvline(true, label = \"True\", color='tab:red', linestyle=':')\n",
    "    plt.legend()\n",
    "    \n",
    "    # plt.title( 'Distribution of the ' + cell_cycle_phase_title, size=20)\n",
    "    plt.xlabel( cell_cycle_phase_title, size=15 ) \n",
    "    plt.ylabel( 'Frequency', size=15 )\n",
    "    plt.savefig(os.path.join(output_folder, cell_cycle_phase_filename + \"_hist\" + str(bins) + \".pdf\"), bbox_inches = 'tight')"
   ]
  },
  {
   "cell_type": "code",
   "execution_count": 205,
   "id": "1fcc136d",
   "metadata": {},
   "outputs": [
    {
     "data": {
      "text/plain": [
       "<Figure size 432x288 with 0 Axes>"
      ]
     },
     "metadata": {},
     "output_type": "display_data"
    },
    {
     "data": {
      "text/plain": [
       "<Figure size 1581x888 with 0 Axes>"
      ]
     },
     "metadata": {},
     "output_type": "display_data"
    },
    {
     "data": {
      "image/png": "[encoded data removed]",
      "text/plain": [
       "<Figure size 1581x888 with 1 Axes>"
      ]
     },
     "metadata": {
      "needs_background": "light"
     },
     "output_type": "display_data"
    }
   ],
   "source": [
    "if cycle_model == 0:\n",
    "    plot_distribution(Ki67_negative_count[:,-1], true_solution[-1,0], r\"Ki67$^{-}$ population\", \"Ki67_neg_pop\")\n",
    "    plot_distribution(Ki67_positive_premitotic_count[:,-1], true_solution[-1,1], r\"Ki67$^{+}$ (pre) population\", \"Ki67_pos_pre_pop\")\n",
    "    plot_distribution(Ki67_positive_postmitotic_count[:,-1], true_solution[-1,2], r\"Ki67$^{+}$ (post) population\", \"Ki67_pos_post_pop\")\n",
    "elif cycle_model == 1:\n",
    "    plot_distribution(Ki67_negative_count[:,-1], true_solution[-1,0], r\"Ki67$^{-}$ population\", \"Ki67_neg_pop\")\n",
    "    plot_distribution(Ki67_positive_count[:,-1], true_solution[-1,1], r\"Ki67$^{+}$ population\", \"Ki67_pos_pop\")\n",
    "elif cycle_model == 2:\n",
    "    plot_distribution(G0G1_phase_count[:,-1], true_solution[-1,0], r\"G0/G1 population\", \"G0G1_phase_pop\")\n",
    "    plot_distribution(S_phase_count[:,-1], true_solution[-1,1], r\"S population\", \"S_phase_pop\")\n",
    "    plot_distribution(G2M_phase_count[:,-1], true_solution[-1,2], r\"G2/M population\", \"G2M_phase_pop\")\n",
    "elif cycle_model == 5:\n",
    "    plot_distribution(live_count[:,-1], true_solution[-1,0], r\"Live population\", \"Live_pop\")\n",
    "elif cycle_model == 6:\n",
    "    plot_distribution(G0G1_phase_count[:,-1], true_solution[-1,0], r\"G0/G1 population\", \"G0G1_phase_pop\")\n",
    "    plot_distribution(S_phase_count[:,-1], true_solution[-1,1], r\"S population\", \"S_phase_pop\")\n",
    "    plot_distribution(G2_phase_count[:,-1], true_solution[-1,2], r\"G2 population\", \"G2_phase_pop\")\n",
    "    plot_distribution(M_phase_count[:,-1], true_solution[-1,3], r\"M population\", \"M_phase_pop\")\n",
    "else:\n",
    "    print(\"Unrecognized cell cycle model.\")"
   ]
  },
  {
   "cell_type": "markdown",
   "id": "8d3df440",
   "metadata": {},
   "source": [
    "## Plot the distribution of the tumor cell fraction at the final simulation time"
   ]
  },
  {
   "cell_type": "code",
   "execution_count": 206,
   "id": "50d3e14f",
   "metadata": {},
   "outputs": [
    {
     "data": {
      "text/plain": [
       "<Figure size 432x288 with 0 Axes>"
      ]
     },
     "metadata": {},
     "output_type": "display_data"
    },
    {
     "data": {
      "text/plain": [
       "<Figure size 1581x888 with 0 Axes>"
      ]
     },
     "metadata": {},
     "output_type": "display_data"
    },
    {
     "data": {
      "image/png": "[encoded data removed]",
      "text/plain": [
       "<Figure size 1581x888 with 1 Axes>"
      ]
     },
     "metadata": {
      "needs_background": "light"
     },
     "output_type": "display_data"
    }
   ],
   "source": [
    "if cycle_model == 0:\n",
    "    plot_distribution(Ki67_negative_fraction[:,-1], Ki67_negative_true[-1], r\"Ki67$^{-}$ fraction\", \"Ki67_neg_frac\")\n",
    "    plot_distribution(Ki67_positive_premitotic_fraction[:,-1], Ki67_positive_premitotic_true[-1], r\"Ki67$^{+}$ (pre) fraction\", \"Ki67_pos_pre_frac\")\n",
    "    plot_distribution(Ki67_positive_postmitotic_fraction[:,-1], Ki67_positive_postmitotic_true[-1], r\"Ki67$^{+}$ (post) fraction\", \"Ki67_pos_post_frac\")\n",
    "elif cycle_model == 1:\n",
    "    plot_distribution(Ki67_negative_fraction[:,-1], Ki67_negative_true[-1], r\"Ki67$^{-}$ fraction\", \"Ki67_neg_frac\")\n",
    "    plot_distribution(Ki67_positive_fraction[:,-1], Ki67_positive_true[-1], r\"Ki67$^{+}$ fraction\", \"Ki67_pos_frac\")\n",
    "elif cycle_model == 2:\n",
    "    plot_distribution(G0G1_phase_fraction[:,-1], G0G1_phase_true[-1], r\"G0/G1 fraction\", \"G0G1_phase_frac\")\n",
    "    plot_distribution(S_phase_fraction[:,-1], S_phase_true[-1], r\"S fraction\", \"S_phase_frac\")\n",
    "    plot_distribution(G2M_phase_fraction[:,-1], G2M_phase_true[-1], r\"G2/M fraction\", \"G2M_phase_frac\")\n",
    "elif cycle_model == 5:\n",
    "    plot_distribution(live_fraction[:,-1], live_true[-1], r\"Live fraction\", \"Live_frac\")\n",
    "elif cycle_model == 6:\n",
    "    plot_distribution(G0G1_phase_fraction[:,-1], G0G1_phase_true[-1], r\"G0/G1 fraction\", \"G0G1_phase_frac\")\n",
    "    plot_distribution(S_phase_fraction[:,-1], S_phase_true[-1], r\"S fraction\", \"S_phase_frac\")\n",
    "    plot_distribution(G2_phase_fraction[:,-1], G2_phase_true[-1], r\"G2 fraction\", \"G2_phase_frac\")\n",
    "    plot_distribution(M_phase_fraction[:,-1], M_phase_true[-1], r\"M fraction\", \"M_phase_frac\")\n",
    "else:\n",
    "    print(\"Unrecognized cell cycle model.\")"
   ]
  },
  {
   "cell_type": "code",
   "execution_count": null,
   "id": "ce407b9e",
   "metadata": {},
   "outputs": [],
   "source": []
  }
 ],
 "metadata": {
  "kernelspec": {
   "display_name": "Python 3",
   "language": "python",
   "name": "python3"
  },
  "language_info": {
   "codemirror_mode": {
    "name": "ipython",
    "version": 3
   },
   "file_extension": ".py",
   "mimetype": "text/x-python",
   "name": "python",
   "nbconvert_exporter": "python",
   "pygments_lexer": "ipython3",
   "version": "3.8.2"
  }
 },
 "nbformat": 4,
 "nbformat_minor": 5
}
