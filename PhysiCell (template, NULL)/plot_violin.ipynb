{
 "cells": [
  {
   "cell_type": "markdown",
   "id": "ff1f5a29",
   "metadata": {},
   "source": [
    "# Generating a violin plot for the distribution of the tumor cell population and fraction"
   ]
  },
  {
   "cell_type": "markdown",
   "id": "d384783a",
   "metadata": {},
   "source": [
    "## Import libraries"
   ]
  },
  {
   "cell_type": "code",
   "execution_count": 1,
   "id": "ae61050d",
   "metadata": {},
   "outputs": [],
   "source": [
    "# %matplotlib notebook\n",
    "#  add Python-loader repo to the path \n",
    "import sys\n",
    "sys.path.insert(0, '../Python-loader/')\n",
    "from pyMCDS import pyMCDS\n",
    "\n",
    "import numpy as np\n",
    "import matplotlib.pyplot as plt\n",
    "import os\n",
    "from scipy.integrate import odeint"
   ]
  },
  {
   "cell_type": "markdown",
   "id": "0bdf8ca2",
   "metadata": {},
   "source": [
    "## Define cell cycle model"
   ]
  },
  {
   "cell_type": "code",
   "execution_count": 198,
   "id": "2585541d",
   "metadata": {},
   "outputs": [],
   "source": [
    "# CELL CYCLE MODELS\n",
    "### advanced_Ki67_cycle_model = 0\n",
    "### basic_Ki67_cycle_model = 1\n",
    "### flow_cytometry_cycle_model = 2\n",
    "### live_apoptotic_cycle_model = 3\n",
    "### total_cells_cycle_model = 4\n",
    "### live_cells_cycle_model = 5 \n",
    "### flow_cytometry_separated_cycle_model = 6\n",
    "### cycling_quiescent_model = 7\n",
    "cycle_model = 6\n",
    "\n",
    "output_folder = \"output_Experimental_Settings_R300/\""
   ]
  },
  {
   "cell_type": "markdown",
   "id": "faa7dd7b",
   "metadata": {},
   "source": [
    "## Define experimental settings"
   ]
  },
  {
   "cell_type": "code",
   "execution_count": 199,
   "id": "abebcf35",
   "metadata": {},
   "outputs": [],
   "source": [
    "num_folders = 18\n",
    "num_params = 3\n",
    "\n",
    "settings = np.zeros((num_folders, num_params))\n",
    "settings[0,:] = np.array([6, 100, 10])\n",
    "settings[1,:] = np.array([6, 100, 20])\n",
    "settings[2,:] = np.array([6, 100, 50])\n",
    "settings[3,:] = np.array([6, 100, 100])\n",
    "settings[4,:] = np.array([6, 100, 200])\n",
    "settings[5,:] = np.array([6, 100, 300])\n",
    "settings[6,:] = np.array([6, 500, 10])\n",
    "settings[7,:] = np.array([6, 500, 20])\n",
    "settings[8,:] = np.array([6, 500, 50])\n",
    "settings[9,:] = np.array([6, 500, 100])\n",
    "settings[10,:] = np.array([6, 500, 200])\n",
    "settings[11,:] = np.array([6, 500, 300])\n",
    "settings[12,:] = np.array([6, 1000, 10])\n",
    "settings[13,:] = np.array([6, 1000, 20])\n",
    "settings[14,:] = np.array([6, 1000, 50])\n",
    "settings[15,:] = np.array([6, 1000, 100])\n",
    "settings[16,:] = np.array([6, 1000, 200])\n",
    "settings[17,:] = np.array([6, 1000, 300])"
   ]
  },
  {
   "cell_type": "markdown",
   "id": "ff4b08fe",
   "metadata": {},
   "source": [
    "## Compute the number of each tumor cell phenotype over all replicates and simulation times"
   ]
  },
  {
   "cell_type": "code",
   "execution_count": 200,
   "id": "fcf44681",
   "metadata": {},
   "outputs": [],
   "source": [
    "def get_folder_name(settings):\n",
    "    if cycle_model == 0:\n",
    "        folder_name = \"output_Ki67_Advanced_\"\n",
    "    elif cycle_model == 1:\n",
    "        folder_name = \"output_Ki67_Basic_\"\n",
    "    elif cycle_model == 2:\n",
    "        folder_name = \"output_Flow_Cytometry_\"\n",
    "    elif cycle_model == 5:\n",
    "        folder_name = \"output_Live_\"\n",
    "    elif cycle_model == 6:\n",
    "        folder_name = \"output_Separated_Flow_Cytometry_\"\n",
    "    else:\n",
    "        print(\"Unrecognized cell cycle model.\")\n",
    "    \n",
    "    if settings[0].is_integer():\n",
    "        folder_name += \"dt\" + str(int(settings[0])) + \"_NC\" + str(int(settings[1])) + \"_R\" + str(int(settings[2])) + \"/\"\n",
    "    else:\n",
    "        folder_name += \"dt\" + str(settings[0]) + \"_NC\" + str(int(settings[1])) + \"_R\" + str(int(settings[2])) + \"/\"\n",
    "    \n",
    "    return folder_name"
   ]
  },
  {
   "cell_type": "code",
   "execution_count": 201,
   "id": "a1dbb9e8",
   "metadata": {},
   "outputs": [],
   "source": [
    "last_index = 120;\n",
    "filename = \"PhysiCell_tumor_cell_population.csv\";\n",
    "\n",
    "times = [None] * num_folders; \n",
    "if cycle_model == 0:\n",
    "    Ki67_negative_count = [None] * num_folders; \n",
    "    Ki67_positive_premitotic_count = [None] * num_folders; \n",
    "    Ki67_positive_postmitotic_count = [None] * num_folders; \n",
    "elif cycle_model == 1:\n",
    "    Ki67_negative_count = [None] * num_folders; \n",
    "    Ki67_positive_count = [None] * num_folders; \n",
    "elif cycle_model == 2:\n",
    "    G0G1_phase_count = [None] * num_folders; \n",
    "    S_phase_count = [None] * num_folders; \n",
    "    G2M_phase_count = [None] * num_folders; \n",
    "elif cycle_model == 5:\n",
    "    live_count = [None] * num_folders; \n",
    "elif cycle_model == 6:\n",
    "    G0G1_phase_count = [None] * num_folders; \n",
    "    S_phase_count = [None] * num_folders; \n",
    "    G2_phase_count = [None] * num_folders; \n",
    "    M_phase_count = [None] * num_folders; \n",
    "else:\n",
    "    print(\"Unrecognized cell cycle model.\")\n",
    "dead_count = [None] * num_folders; \n",
    "\n",
    "for i in range(num_folders):\n",
    "    num_replicates = int(settings[i,2])\n",
    "    \n",
    "    times[i] = np.zeros( last_index+1 ); \n",
    "    if cycle_model == 0:\n",
    "        Ki67_negative_count[i] = np.zeros( (num_replicates, last_index+1) ); \n",
    "        Ki67_positive_premitotic_count[i] = np.zeros( (num_replicates, last_index+1) ); \n",
    "        Ki67_positive_postmitotic_count[i] = np.zeros( (num_replicates, last_index+1) ); \n",
    "    elif cycle_model == 1:\n",
    "        Ki67_negative_count[i] = np.zeros( (num_replicates, last_index+1) ); \n",
    "        Ki67_positive_count[i] = np.zeros( (num_replicates, last_index+1) ); \n",
    "    elif cycle_model == 2:\n",
    "        G0G1_phase_count[i] = np.zeros( (num_replicates, last_index+1) ); \n",
    "        S_phase_count[i] = np.zeros( (num_replicates, last_index+1) ); \n",
    "        G2M_phase_count[i] = np.zeros( (num_replicates, last_index+1) ); \n",
    "    elif cycle_model == 5:\n",
    "        live_count[i] = np.zeros( (num_replicates, last_index+1) ); \n",
    "    elif cycle_model == 6:\n",
    "        G0G1_phase_count[i] = np.zeros( (num_replicates, last_index+1) ); \n",
    "        S_phase_count[i] = np.zeros( (num_replicates, last_index+1) ); \n",
    "        G2_phase_count[i] = np.zeros( (num_replicates, last_index+1) ); \n",
    "        M_phase_count[i] = np.zeros( (num_replicates, last_index+1) ); \n",
    "    else:\n",
    "        print(\"Unrecognized cell cycle model.\")\n",
    "    dead_count[i] = np.zeros( (num_replicates, last_index+1) ); \n",
    "    \n",
    "    for id_replicate in range(num_replicates):\n",
    "        folder_name = output_folder+get_folder_name(settings[i,:])+\"output_R\"+str(\"%02d\"%id_replicate)+'/'\n",
    "\n",
    "        data = np.genfromtxt(folder_name + filename, dtype = float, delimiter = ',', names = True)\n",
    "        times[i][:] = data[\"times\"]\n",
    "        if cycle_model == 0:\n",
    "            Ki67_negative_count[i][id_replicate,:] = data[\"Ki67_negative_num\"]\n",
    "            Ki67_positive_premitotic_count[i][id_replicate,:] = data[\"Ki67_positive_premitotic_num\"]\n",
    "            Ki67_positive_postmitotic_count[i][id_replicate,:] = data[\"Ki67_positive_postmitotic_num\"]\n",
    "        elif cycle_model == 1:\n",
    "            Ki67_negative_count[i][id_replicate,:] = data[\"Ki67_negative_num\"]\n",
    "            Ki67_positive_count[i][id_replicate,:] = data[\"Ki67_positive_num\"]\n",
    "        elif cycle_model == 2:\n",
    "            G0G1_phase_count[i][id_replicate,:] = data[\"G0G1_phase_num\"]\n",
    "            S_phase_count[i][id_replicate,:] = data[\"S_phase_premitotic_num\"]\n",
    "            G2M_phase_count[i][id_replicate,:] = data[\"G2M_phase_postmitotic_num\"]\n",
    "        elif cycle_model == 5:\n",
    "            live_count[i][id_replicate,:] = data[\"Live_num\"]\n",
    "        elif cycle_model == 6:\n",
    "            G0G1_phase_count[i][id_replicate,:] = data[\"G0G1_phase_num\"]\n",
    "            S_phase_count[i][id_replicate,:] = data[\"S_phase_premitotic_num\"]\n",
    "            G2_phase_count[i][id_replicate,:] = data[\"G2_phase_postmitotic_num\"]\n",
    "            M_phase_count[i][id_replicate,:] = data[\"M_phase_postmitotic_num\"]\n",
    "        else:\n",
    "            print(\"Unrecognized cell cycle model.\")\n",
    "        dead_count[i][id_replicate,:] = data[\"Dead_num\"]"
   ]
  },
  {
   "cell_type": "markdown",
   "id": "32aa74f8",
   "metadata": {},
   "source": [
    "## Compute tumor cell fraction over all replicates and simulation times"
   ]
  },
  {
   "cell_type": "code",
   "execution_count": 202,
   "id": "982c3cd5",
   "metadata": {},
   "outputs": [],
   "source": [
    "has_apop_nec = False\n",
    "\n",
    "if cycle_model == 0:\n",
    "    Ki67_negative_fraction = [None] * num_folders; \n",
    "    Ki67_positive_premitotic_fraction = [None] * num_folders; \n",
    "    Ki67_positive_postmitotic_fraction = [None] * num_folders; \n",
    "elif cycle_model == 1:\n",
    "    Ki67_negative_fraction = [None] * num_folders; \n",
    "    Ki67_positive_fraction = [None] * num_folders; \n",
    "elif cycle_model == 2:\n",
    "    G0G1_phase_fraction = [None] * num_folders; \n",
    "    S_phase_fraction = [None] * num_folders; \n",
    "    G2M_phase_fraction = [None] * num_folders; \n",
    "elif cycle_model == 5:\n",
    "    live_fraction = [None] * num_folders; \n",
    "elif cycle_model == 6:\n",
    "    G0G1_phase_fraction = [None] * num_folders; \n",
    "    S_phase_fraction = [None] * num_folders; \n",
    "    G2_phase_fraction = [None] * num_folders; \n",
    "    M_phase_fraction = [None] * num_folders; \n",
    "else:\n",
    "    print(\"Unrecognized cell cycle model.\")\n",
    "\n",
    "if has_apop_nec:\n",
    "    apoptotic_fraction = [None] * num_folders; \n",
    "    necrotic_fraction = [None] * num_folders; \n",
    "else:\n",
    "    dead_fraction = [None] * num_folders; \n",
    "    \n",
    "for i in range(num_folders):\n",
    "    num_replicates = int(settings[i,2])\n",
    "    \n",
    "    if cycle_model == 0:\n",
    "        Ki67_negative_fraction[i] = np.zeros( (num_replicates, last_index+1) ); \n",
    "        Ki67_positive_premitotic_fraction[i] = np.zeros( (num_replicates, last_index+1) ); \n",
    "        Ki67_positive_postmitotic_fraction[i] = np.zeros( (num_replicates, last_index+1) ); \n",
    "    elif cycle_model == 1:\n",
    "        Ki67_negative_fraction[i] = np.zeros( (num_replicates, last_index+1) ); \n",
    "        Ki67_positive_fraction[i] = np.zeros( (num_replicates, last_index+1) ); \n",
    "    elif cycle_model == 2:\n",
    "        G0G1_phase_fraction[i] = np.zeros( (num_replicates, last_index+1) ); \n",
    "        S_phase_fraction[i] = np.zeros( (num_replicates, last_index+1) ); \n",
    "        G2M_phase_fraction[i] = np.zeros( (num_replicates, last_index+1) ); \n",
    "    elif cycle_model == 5:\n",
    "        live_fraction[i] = np.zeros( (num_replicates, last_index+1) ); \n",
    "    elif cycle_model == 6:\n",
    "        G0G1_phase_fraction[i] = np.zeros( (num_replicates, last_index+1) ); \n",
    "        S_phase_fraction[i] = np.zeros( (num_replicates, last_index+1) ); \n",
    "        G2_phase_fraction[i] = np.zeros( (num_replicates, last_index+1) ); \n",
    "        M_phase_fraction[i] = np.zeros( (num_replicates, last_index+1) ); \n",
    "    else:\n",
    "        print(\"Unrecognized cell cycle model.\")\n",
    "\n",
    "    if has_apop_nec:\n",
    "        apoptotic_fraction[i] = np.zeros( (num_replicates, last_index+1) ); \n",
    "        necrotic_fraction[i] = np.zeros( (num_replicates, last_index+1) ); \n",
    "    else:\n",
    "        dead_fraction[i] = np.zeros( (num_replicates, last_index+1) ); \n",
    "        \n",
    "    for id_replicate in range(num_replicates):\n",
    "        if cycle_model == 0:\n",
    "            total_count = Ki67_negative_count[i][id_replicate,:] + Ki67_positive_premitotic_count[i][id_replicate,:] + Ki67_positive_postmitotic_count[i][id_replicate,:];\n",
    "            total_count += apoptotic_count[i][id_replicate,:] + necrotic_count[i][id_replicate,:] if has_apop_nec else dead_count[i][id_replicate,:];\n",
    "\n",
    "            Ki67_negative_fraction[i][id_replicate,:] = Ki67_negative_count[i][id_replicate,:]/total_count;\n",
    "            Ki67_positive_premitotic_fraction[i][id_replicate,:] = Ki67_positive_premitotic_count[i][id_replicate,:]/total_count;\n",
    "            Ki67_positive_postmitotic_fraction[i][id_replicate,:] = Ki67_positive_postmitotic_count[i][id_replicate,:]/total_count;\n",
    "        elif cycle_model == 1:\n",
    "            total_count = Ki67_negative_count[i][id_replicate,:] + Ki67_positive_count[i][id_replicate,:];\n",
    "            total_count += apoptotic_count[i][id_replicate,:] + necrotic_count[i][id_replicate,:] if has_apop_nec else dead_count[i][id_replicate,:];\n",
    "\n",
    "            Ki67_negative_fraction[i][id_replicate,:] = Ki67_negative_count[i][id_replicate,:]/total_count;\n",
    "            Ki67_positive_fraction[i][id_replicate,:] = Ki67_positive_count[i][id_replicate,:]/total_count;\n",
    "        elif cycle_model == 2:\n",
    "            total_count = G0G1_phase_count[i][id_replicate,:] + S_phase_count[i][id_replicate,:] + G2M_phase_count[i][id_replicate,:];\n",
    "            total_count += apoptotic_count[i][id_replicate,:] + necrotic_count[i][id_replicate,:] if has_apop_nec else dead_count[i][id_replicate,:];\n",
    "\n",
    "            G0G1_phase_fraction[i][id_replicate,:] = G0G1_phase_count[i][id_replicate,:]/total_count;\n",
    "            S_phase_fraction[i][id_replicate,:] = S_phase_count[i][id_replicate,:]/total_count;\n",
    "            G2M_phase_fraction[i][id_replicate,:] = G2M_phase_count[i][id_replicate,:]/total_count;\n",
    "        elif cycle_model == 5:\n",
    "            total_count = live_count[i][id_replicate,:];\n",
    "            total_count += apoptotic_count[i][id_replicate,:] + necrotic_count[i][id_replicate,:] if has_apop_nec else dead_count[i][id_replicate,:];\n",
    "\n",
    "            live_fraction[i][id_replicate,:] = live_count[i][id_replicate,:]/total_count;\n",
    "        elif cycle_model == 6:\n",
    "            total_count = G0G1_phase_count[i][id_replicate,:] + S_phase_count[i][id_replicate,:] + G2_phase_count[i][id_replicate,:] + M_phase_count[i][id_replicate,:];\n",
    "            total_count += apoptotic_count[i][id_replicate,:] + necrotic_count[i][id_replicate,:] if has_apop_nec else dead_count[i][id_replicate,:];\n",
    "\n",
    "            G0G1_phase_fraction[i][id_replicate,:] = G0G1_phase_count[i][id_replicate,:]/total_count;\n",
    "            S_phase_fraction[i][id_replicate,:] = S_phase_count[i][id_replicate,:]/total_count;\n",
    "            G2_phase_fraction[i][id_replicate,:] = G2_phase_count[i][id_replicate,:]/total_count;\n",
    "            M_phase_fraction[i][id_replicate,:] = M_phase_count[i][id_replicate,:]/total_count;\n",
    "        else:\n",
    "            print(\"Unrecognized cell cycle model.\")\n",
    "\n",
    "        if has_apop_nec:\n",
    "            apoptotic_fraction[i][id_replicate,:] = apoptotic_count[i][id_replicate,:]/total_count;\n",
    "            necrotic_fraction[i][id_replicate,:] = necrotic_count[i][id_replicate,:]/total_count;\n",
    "        else:\n",
    "            dead_fraction[i][id_replicate,:] = dead_count[i][id_replicate,:]/total_count;"
   ]
  },
  {
   "cell_type": "markdown",
   "id": "f111f3bf",
   "metadata": {},
   "source": [
    "## Solve true model numerically"
   ]
  },
  {
   "cell_type": "code",
   "execution_count": 203,
   "id": "7d09c9fd",
   "metadata": {},
   "outputs": [],
   "source": [
    "true_solution = [None] * num_folders\n",
    "\n",
    "if cycle_model == 0:\n",
    "    def true_model(X, t, r01, r10, r12, r20):\n",
    "        Ki67_neg, Ki67_pos_pre, Ki67_pos_post = X\n",
    "        dXdt = [-r01*Ki67_neg + r10*Ki67_pos_post,\n",
    "            r01*Ki67_neg - r12*Ki67_pos_pre,\n",
    "            2.0*r12*Ki67_pos_pre - r20*Ki67_pos_post\n",
    "        ]\n",
    "        return dXdt\n",
    "    \n",
    "    r01 = 0.004604052\n",
    "    r10 = 0.006666667\n",
    "    r12 = 0.001282051\n",
    "    r20 = 0.006666667\n",
    "elif cycle_model == 1:\n",
    "    def true_model(X, t, r01, r10):\n",
    "        Ki67_neg, Ki67_pos = X\n",
    "        dXdt = [-r01*Ki67_neg + 2.0*r10*Ki67_pos, \n",
    "            r01*Ki67_neg - r10*Ki67_pos\n",
    "        ]\n",
    "        return dXdt\n",
    "    \n",
    "    r01 = 0.003631082\n",
    "    r10 = 0.001075269\n",
    "elif cycle_model == 2:\n",
    "    def true_model(X, t, r01, r20, r12):\n",
    "        G0G1, S, G2M = X\n",
    "        dXdt = [-r01*G0G1 + 2.0*r20*G2M,\n",
    "            r01*G0G1 - r12*S,\n",
    "            r12*S - r20*G2M\n",
    "        ]\n",
    "        return dXdt\n",
    "    \n",
    "    r01 = 0.003236246\n",
    "    r20 = 0.003333333\n",
    "    r12 = 0.002083333\n",
    "elif cycle_model == 5:\n",
    "    def true_model(X, t, b):\n",
    "        live = X\n",
    "        dXdt = b*live\n",
    "        return dXdt\n",
    "    \n",
    "    b = 0.0007198228\n",
    "elif cycle_model == 6:\n",
    "    def true_model(X, t, r01, r30, r12, r23):\n",
    "        G0G1, S, G2, M = X\n",
    "        dXdt = [-r01*G0G1 + 2.0*r30*M,\n",
    "            r01*G0G1 - r12*S,\n",
    "            r12*S - r23*G2,\n",
    "            r23*G2 - r30*M\n",
    "        ]\n",
    "        return dXdt\n",
    "    \n",
    "    r01 = 0.00334672\n",
    "    r30 = 0.016666667\n",
    "    r12 = 0.002083333\n",
    "    r23 = 0.004166667\n",
    "else:\n",
    "    print(\"Unrecognized cell cycle model.\")\n",
    "    \n",
    "for i in range(num_folders):\n",
    "    number_of_cells = int(settings[i,1])\n",
    "    \n",
    "    if cycle_model == 0:\n",
    "        X0 = np.array([number_of_cells, 0, 0])\n",
    "        true_solution[i] = odeint(true_model, X0, times[i], args=(r01, r10, r12, r20))\n",
    "    elif cycle_model == 1:\n",
    "        X0 = np.array([number_of_cells, 0])\n",
    "        true_solution[i] = odeint(true_model, X0, times[i], args=(r01, r10))\n",
    "    elif cycle_model == 2:\n",
    "        X0 = np.array([number_of_cells, 0, 0])\n",
    "        true_solution[i] = odeint(true_model, X0, times[i], args=(r01, r20, r12))\n",
    "    elif cycle_model == 5:\n",
    "        X0 = np.array([number_of_cells])\n",
    "        true_solution[i] = odeint(true_model, X0, times[i], args=(b,))\n",
    "    elif cycle_model == 6:\n",
    "        X0 = np.array([number_of_cells, 0, 0, 0])\n",
    "        true_solution[i] = odeint(true_model, X0, times[i], args=(r01, r30, r12, r23))\n",
    "    else:\n",
    "        print(\"Unrecognized cell cycle model.\")"
   ]
  },
  {
   "cell_type": "markdown",
   "id": "a1a3b81d",
   "metadata": {},
   "source": [
    "## Compute tumor cell fraction for the true model"
   ]
  },
  {
   "cell_type": "code",
   "execution_count": 204,
   "id": "5a1f26ee",
   "metadata": {},
   "outputs": [],
   "source": [
    "if cycle_model == 0:\n",
    "    Ki67_negative_true = [None] * num_folders;\n",
    "    Ki67_positive_premitotic_true = [None] * num_folders;\n",
    "    Ki67_positive_postmitotic_true = [None] * num_folders;\n",
    "elif cycle_model == 1:\n",
    "    Ki67_negative_true = [None] * num_folders;\n",
    "    Ki67_positive_true = [None] * num_folders;\n",
    "elif cycle_model == 2:\n",
    "    G0G1_phase_true = [None] * num_folders;\n",
    "    S_phase_true = [None] * num_folders;\n",
    "    G2M_phase_true = [None] * num_folders;\n",
    "elif cycle_model == 5:\n",
    "    live_true = [None] * num_folders;\n",
    "elif cycle_model == 6:\n",
    "    G0G1_phase_true = [None] * num_folders;\n",
    "    S_phase_true = [None] * num_folders;\n",
    "    G2_phase_true = [None] * num_folders;\n",
    "    M_phase_true = [None] * num_folders;\n",
    "else:\n",
    "    print(\"Unrecognized cell cycle model.\")\n",
    "    \n",
    "for i in range(num_folders):\n",
    "    total_true = np.sum(true_solution[i], axis=1)\n",
    "\n",
    "    if cycle_model == 0:\n",
    "        Ki67_negative_true[i] = true_solution[i][:,0]/total_true;\n",
    "        Ki67_positive_premitotic_true[i] = true_solution[i][:,1]/total_true;\n",
    "        Ki67_positive_postmitotic_true[i] = true_solution[i][:,2]/total_true;\n",
    "    elif cycle_model == 1:\n",
    "        Ki67_negative_true[i] = true_solution[i][:,0]/total_true;\n",
    "        Ki67_positive_true[i] = true_solution[i][:,1]/total_true;\n",
    "    elif cycle_model == 2:\n",
    "        G0G1_phase_true[i] = true_solution[i][:,0]/total_true;\n",
    "        S_phase_true[i] = true_solution[i][:,1]/total_true;\n",
    "        G2M_phase_true[i] = true_solution[i][:,2]/total_true;\n",
    "    elif cycle_model == 5:\n",
    "        live_true[i] = true_solution[i][:,0]/total_true;\n",
    "    elif cycle_model == 6:\n",
    "        G0G1_phase_true[i] = true_solution[i][:,0]/total_true;\n",
    "        S_phase_true[i] = true_solution[i][:,1]/total_true;\n",
    "        G2_phase_true[i] = true_solution[i][:,2]/total_true;\n",
    "        M_phase_true[i] = true_solution[i][:,3]/total_true;\n",
    "    else:\n",
    "        print(\"Unrecognized cell cycle model.\")"
   ]
  },
  {
   "cell_type": "markdown",
   "id": "f36de464",
   "metadata": {},
   "source": [
    "## Generate a violin plot for the distribution of the tumor cell population at the final simulation time"
   ]
  },
  {
   "cell_type": "code",
   "execution_count": 205,
   "id": "5480e133",
   "metadata": {},
   "outputs": [],
   "source": [
    "def plot_violin(data, true, xticks, cell_cycle_phase_title, xlabel, cell_cycle_phase_filename):\n",
    "    colors = ['tab:red', 'tab:green', 'tab:blue']\n",
    "    \n",
    "    plt.clf()\n",
    "    plt.subplots(1, 1, figsize = (5.27, 2.96), dpi = 300)\n",
    "    violin = plt.violinplot(data, showmeans=True, showmedians=True, quantiles=[[0.25, 0.75] for i in range(len(data))])\n",
    "    for pc in violin[\"bodies\"]:\n",
    "        pc.set_facecolor(\"tab:blue\")\n",
    "        pc.set_edgecolor(\"black\")\n",
    "    for partname in ('cbars', 'cmins', 'cmaxes'):\n",
    "        vp = violin[partname]\n",
    "        vp.set_edgecolor(\"black\")\n",
    "    violin['cmedians'].set_edgecolor(\"tab:orange\")\n",
    "    violin['cmeans'].set_edgecolor(\"tab:green\")\n",
    "    violin['cmeans'].set_linestyle(\"dashed\")\n",
    "    hline = plt.axhline(true, label = \"True\", color='tab:red', linestyle=':')\n",
    "    # plt.legend([violin['cmedians'], violin['cmeans'], violin['cquantiles'], hline], [\"Median\", \"Mean\", \"Quantiles\", \"True\"], loc='center left', bbox_to_anchor=(1, 0.5))\n",
    "    plt.xticks(np.arange(1, len(data)+1), xticks)\n",
    "    \n",
    "    # plt.title( 'Violin plot for the distribution of the ' + cell_cycle_phase_title, size=20)\n",
    "    #  plt.xlabel( xlabel, size=15 )\n",
    "    # plt.ylabel( cell_cycle_phase_title, size=15 )\n",
    "    plt.savefig(os.path.join(output_folder, cell_cycle_phase_filename + \".pdf\"), bbox_inches = 'tight')\n",
    "    \n",
    "    plt.clf()\n",
    "    plt.subplots(1, 1, figsize = (5.27, 2.96), dpi = 300)\n",
    "    plt.legend([violin['cmedians'], violin['cmeans'], violin['cquantiles'], hline], [\"Median\", \"Mean\", \"Quantiles\", \"True\"], loc='center', ncol=4)\n",
    "    plt.axis('off')\n",
    "    plt.savefig(os.path.join(output_folder, cell_cycle_phase_filename + \"_legend.pdf\"), bbox_inches = 'tight')"
   ]
  },
  {
   "cell_type": "code",
   "execution_count": 206,
   "id": "cde236a5",
   "metadata": {},
   "outputs": [
    {
     "name": "stderr",
     "output_type": "stream",
     "text": [
      "<ipython-input-205-3a66453388a7>:26: RuntimeWarning: More than 20 figures have been opened. Figures created through the pyplot interface (`matplotlib.pyplot.figure`) are retained until explicitly closed and may consume too much memory. (To control this warning, see the rcParam `figure.max_open_warning`). Consider using `matplotlib.pyplot.close()`.\n",
      "  plt.subplots(1, 1, figsize = (5.27, 2.96), dpi = 300)\n"
     ]
    },
    {
     "data": {
      "text/plain": [
       "<Figure size 432x288 with 0 Axes>"
      ]
     },
     "metadata": {},
     "output_type": "display_data"
    },
    {
     "data": {
      "text/plain": [
       "<Figure size 1581x888 with 0 Axes>"
      ]
     },
     "metadata": {},
     "output_type": "display_data"
    },
    {
     "data": {
      "text/plain": [
       "<Figure size 1581x888 with 0 Axes>"
      ]
     },
     "metadata": {},
     "output_type": "display_data"
    },
    {
     "data": {
      "text/plain": [
       "<Figure size 1581x888 with 0 Axes>"
      ]
     },
     "metadata": {},
     "output_type": "display_data"
    },
    {
     "data": {
      "text/plain": [
       "<Figure size 1581x888 with 0 Axes>"
      ]
     },
     "metadata": {},
     "output_type": "display_data"
    },
    {
     "data": {
      "text/plain": [
       "<Figure size 1581x888 with 0 Axes>"
      ]
     },
     "metadata": {},
     "output_type": "display_data"
    },
    {
     "data": {
      "text/plain": [
       "<Figure size 1581x888 with 0 Axes>"
      ]
     },
     "metadata": {},
     "output_type": "display_data"
    },
    {
     "data": {
      "text/plain": [
       "<Figure size 1581x888 with 0 Axes>"
      ]
     },
     "metadata": {},
     "output_type": "display_data"
    },
    {
     "data": {
      "text/plain": [
       "<Figure size 1581x888 with 0 Axes>"
      ]
     },
     "metadata": {},
     "output_type": "display_data"
    },
    {
     "data": {
      "text/plain": [
       "<Figure size 1581x888 with 0 Axes>"
      ]
     },
     "metadata": {},
     "output_type": "display_data"
    },
    {
     "data": {
      "text/plain": [
       "<Figure size 1581x888 with 0 Axes>"
      ]
     },
     "metadata": {},
     "output_type": "display_data"
    },
    {
     "data": {
      "text/plain": [
       "<Figure size 1581x888 with 0 Axes>"
      ]
     },
     "metadata": {},
     "output_type": "display_data"
    },
    {
     "data": {
      "text/plain": [
       "<Figure size 1581x888 with 0 Axes>"
      ]
     },
     "metadata": {},
     "output_type": "display_data"
    },
    {
     "data": {
      "text/plain": [
       "<Figure size 1581x888 with 0 Axes>"
      ]
     },
     "metadata": {},
     "output_type": "display_data"
    },
    {
     "data": {
      "text/plain": [
       "<Figure size 1581x888 with 0 Axes>"
      ]
     },
     "metadata": {},
     "output_type": "display_data"
    },
    {
     "data": {
      "text/plain": [
       "<Figure size 1581x888 with 0 Axes>"
      ]
     },
     "metadata": {},
     "output_type": "display_data"
    },
    {
     "data": {
      "text/plain": [
       "<Figure size 1581x888 with 0 Axes>"
      ]
     },
     "metadata": {},
     "output_type": "display_data"
    },
    {
     "data": {
      "text/plain": [
       "<Figure size 1581x888 with 0 Axes>"
      ]
     },
     "metadata": {},
     "output_type": "display_data"
    },
    {
     "data": {
      "text/plain": [
       "<Figure size 1581x888 with 0 Axes>"
      ]
     },
     "metadata": {},
     "output_type": "display_data"
    },
    {
     "data": {
      "text/plain": [
       "<Figure size 1581x888 with 0 Axes>"
      ]
     },
     "metadata": {},
     "output_type": "display_data"
    },
    {
     "data": {
      "text/plain": [
       "<Figure size 1581x888 with 0 Axes>"
      ]
     },
     "metadata": {},
     "output_type": "display_data"
    },
    {
     "data": {
      "text/plain": [
       "<Figure size 1581x888 with 0 Axes>"
      ]
     },
     "metadata": {},
     "output_type": "display_data"
    },
    {
     "data": {
      "text/plain": [
       "<Figure size 1581x888 with 0 Axes>"
      ]
     },
     "metadata": {},
     "output_type": "display_data"
    },
    {
     "data": {
      "text/plain": [
       "<Figure size 1581x888 with 0 Axes>"
      ]
     },
     "metadata": {},
     "output_type": "display_data"
    },
    {
     "data": {
      "image/png": "[encoded data removed]",
      "text/plain": [
       "<Figure size 1581x888 with 1 Axes>"
      ]
     },
     "metadata": {
      "needs_background": "light"
     },
     "output_type": "display_data"
    }
   ],
   "source": [
    "NC100_indices = np.where(settings[:,1] == 100)[0]\n",
    "NC500_indices = np.where(settings[:,1] == 500)[0]\n",
    "NC1000_indices = np.where(settings[:,1] == 1000)[0]\n",
    "\n",
    "if cycle_model == 0:\n",
    "    data = [Ki67_negative_count[i][:,-1] for i in NC100_indices]\n",
    "    plot_violin(data, true_solution[NC100_indices[0]][-1,0], settings[NC100_indices,2].astype(int), r\"Ki67$^{-}$ population\", \"Number of replicates\", \"Ki67_neg_pop_violin_NC100\")\n",
    "    data = [Ki67_negative_count[i][:,-1] for i in NC500_indices]\n",
    "    plot_violin(data, true_solution[NC500_indices[0]][-1,0], settings[NC500_indices,2].astype(int), r\"Ki67$^{-}$ population\", \"Number of replicates\", \"Ki67_neg_pop_violin_NC500\")\n",
    "    data = [Ki67_negative_count[i][:,-1] for i in NC1000_indices]\n",
    "    plot_violin(data, true_solution[NC1000_indices[0]][-1,0], settings[NC1000_indices,2].astype(int), r\"Ki67$^{-}$ population\", \"Number of replicates\", \"Ki67_neg_pop_violin_NC1000\")\n",
    "    \n",
    "    data = [Ki67_positive_premitotic_count[i][:,-1] for i in NC100_indices]\n",
    "    plot_violin(data, true_solution[NC100_indices[0]][-1,1], settings[NC100_indices,2].astype(int), r\"Ki67$^{+}$ (pre) population\", \"Number of replicates\", \"Ki67_pos_pre_pop_violin_NC100\")\n",
    "    data = [Ki67_positive_premitotic_count[i][:,-1] for i in NC500_indices]\n",
    "    plot_violin(data, true_solution[NC500_indices[0]][-1,1], settings[NC500_indices,2].astype(int), r\"Ki67$^{+}$ (pre) population\", \"Number of replicates\", \"Ki67_pos_pre_pop_violin_NC500\")\n",
    "    data = [Ki67_positive_premitotic_count[i][:,-1] for i in NC1000_indices]\n",
    "    plot_violin(data, true_solution[NC1000_indices[0]][-1,1], settings[NC1000_indices,2].astype(int), r\"Ki67$^{+}$ (pre) population\", \"Number of replicates\", \"Ki67_pos_pre_pop_violin_NC1000\")\n",
    "    \n",
    "    data = [Ki67_positive_postmitotic_count[i][:,-1] for i in NC100_indices]\n",
    "    plot_violin(data, true_solution[NC100_indices[0]][-1,2], settings[NC100_indices,2].astype(int), r\"Ki67$^{+}$ (post) population\", \"Number of replicates\", \"Ki67_pos_post_pop_violin_NC100\")\n",
    "    data = [Ki67_positive_postmitotic_count[i][:,-1] for i in NC500_indices]\n",
    "    plot_violin(data, true_solution[NC500_indices[0]][-1,2], settings[NC500_indices,2].astype(int), r\"Ki67$^{+}$ (post) population\", \"Number of replicates\", \"Ki67_pos_post_pop_violin_NC500\")\n",
    "    data = [Ki67_positive_postmitotic_count[i][:,-1] for i in NC1000_indices]\n",
    "    plot_violin(data, true_solution[NC1000_indices[0]][-1,2], settings[NC1000_indices,2].astype(int), r\"Ki67$^{+}$ (post) population\", \"Number of replicates\", \"Ki67_pos_post_pop_violin_NC1000\")\n",
    "elif cycle_model == 1:\n",
    "    data = [Ki67_negative_count[i][:,-1] for i in NC100_indices]\n",
    "    plot_violin(data, true_solution[NC100_indices[0]][-1,0], settings[NC100_indices,2].astype(int), r\"Ki67$^{-}$ population\", \"Number of replicates\", \"Ki67_neg_pop_violin_NC100\")\n",
    "    data = [Ki67_negative_count[i][:,-1] for i in NC500_indices]\n",
    "    plot_violin(data, true_solution[NC500_indices[0]][-1,0], settings[NC500_indices,2].astype(int), r\"Ki67$^{-}$ population\", \"Number of replicates\", \"Ki67_neg_pop_violin_NC500\")\n",
    "    data = [Ki67_negative_count[i][:,-1] for i in NC1000_indices]\n",
    "    plot_violin(data, true_solution[NC1000_indices[0]][-1,0], settings[NC1000_indices,2].astype(int), r\"Ki67$^{-}$ population\", \"Number of replicates\", \"Ki67_neg_pop_violin_NC1000\")\n",
    "    \n",
    "    data = [Ki67_positive_count[i][:,-1] for i in NC100_indices]\n",
    "    plot_violin(data, true_solution[NC100_indices[0]][-1,1], settings[NC100_indices,2].astype(int), r\"Ki67$^{+}$ population\", \"Number of replicates\", \"Ki67_pos_pop_violin_NC100\")\n",
    "    data = [Ki67_positive_count[i][:,-1] for i in NC500_indices]\n",
    "    plot_violin(data, true_solution[NC500_indices[0]][-1,1], settings[NC500_indices,2].astype(int), r\"Ki67$^{+}$ population\", \"Number of replicates\", \"Ki67_pos_pop_violin_NC500\")\n",
    "    data = [Ki67_positive_count[i][:,-1] for i in NC1000_indices]\n",
    "    plot_violin(data, true_solution[NC1000_indices[0]][-1,1], settings[NC1000_indices,2].astype(int), r\"Ki67$^{+}$ population\", \"Number of replicates\", \"Ki67_pos_pop_violin_NC1000\")\n",
    "elif cycle_model == 2:\n",
    "    data = [G0G1_phase_count[i][:,-1] for i in NC100_indices]\n",
    "    plot_violin(data, true_solution[NC100_indices[0]][-1,0], settings[NC100_indices,2].astype(int), r\"G$_0$ G$_1$  population\", \"Number of replicates\", \"G0G1_phase_pop_violin_NC100\")\n",
    "    data = [G0G1_phase_count[i][:,-1] for i in NC500_indices]\n",
    "    plot_violin(data, true_solution[NC500_indices[0]][-1,0], settings[NC500_indices,2].astype(int), r\"G$_0$ G$_1$  population\", \"Number of replicates\", \"G0G1_phase_pop_violin_NC500\")\n",
    "    data = [G0G1_phase_count[i][:,-1] for i in NC1000_indices]\n",
    "    plot_violin(data, true_solution[NC1000_indices[0]][-1,0], settings[NC1000_indices,2].astype(int), r\"G$_0$ G$_1$  population\", \"Number of replicates\", \"G0G1_phase_pop_violin_NC1000\")\n",
    "    \n",
    "    data = [S_phase_count[i][:,-1] for i in NC100_indices]\n",
    "    plot_violin(data, true_solution[NC100_indices[0]][-1,1], settings[NC100_indices,2].astype(int), r\"S population\", \"Number of replicates\", \"S_phase_pop_violin_NC100\")\n",
    "    data = [S_phase_count[i][:,-1] for i in NC500_indices]\n",
    "    plot_violin(data, true_solution[NC500_indices[0]][-1,1], settings[NC500_indices,2].astype(int), r\"S population\", \"Number of replicates\", \"S_phase_pop_violin_NC500\")\n",
    "    data = [S_phase_count[i][:,-1] for i in NC1000_indices]\n",
    "    plot_violin(data, true_solution[NC1000_indices[0]][-1,1], settings[NC1000_indices,2].astype(int), r\"S population\", \"Number of replicates\", \"S_phase_pop_violin_NC1000\")\n",
    "    \n",
    "    data = [G2M_phase_count[i][:,-1] for i in NC100_indices]\n",
    "    plot_violin(data, true_solution[NC100_indices[0]][-1,2], settings[NC100_indices,2].astype(int), r\"G$_2$ M population\", \"Number of replicates\", \"G2M_phase_pop_violin_NC100\")\n",
    "    data = [G2M_phase_count[i][:,-1] for i in NC500_indices]\n",
    "    plot_violin(data, true_solution[NC500_indices[0]][-1,2], settings[NC500_indices,2].astype(int), r\"G$_2$ M population\", \"Number of replicates\", \"G2M_phase_pop_violin_NC500\")\n",
    "    data = [G2M_phase_count[i][:,-1] for i in NC1000_indices]\n",
    "    plot_violin(data, true_solution[NC1000_indices[0]][-1,2], settings[NC1000_indices,2].astype(int), r\"G$_2$ M population\", \"Number of replicates\", \"G2M_phase_pop_violin_NC1000\")\n",
    "elif cycle_model == 5:\n",
    "    data = [live_count[i][:,-1] for i in NC100_indices]\n",
    "    plot_violin(data, true_solution[NC100_indices[0]][-1,0], settings[NC100_indices,2].astype(int), r\"Live population\", \"Number of replicates\", \"Live_pop_violin_NC100\")\n",
    "    data = [live_count[i][:,-1] for i in NC500_indices]\n",
    "    plot_violin(data, true_solution[NC500_indices[0]][-1,0], settings[NC500_indices,2].astype(int), r\"Live population\", \"Number of replicates\", \"Live_pop_violin_NC500\")\n",
    "    data = [live_count[i][:,-1] for i in NC1000_indices]\n",
    "    plot_violin(data, true_solution[NC1000_indices[0]][-1,0], settings[NC1000_indices,2].astype(int), r\"Live population\", \"Number of replicates\", \"Live_pop_violin_NC1000\")\n",
    "elif cycle_model == 6:\n",
    "    data = [G0G1_phase_count[i][:,-1] for i in NC100_indices]\n",
    "    plot_violin(data, true_solution[NC100_indices[0]][-1,0], settings[NC100_indices,2].astype(int), r\"G$_0$ G$_1$  population\", \"Number of replicates\", \"G0G1_phase_pop_violin_NC100\")\n",
    "    data = [G0G1_phase_count[i][:,-1] for i in NC500_indices]\n",
    "    plot_violin(data, true_solution[NC500_indices[0]][-1,0], settings[NC500_indices,2].astype(int), r\"G$_0$ G$_1$  population\", \"Number of replicates\", \"G0G1_phase_pop_violin_NC500\")\n",
    "    data = [G0G1_phase_count[i][:,-1] for i in NC1000_indices]\n",
    "    plot_violin(data, true_solution[NC1000_indices[0]][-1,0], settings[NC1000_indices,2].astype(int), r\"G$_0$ G$_1$  population\", \"Number of replicates\", \"G0G1_phase_pop_violin_NC1000\")\n",
    "    \n",
    "    data = [S_phase_count[i][:,-1] for i in NC100_indices]\n",
    "    plot_violin(data, true_solution[NC100_indices[0]][-1,1], settings[NC100_indices,2].astype(int), r\"S population\", \"Number of replicates\", \"S_phase_pop_violin_NC100\")\n",
    "    data = [S_phase_count[i][:,-1] for i in NC500_indices]\n",
    "    plot_violin(data, true_solution[NC500_indices[0]][-1,1], settings[NC500_indices,2].astype(int), r\"S population\", \"Number of replicates\", \"S_phase_pop_violin_NC500\")\n",
    "    data = [S_phase_count[i][:,-1] for i in NC1000_indices]\n",
    "    plot_violin(data, true_solution[NC1000_indices[0]][-1,1], settings[NC1000_indices,2].astype(int), r\"S population\", \"Number of replicates\", \"S_phase_pop_violin_NC1000\")\n",
    "    \n",
    "    data = [G2_phase_count[i][:,-1] for i in NC100_indices]\n",
    "    plot_violin(data, true_solution[NC100_indices[0]][-1,2], settings[NC100_indices,2].astype(int), r\"G$_2$ population\", \"Number of replicates\", \"G2_phase_pop_violin_NC100\")\n",
    "    data = [G2_phase_count[i][:,-1] for i in NC500_indices]\n",
    "    plot_violin(data, true_solution[NC500_indices[0]][-1,2], settings[NC500_indices,2].astype(int), r\"G$_2$ population\", \"Number of replicates\", \"G2_phase_pop_violin_NC500\")\n",
    "    data = [G2_phase_count[i][:,-1] for i in NC1000_indices]\n",
    "    plot_violin(data, true_solution[NC1000_indices[0]][-1,2], settings[NC1000_indices,2].astype(int), r\"G$_2$ population\", \"Number of replicates\", \"G2_phase_pop_violin_NC1000\")\n",
    "    \n",
    "    data = [M_phase_count[i][:,-1] for i in NC100_indices]\n",
    "    plot_violin(data, true_solution[NC100_indices[0]][-1,3], settings[NC100_indices,2].astype(int), r\"M population\", \"Number of replicates\", \"M_phase_pop_violin_NC100\")\n",
    "    data = [M_phase_count[i][:,-1] for i in NC500_indices]\n",
    "    plot_violin(data, true_solution[NC500_indices[0]][-1,3], settings[NC500_indices,2].astype(int), r\"M population\", \"Number of replicates\", \"M_phase_pop_violin_NC500\")\n",
    "    data = [M_phase_count[i][:,-1] for i in NC1000_indices]\n",
    "    plot_violin(data, true_solution[NC1000_indices[0]][-1,3], settings[NC1000_indices,2].astype(int), r\"M population\", \"Number of replicates\", \"M_phase_pop_violin_NC1000\")\n",
    "else:\n",
    "    print(\"Unrecognized cell cycle model.\")"
   ]
  },
  {
   "cell_type": "markdown",
   "id": "7841a93f",
   "metadata": {},
   "source": [
    "## Generate a violin plot for the distribution of the tumor cell fraction at the final simulation time"
   ]
  },
  {
   "cell_type": "code",
   "execution_count": 207,
   "id": "2274e1aa",
   "metadata": {},
   "outputs": [
    {
     "name": "stderr",
     "output_type": "stream",
     "text": [
      "<ipython-input-205-3a66453388a7>:26: RuntimeWarning: More than 20 figures have been opened. Figures created through the pyplot interface (`matplotlib.pyplot.figure`) are retained until explicitly closed and may consume too much memory. (To control this warning, see the rcParam `figure.max_open_warning`). Consider using `matplotlib.pyplot.close()`.\n",
      "  plt.subplots(1, 1, figsize = (5.27, 2.96), dpi = 300)\n"
     ]
    },
    {
     "data": {
      "text/plain": [
       "<Figure size 432x288 with 0 Axes>"
      ]
     },
     "metadata": {},
     "output_type": "display_data"
    },
    {
     "data": {
      "text/plain": [
       "<Figure size 1581x888 with 0 Axes>"
      ]
     },
     "metadata": {},
     "output_type": "display_data"
    },
    {
     "data": {
      "text/plain": [
       "<Figure size 1581x888 with 0 Axes>"
      ]
     },
     "metadata": {},
     "output_type": "display_data"
    },
    {
     "data": {
      "text/plain": [
       "<Figure size 1581x888 with 0 Axes>"
      ]
     },
     "metadata": {},
     "output_type": "display_data"
    },
    {
     "data": {
      "text/plain": [
       "<Figure size 1581x888 with 0 Axes>"
      ]
     },
     "metadata": {},
     "output_type": "display_data"
    },
    {
     "data": {
      "text/plain": [
       "<Figure size 1581x888 with 0 Axes>"
      ]
     },
     "metadata": {},
     "output_type": "display_data"
    },
    {
     "data": {
      "text/plain": [
       "<Figure size 1581x888 with 0 Axes>"
      ]
     },
     "metadata": {},
     "output_type": "display_data"
    },
    {
     "data": {
      "text/plain": [
       "<Figure size 1581x888 with 0 Axes>"
      ]
     },
     "metadata": {},
     "output_type": "display_data"
    },
    {
     "data": {
      "text/plain": [
       "<Figure size 1581x888 with 0 Axes>"
      ]
     },
     "metadata": {},
     "output_type": "display_data"
    },
    {
     "data": {
      "text/plain": [
       "<Figure size 1581x888 with 0 Axes>"
      ]
     },
     "metadata": {},
     "output_type": "display_data"
    },
    {
     "data": {
      "text/plain": [
       "<Figure size 1581x888 with 0 Axes>"
      ]
     },
     "metadata": {},
     "output_type": "display_data"
    },
    {
     "data": {
      "text/plain": [
       "<Figure size 1581x888 with 0 Axes>"
      ]
     },
     "metadata": {},
     "output_type": "display_data"
    },
    {
     "data": {
      "text/plain": [
       "<Figure size 1581x888 with 0 Axes>"
      ]
     },
     "metadata": {},
     "output_type": "display_data"
    },
    {
     "data": {
      "text/plain": [
       "<Figure size 1581x888 with 0 Axes>"
      ]
     },
     "metadata": {},
     "output_type": "display_data"
    },
    {
     "data": {
      "text/plain": [
       "<Figure size 1581x888 with 0 Axes>"
      ]
     },
     "metadata": {},
     "output_type": "display_data"
    },
    {
     "data": {
      "text/plain": [
       "<Figure size 1581x888 with 0 Axes>"
      ]
     },
     "metadata": {},
     "output_type": "display_data"
    },
    {
     "data": {
      "text/plain": [
       "<Figure size 1581x888 with 0 Axes>"
      ]
     },
     "metadata": {},
     "output_type": "display_data"
    },
    {
     "data": {
      "text/plain": [
       "<Figure size 1581x888 with 0 Axes>"
      ]
     },
     "metadata": {},
     "output_type": "display_data"
    },
    {
     "data": {
      "text/plain": [
       "<Figure size 1581x888 with 0 Axes>"
      ]
     },
     "metadata": {},
     "output_type": "display_data"
    },
    {
     "data": {
      "text/plain": [
       "<Figure size 1581x888 with 0 Axes>"
      ]
     },
     "metadata": {},
     "output_type": "display_data"
    },
    {
     "data": {
      "text/plain": [
       "<Figure size 1581x888 with 0 Axes>"
      ]
     },
     "metadata": {},
     "output_type": "display_data"
    },
    {
     "data": {
      "text/plain": [
       "<Figure size 1581x888 with 0 Axes>"
      ]
     },
     "metadata": {},
     "output_type": "display_data"
    },
    {
     "data": {
      "text/plain": [
       "<Figure size 1581x888 with 0 Axes>"
      ]
     },
     "metadata": {},
     "output_type": "display_data"
    },
    {
     "data": {
      "text/plain": [
       "<Figure size 1581x888 with 0 Axes>"
      ]
     },
     "metadata": {},
     "output_type": "display_data"
    },
    {
     "data": {
      "image/png": "[encoded data removed]",
      "text/plain": [
       "<Figure size 1581x888 with 1 Axes>"
      ]
     },
     "metadata": {
      "needs_background": "light"
     },
     "output_type": "display_data"
    }
   ],
   "source": [
    "if cycle_model == 0:\n",
    "    data = [Ki67_negative_fraction[i][:,-1] for i in NC100_indices]\n",
    "    plot_violin(data, Ki67_negative_true[NC100_indices[0]][-1], settings[NC100_indices,2].astype(int), r\"Ki67$^{-}$ fraction\", \"Number of replicates\", \"Ki67_neg_frac_violin_NC100\")\n",
    "    data = [Ki67_negative_fraction[i][:,-1] for i in NC500_indices]\n",
    "    plot_violin(data, Ki67_negative_true[NC500_indices[0]][-1], settings[NC500_indices,2].astype(int), r\"Ki67$^{-}$ fraction\", \"Number of replicates\", \"Ki67_neg_frac_violin_NC500\")\n",
    "    data = [Ki67_negative_fraction[i][:,-1] for i in NC1000_indices]\n",
    "    plot_violin(data, Ki67_negative_true[NC1000_indices[0]][-1], settings[NC1000_indices,2].astype(int), r\"Ki67$^{-}$ fraction\", \"Number of replicates\", \"Ki67_neg_frac_violin_NC1000\")\n",
    "    \n",
    "    data = [Ki67_positive_premitotic_fraction[i][:,-1] for i in NC100_indices]\n",
    "    plot_violin(data, Ki67_positive_premitotic_true[NC100_indices[0]][-1], settings[NC100_indices,2].astype(int), r\"Ki67$^{+}$ (pre) fraction\", \"Number of replicates\", \"Ki67_pos_pre_frac_violin_NC100\")\n",
    "    data = [Ki67_positive_premitotic_fraction[i][:,-1] for i in NC500_indices]\n",
    "    plot_violin(data, Ki67_positive_premitotic_true[NC500_indices[0]][-1], settings[NC500_indices,2].astype(int), r\"Ki67$^{+}$ (pre) fraction\", \"Number of replicates\", \"Ki67_pos_pre_frac_violin_NC500\")\n",
    "    data = [Ki67_positive_premitotic_fraction[i][:,-1] for i in NC1000_indices]\n",
    "    plot_violin(data, Ki67_positive_premitotic_true[NC1000_indices[0]][-1], settings[NC1000_indices,2].astype(int), r\"Ki67$^{+}$ (pre) fraction\", \"Number of replicates\", \"Ki67_pos_pre_frac_violin_NC1000\")\n",
    "    \n",
    "    data = [Ki67_positive_postmitotic_fraction[i][:,-1] for i in NC100_indices]\n",
    "    plot_violin(data, Ki67_positive_postmitotic_true[NC100_indices[0]][-1], settings[NC100_indices,2].astype(int), r\"Ki67$^{+}$ (post) fraction\", \"Number of replicates\", \"Ki67_pos_post_frac_violin_NC100\")\n",
    "    data = [Ki67_positive_postmitotic_fraction[i][:,-1] for i in NC500_indices]\n",
    "    plot_violin(data, Ki67_positive_postmitotic_true[NC500_indices[0]][-1], settings[NC500_indices,2].astype(int), r\"Ki67$^{+}$ (post) fraction\", \"Number of replicates\", \"Ki67_pos_post_frac_violin_NC500\")\n",
    "    data = [Ki67_positive_postmitotic_fraction[i][:,-1] for i in NC1000_indices]\n",
    "    plot_violin(data, Ki67_positive_postmitotic_true[NC1000_indices[0]][-1], settings[NC1000_indices,2].astype(int), r\"Ki67$^{+}$ (post) fraction\", \"Number of replicates\", \"Ki67_pos_post_frac_violin_NC1000\")\n",
    "elif cycle_model == 1:\n",
    "    data = [Ki67_negative_fraction[i][:,-1] for i in NC100_indices]\n",
    "    plot_violin(data, Ki67_negative_true[NC100_indices[0]][-1], settings[NC100_indices,2].astype(int), r\"Ki67$^{-}$ fraction\", \"Number of replicates\", \"Ki67_neg_frac_violin_NC100\")\n",
    "    data = [Ki67_negative_fraction[i][:,-1] for i in NC500_indices]\n",
    "    plot_violin(data, Ki67_negative_true[NC500_indices[0]][-1], settings[NC500_indices,2].astype(int), r\"Ki67$^{-}$ fraction\", \"Number of replicates\", \"Ki67_neg_frac_violin_NC500\")\n",
    "    data = [Ki67_negative_fraction[i][:,-1] for i in NC1000_indices]\n",
    "    plot_violin(data, Ki67_negative_true[NC1000_indices[0]][-1], settings[NC1000_indices,2].astype(int), r\"Ki67$^{-}$ fraction\", \"Number of replicates\", \"Ki67_neg_frac_violin_NC1000\")\n",
    "    \n",
    "    data = [Ki67_positive_fraction[i][:,-1] for i in NC100_indices]\n",
    "    plot_violin(data, Ki67_positive_true[NC100_indices[0]][-1], settings[NC100_indices,2].astype(int), r\"Ki67$^{+}$ fraction\", \"Number of replicates\", \"Ki67_pos_frac_violin_NC100\")\n",
    "    data = [Ki67_positive_fraction[i][:,-1] for i in NC500_indices]\n",
    "    plot_violin(data, Ki67_positive_true[NC500_indices[0]][-1], settings[NC500_indices,2].astype(int), r\"Ki67$^{+}$ fraction\", \"Number of replicates\", \"Ki67_pos_frac_violin_NC500\")\n",
    "    data = [Ki67_positive_fraction[i][:,-1] for i in NC1000_indices]\n",
    "    plot_violin(data, Ki67_positive_true[NC1000_indices[0]][-1], settings[NC1000_indices,2].astype(int), r\"Ki67$^{+}$ fraction\", \"Number of replicates\", \"Ki67_pos_frac_violin_NC1000\")\n",
    "elif cycle_model == 2:\n",
    "    data = [G0G1_phase_fraction[i][:,-1] for i in NC100_indices]\n",
    "    plot_violin(data, G0G1_phase_true[NC100_indices[0]][-1], settings[NC100_indices,2].astype(int), r\"G$_0$ G$_1$  fraction\", \"Number of replicates\", \"G0G1_phase_frac_violin_NC100\")\n",
    "    data = [G0G1_phase_fraction[i][:,-1] for i in NC500_indices]\n",
    "    plot_violin(data, G0G1_phase_true[NC500_indices[0]][-1], settings[NC500_indices,2].astype(int), r\"G$_0$ G$_1$  fraction\", \"Number of replicates\", \"G0G1_phase_frac_violin_NC500\")\n",
    "    data = [G0G1_phase_fraction[i][:,-1] for i in NC1000_indices]\n",
    "    plot_violin(data, G0G1_phase_true[NC1000_indices[0]][-1], settings[NC1000_indices,2].astype(int), r\"G$_0$ G$_1$  fraction\", \"Number of replicates\", \"G0G1_phase_frac_violin_NC1000\")\n",
    "    \n",
    "    data = [S_phase_fraction[i][:,-1] for i in NC100_indices]\n",
    "    plot_violin(data, S_phase_true[NC100_indices[0]][-1], settings[NC100_indices,2].astype(int), r\"S fraction\", \"Number of replicates\", \"S_phase_frac_violin_NC100\")\n",
    "    data = [S_phase_fraction[i][:,-1] for i in NC500_indices]\n",
    "    plot_violin(data, S_phase_true[NC500_indices[0]][-1], settings[NC500_indices,2].astype(int), r\"S fraction\", \"Number of replicates\", \"S_phase_frac_violin_NC500\")\n",
    "    data = [S_phase_fraction[i][:,-1] for i in NC1000_indices]\n",
    "    plot_violin(data, S_phase_true[NC1000_indices[0]][-1], settings[NC1000_indices,2].astype(int), r\"S fraction\", \"Number of replicates\", \"S_phase_frac_violin_NC1000\")\n",
    "    \n",
    "    data = [G2M_phase_fraction[i][:,-1] for i in NC100_indices]\n",
    "    plot_violin(data, G2M_phase_true[NC100_indices[0]][-1], settings[NC100_indices,2].astype(int), r\"G$_2$ M fraction\", \"Number of replicates\", \"G2M_phase_frac_violin_NC100\")\n",
    "    data = [G2M_phase_fraction[i][:,-1] for i in NC500_indices]\n",
    "    plot_violin(data, G2M_phase_true[NC500_indices[0]][-1], settings[NC500_indices,2].astype(int), r\"G$_2$ M fraction\", \"Number of replicates\", \"G2M_phase_frac_violin_NC500\")\n",
    "    data = [G2M_phase_fraction[i][:,-1] for i in NC1000_indices]\n",
    "    plot_violin(data, G2M_phase_true[NC1000_indices[0]][-1], settings[NC1000_indices,2].astype(int), r\"G$_2$ M fraction\", \"Number of replicates\", \"G2M_phase_frac_violin_NC1000\")\n",
    "elif cycle_model == 5:\n",
    "    data = [live_fraction[i][:,-1] for i in NC100_indices]\n",
    "    plot_violin(data, live_true[NC100_indices[0]][-1], settings[NC100_indices,2].astype(int), r\"Live fraction\", \"Number of replicates\", \"Live_frac_violin_NC100\")\n",
    "    data = [live_fraction[i][:,-1] for i in NC500_indices]\n",
    "    plot_violin(data, live_true[NC500_indices[0]][-1], settings[NC500_indices,2].astype(int), r\"Live fraction\", \"Number of replicates\", \"Live_frac_violin_NC500\")\n",
    "    data = [live_fraction[i][:,-1] for i in NC1000_indices]\n",
    "    plot_violin(data, live_true[NC1000_indices[0]][-1], settings[NC1000_indices,2].astype(int), r\"Live fraction\", \"Number of replicates\", \"Live_frac_violin_NC1000\")\n",
    "elif cycle_model == 6:\n",
    "    data = [G0G1_phase_fraction[i][:,-1] for i in NC100_indices]\n",
    "    plot_violin(data, G0G1_phase_true[NC100_indices[0]][-1], settings[NC100_indices,2].astype(int), r\"G$_0$ G$_1$  fraction\", \"Number of replicates\", \"G0G1_phase_frac_violin_NC100\")\n",
    "    data = [G0G1_phase_fraction[i][:,-1] for i in NC500_indices]\n",
    "    plot_violin(data, G0G1_phase_true[NC500_indices[0]][-1], settings[NC500_indices,2].astype(int), r\"G$_0$ G$_1$  fraction\", \"Number of replicates\", \"G0G1_phase_frac_violin_NC500\")\n",
    "    data = [G0G1_phase_fraction[i][:,-1] for i in NC1000_indices]\n",
    "    plot_violin(data, G0G1_phase_true[NC1000_indices[0]][-1], settings[NC1000_indices,2].astype(int), r\"G$_0$ G$_1$  fraction\", \"Number of replicates\", \"G0G1_phase_frac_violin_NC1000\")\n",
    "    \n",
    "    data = [S_phase_fraction[i][:,-1] for i in NC100_indices]\n",
    "    plot_violin(data, S_phase_true[NC100_indices[0]][-1], settings[NC100_indices,2].astype(int), r\"S fraction\", \"Number of replicates\", \"S_phase_frac_violin_NC100\")\n",
    "    data = [S_phase_fraction[i][:,-1] for i in NC500_indices]\n",
    "    plot_violin(data, S_phase_true[NC500_indices[0]][-1], settings[NC500_indices,2].astype(int), r\"S fraction\", \"Number of replicates\", \"S_phase_frac_violin_NC500\")\n",
    "    data = [S_phase_fraction[i][:,-1] for i in NC1000_indices]\n",
    "    plot_violin(data, S_phase_true[NC1000_indices[0]][-1], settings[NC1000_indices,2].astype(int), r\"S fraction\", \"Number of replicates\", \"S_phase_frac_violin_NC1000\")\n",
    "    \n",
    "    data = [G2_phase_fraction[i][:,-1] for i in NC100_indices]\n",
    "    plot_violin(data, G2_phase_true[NC100_indices[0]][-1], settings[NC100_indices,2].astype(int), r\"G$_2$ fraction\", \"Number of replicates\", \"G2_phase_frac_violin_NC100\")\n",
    "    data = [G2_phase_fraction[i][:,-1] for i in NC500_indices]\n",
    "    plot_violin(data, G2_phase_true[NC500_indices[0]][-1], settings[NC500_indices,2].astype(int), r\"G$_2$ fraction\", \"Number of replicates\", \"G2_phase_frac_violin_NC500\")\n",
    "    data = [G2_phase_fraction[i][:,-1] for i in NC1000_indices]\n",
    "    plot_violin(data, G2_phase_true[NC1000_indices[0]][-1], settings[NC1000_indices,2].astype(int), r\"G$_2$ fraction\", \"Number of replicates\", \"G2_phase_frac_violin_NC1000\")\n",
    "    \n",
    "    data = [M_phase_fraction[i][:,-1] for i in NC100_indices]\n",
    "    plot_violin(data, M_phase_true[NC100_indices[0]][-1], settings[NC100_indices,2].astype(int), r\"M fraction\", \"Number of replicates\", \"M_phase_frac_violin_NC100\")\n",
    "    data = [M_phase_fraction[i][:,-1] for i in NC500_indices]\n",
    "    plot_violin(data, M_phase_true[NC500_indices[0]][-1], settings[NC500_indices,2].astype(int), r\"M fraction\", \"Number of replicates\", \"M_phase_frac_violin_NC500\")\n",
    "    data = [M_phase_fraction[i][:,-1] for i in NC1000_indices]\n",
    "    plot_violin(data, M_phase_true[NC1000_indices[0]][-1], settings[NC1000_indices,2].astype(int), r\"M fraction\", \"Number of replicates\", \"M_phase_frac_violin_NC1000\")\n",
    "else:\n",
    "    print(\"Unrecognized cell cycle model.\")"
   ]
  },
  {
   "cell_type": "code",
   "execution_count": 208,
   "id": "3c8d368b",
   "metadata": {
    "scrolled": true
   },
   "outputs": [
    {
     "name": "stderr",
     "output_type": "stream",
     "text": [
      "<ipython-input-205-3a66453388a7>:26: RuntimeWarning: More than 20 figures have been opened. Figures created through the pyplot interface (`matplotlib.pyplot.figure`) are retained until explicitly closed and may consume too much memory. (To control this warning, see the rcParam `figure.max_open_warning`). Consider using `matplotlib.pyplot.close()`.\n",
      "  plt.subplots(1, 1, figsize = (5.27, 2.96), dpi = 300)\n"
     ]
    },
    {
     "data": {
      "text/plain": [
       "<Figure size 432x288 with 0 Axes>"
      ]
     },
     "metadata": {},
     "output_type": "display_data"
    },
    {
     "data": {
      "text/plain": [
       "<Figure size 1581x888 with 0 Axes>"
      ]
     },
     "metadata": {},
     "output_type": "display_data"
    },
    {
     "data": {
      "text/plain": [
       "<Figure size 1581x888 with 0 Axes>"
      ]
     },
     "metadata": {},
     "output_type": "display_data"
    },
    {
     "data": {
      "text/plain": [
       "<Figure size 1581x888 with 0 Axes>"
      ]
     },
     "metadata": {},
     "output_type": "display_data"
    },
    {
     "data": {
      "text/plain": [
       "<Figure size 1581x888 with 0 Axes>"
      ]
     },
     "metadata": {},
     "output_type": "display_data"
    },
    {
     "data": {
      "text/plain": [
       "<Figure size 1581x888 with 0 Axes>"
      ]
     },
     "metadata": {},
     "output_type": "display_data"
    },
    {
     "data": {
      "text/plain": [
       "<Figure size 1581x888 with 0 Axes>"
      ]
     },
     "metadata": {},
     "output_type": "display_data"
    },
    {
     "data": {
      "text/plain": [
       "<Figure size 1581x888 with 0 Axes>"
      ]
     },
     "metadata": {},
     "output_type": "display_data"
    },
    {
     "data": {
      "text/plain": [
       "<Figure size 1581x888 with 0 Axes>"
      ]
     },
     "metadata": {},
     "output_type": "display_data"
    },
    {
     "data": {
      "text/plain": [
       "<Figure size 1581x888 with 0 Axes>"
      ]
     },
     "metadata": {},
     "output_type": "display_data"
    },
    {
     "data": {
      "text/plain": [
       "<Figure size 1581x888 with 0 Axes>"
      ]
     },
     "metadata": {},
     "output_type": "display_data"
    },
    {
     "data": {
      "text/plain": [
       "<Figure size 1581x888 with 0 Axes>"
      ]
     },
     "metadata": {},
     "output_type": "display_data"
    },
    {
     "data": {
      "text/plain": [
       "<Figure size 1581x888 with 0 Axes>"
      ]
     },
     "metadata": {},
     "output_type": "display_data"
    },
    {
     "data": {
      "text/plain": [
       "<Figure size 1581x888 with 0 Axes>"
      ]
     },
     "metadata": {},
     "output_type": "display_data"
    },
    {
     "data": {
      "text/plain": [
       "<Figure size 1581x888 with 0 Axes>"
      ]
     },
     "metadata": {},
     "output_type": "display_data"
    },
    {
     "data": {
      "text/plain": [
       "<Figure size 1581x888 with 0 Axes>"
      ]
     },
     "metadata": {},
     "output_type": "display_data"
    },
    {
     "data": {
      "text/plain": [
       "<Figure size 1581x888 with 0 Axes>"
      ]
     },
     "metadata": {},
     "output_type": "display_data"
    },
    {
     "data": {
      "text/plain": [
       "<Figure size 1581x888 with 0 Axes>"
      ]
     },
     "metadata": {},
     "output_type": "display_data"
    },
    {
     "data": {
      "text/plain": [
       "<Figure size 1581x888 with 0 Axes>"
      ]
     },
     "metadata": {},
     "output_type": "display_data"
    },
    {
     "data": {
      "text/plain": [
       "<Figure size 1581x888 with 0 Axes>"
      ]
     },
     "metadata": {},
     "output_type": "display_data"
    },
    {
     "data": {
      "text/plain": [
       "<Figure size 1581x888 with 0 Axes>"
      ]
     },
     "metadata": {},
     "output_type": "display_data"
    },
    {
     "data": {
      "text/plain": [
       "<Figure size 1581x888 with 0 Axes>"
      ]
     },
     "metadata": {},
     "output_type": "display_data"
    },
    {
     "data": {
      "text/plain": [
       "<Figure size 1581x888 with 0 Axes>"
      ]
     },
     "metadata": {},
     "output_type": "display_data"
    },
    {
     "data": {
      "text/plain": [
       "<Figure size 1581x888 with 0 Axes>"
      ]
     },
     "metadata": {},
     "output_type": "display_data"
    },
    {
     "data": {
      "text/plain": [
       "<Figure size 1581x888 with 0 Axes>"
      ]
     },
     "metadata": {},
     "output_type": "display_data"
    },
    {
     "data": {
      "text/plain": [
       "<Figure size 1581x888 with 0 Axes>"
      ]
     },
     "metadata": {},
     "output_type": "display_data"
    },
    {
     "data": {
      "text/plain": [
       "<Figure size 1581x888 with 0 Axes>"
      ]
     },
     "metadata": {},
     "output_type": "display_data"
    },
    {
     "data": {
      "text/plain": [
       "<Figure size 1581x888 with 0 Axes>"
      ]
     },
     "metadata": {},
     "output_type": "display_data"
    },
    {
     "data": {
      "text/plain": [
       "<Figure size 1581x888 with 0 Axes>"
      ]
     },
     "metadata": {},
     "output_type": "display_data"
    },
    {
     "data": {
      "text/plain": [
       "<Figure size 1581x888 with 0 Axes>"
      ]
     },
     "metadata": {},
     "output_type": "display_data"
    },
    {
     "data": {
      "text/plain": [
       "<Figure size 1581x888 with 0 Axes>"
      ]
     },
     "metadata": {},
     "output_type": "display_data"
    },
    {
     "data": {
      "text/plain": [
       "<Figure size 1581x888 with 0 Axes>"
      ]
     },
     "metadata": {},
     "output_type": "display_data"
    },
    {
     "data": {
      "text/plain": [
       "<Figure size 1581x888 with 0 Axes>"
      ]
     },
     "metadata": {},
     "output_type": "display_data"
    },
    {
     "data": {
      "text/plain": [
       "<Figure size 1581x888 with 0 Axes>"
      ]
     },
     "metadata": {},
     "output_type": "display_data"
    },
    {
     "data": {
      "text/plain": [
       "<Figure size 1581x888 with 0 Axes>"
      ]
     },
     "metadata": {},
     "output_type": "display_data"
    },
    {
     "data": {
      "text/plain": [
       "<Figure size 1581x888 with 0 Axes>"
      ]
     },
     "metadata": {},
     "output_type": "display_data"
    },
    {
     "data": {
      "text/plain": [
       "<Figure size 1581x888 with 0 Axes>"
      ]
     },
     "metadata": {},
     "output_type": "display_data"
    },
    {
     "data": {
      "text/plain": [
       "<Figure size 1581x888 with 0 Axes>"
      ]
     },
     "metadata": {},
     "output_type": "display_data"
    },
    {
     "data": {
      "text/plain": [
       "<Figure size 1581x888 with 0 Axes>"
      ]
     },
     "metadata": {},
     "output_type": "display_data"
    },
    {
     "data": {
      "text/plain": [
       "<Figure size 1581x888 with 0 Axes>"
      ]
     },
     "metadata": {},
     "output_type": "display_data"
    },
    {
     "data": {
      "text/plain": [
       "<Figure size 1581x888 with 0 Axes>"
      ]
     },
     "metadata": {},
     "output_type": "display_data"
    },
    {
     "data": {
      "text/plain": [
       "<Figure size 1581x888 with 0 Axes>"
      ]
     },
     "metadata": {},
     "output_type": "display_data"
    },
    {
     "data": {
      "text/plain": [
       "<Figure size 1581x888 with 0 Axes>"
      ]
     },
     "metadata": {},
     "output_type": "display_data"
    },
    {
     "data": {
      "text/plain": [
       "<Figure size 1581x888 with 0 Axes>"
      ]
     },
     "metadata": {},
     "output_type": "display_data"
    },
    {
     "data": {
      "text/plain": [
       "<Figure size 1581x888 with 0 Axes>"
      ]
     },
     "metadata": {},
     "output_type": "display_data"
    },
    {
     "data": {
      "text/plain": [
       "<Figure size 1581x888 with 0 Axes>"
      ]
     },
     "metadata": {},
     "output_type": "display_data"
    },
    {
     "data": {
      "text/plain": [
       "<Figure size 1581x888 with 0 Axes>"
      ]
     },
     "metadata": {},
     "output_type": "display_data"
    },
    {
     "data": {
      "text/plain": [
       "<Figure size 1581x888 with 0 Axes>"
      ]
     },
     "metadata": {},
     "output_type": "display_data"
    },
    {
     "data": {
      "image/png": "[encoded data removed]",
      "text/plain": [
       "<Figure size 1581x888 with 1 Axes>"
      ]
     },
     "metadata": {
      "needs_background": "light"
     },
     "output_type": "display_data"
    }
   ],
   "source": [
    "R10_indices = np.where(settings[:,2] == 10)[0]\n",
    "R20_indices = np.where(settings[:,2] == 20)[0]\n",
    "R50_indices = np.where(settings[:,2] == 50)[0]\n",
    "R100_indices = np.where(settings[:,2] == 100)[0]\n",
    "R200_indices = np.where(settings[:,2] == 200)[0]\n",
    "R300_indices = np.where(settings[:,2] == 300)[0]\n",
    "\n",
    "if cycle_model == 0:\n",
    "    data = [Ki67_negative_fraction[i][:,-1] for i in R10_indices]\n",
    "    plot_violin(data, Ki67_negative_true[R10_indices[-1]][-1], settings[R10_indices,1].astype(int), r\"Ki67$^{-}$ fraction\", \"Initial number of cells\", \"Ki67_neg_frac_violin_R10\")\n",
    "    data = [Ki67_negative_fraction[i][:,-1] for i in R20_indices]\n",
    "    plot_violin(data, Ki67_negative_true[R20_indices[-1]][-1], settings[R20_indices,1].astype(int), r\"Ki67$^{-}$ fraction\", \"Initial number of cells\", \"Ki67_neg_frac_violin_R20\")\n",
    "    data = [Ki67_negative_fraction[i][:,-1] for i in R50_indices]\n",
    "    plot_violin(data, Ki67_negative_true[R50_indices[-1]][-1], settings[R50_indices,1].astype(int), r\"Ki67$^{-}$ fraction\", \"Initial number of cells\", \"Ki67_neg_frac_violin_R50\")\n",
    "    data = [Ki67_negative_fraction[i][:,-1] for i in R100_indices]\n",
    "    plot_violin(data, Ki67_negative_true[R100_indices[-1]][-1], settings[R100_indices,1].astype(int), r\"Ki67$^{-}$ fraction\", \"Initial number of cells\", \"Ki67_neg_frac_violin_R100\")\n",
    "    data = [Ki67_negative_fraction[i][:,-1] for i in R200_indices]\n",
    "    plot_violin(data, Ki67_negative_true[R200_indices[-1]][-1], settings[R200_indices,1].astype(int), r\"Ki67$^{-}$ fraction\", \"Initial number of cells\", \"Ki67_neg_frac_violin_R200\")\n",
    "    data = [Ki67_negative_fraction[i][:,-1] for i in R300_indices]\n",
    "    plot_violin(data, Ki67_negative_true[R300_indices[-1]][-1], settings[R300_indices,1].astype(int), r\"Ki67$^{-}$ fraction\", \"Initial number of cells\", \"Ki67_neg_frac_violin_R300\")\n",
    "    \n",
    "    data = [Ki67_positive_premitotic_fraction[i][:,-1] for i in R10_indices]\n",
    "    plot_violin(data, Ki67_positive_premitotic_true[R10_indices[-1]][-1], settings[R10_indices,1].astype(int), r\"Ki67$^{+}$ (pre) fraction\", \"Initial number of cells\", \"Ki67_pos_pre_frac_violin_R10\")\n",
    "    data = [Ki67_positive_premitotic_fraction[i][:,-1] for i in R20_indices]\n",
    "    plot_violin(data, Ki67_positive_premitotic_true[R20_indices[-1]][-1], settings[R20_indices,1].astype(int), r\"Ki67$^{+}$ (pre) fraction\", \"Initial number of cells\", \"Ki67_pos_pre_frac_violin_R20\")\n",
    "    data = [Ki67_positive_premitotic_fraction[i][:,-1] for i in R50_indices]\n",
    "    plot_violin(data, Ki67_positive_premitotic_true[R50_indices[-1]][-1], settings[R50_indices,1].astype(int), r\"Ki67$^{+}$ (pre) fraction\", \"Initial number of cells\", \"Ki67_pos_pre_frac_violin_R50\")\n",
    "    data = [Ki67_positive_premitotic_fraction[i][:,-1] for i in R100_indices]\n",
    "    plot_violin(data, Ki67_positive_premitotic_true[R100_indices[-1]][-1], settings[R100_indices,1].astype(int), r\"Ki67$^{+}$ (pre) fraction\", \"Initial number of cells\", \"Ki67_pos_pre_frac_violin_R100\")\n",
    "    data = [Ki67_positive_premitotic_fraction[i][:,-1] for i in R200_indices]\n",
    "    plot_violin(data, Ki67_positive_premitotic_true[R200_indices[-1]][-1], settings[R200_indices,1].astype(int), r\"Ki67$^{+}$ (pre) fraction\", \"Initial number of cells\", \"Ki67_pos_pre_frac_violin_R200\")\n",
    "    data = [Ki67_positive_premitotic_fraction[i][:,-1] for i in R300_indices]\n",
    "    plot_violin(data, Ki67_positive_premitotic_true[R300_indices[-1]][-1], settings[R300_indices,1].astype(int), r\"Ki67$^{+}$ (pre) fraction\", \"Initial number of cells\", \"Ki67_pos_pre_frac_violin_R300\")\n",
    "    \n",
    "    data = [Ki67_positive_postmitotic_fraction[i][:,-1] for i in R10_indices]\n",
    "    plot_violin(data, Ki67_positive_postmitotic_true[R10_indices[-1]][-1], settings[R10_indices,1].astype(int), r\"Ki67$^{+}$ (post) fraction\", \"Initial number of cells\", \"Ki67_pos_post_frac_violin_R10\")\n",
    "    data = [Ki67_positive_postmitotic_fraction[i][:,-1] for i in R20_indices]\n",
    "    plot_violin(data, Ki67_positive_postmitotic_true[R20_indices[-1]][-1], settings[R20_indices,1].astype(int), r\"Ki67$^{+}$ (post) fraction\", \"Initial number of cells\", \"Ki67_pos_post_frac_violin_R20\")\n",
    "    data = [Ki67_positive_postmitotic_fraction[i][:,-1] for i in R50_indices]\n",
    "    plot_violin(data, Ki67_positive_postmitotic_true[R50_indices[-1]][-1], settings[R50_indices,1].astype(int), r\"Ki67$^{+}$ (post) fraction\", \"Initial number of cells\", \"Ki67_pos_post_frac_violin_R50\")\n",
    "    data = [Ki67_positive_postmitotic_fraction[i][:,-1] for i in R100_indices]\n",
    "    plot_violin(data, Ki67_positive_postmitotic_true[R100_indices[-1]][-1], settings[R100_indices,1].astype(int), r\"Ki67$^{+}$ (post) fraction\", \"Initial number of cells\", \"Ki67_pos_post_frac_violin_R100\")\n",
    "    data = [Ki67_positive_postmitotic_fraction[i][:,-1] for i in R200_indices]\n",
    "    plot_violin(data, Ki67_positive_postmitotic_true[R200_indices[-1]][-1], settings[R200_indices,1].astype(int), r\"Ki67$^{+}$ (post) fraction\", \"Initial number of cells\", \"Ki67_pos_post_frac_violin_R200\")\n",
    "    data = [Ki67_positive_postmitotic_fraction[i][:,-1] for i in R300_indices]\n",
    "    plot_violin(data, Ki67_positive_postmitotic_true[R300_indices[-1]][-1], settings[R300_indices,1].astype(int), r\"Ki67$^{+}$ (post) fraction\", \"Initial number of cells\", \"Ki67_pos_post_frac_violin_R300\")\n",
    "elif cycle_model == 1:\n",
    "    data = [Ki67_negative_fraction[i][:,-1] for i in R10_indices]\n",
    "    plot_violin(data, Ki67_negative_true[R10_indices[-1]][-1], settings[R10_indices,1].astype(int), r\"Ki67$^{-}$ fraction\", \"Initial number of cells\", \"Ki67_neg_frac_violin_R10\")\n",
    "    data = [Ki67_negative_fraction[i][:,-1] for i in R20_indices]\n",
    "    plot_violin(data, Ki67_negative_true[R20_indices[-1]][-1], settings[R20_indices,1].astype(int), r\"Ki67$^{-}$ fraction\", \"Initial number of cells\", \"Ki67_neg_frac_violin_R20\")\n",
    "    data = [Ki67_negative_fraction[i][:,-1] for i in R50_indices]\n",
    "    plot_violin(data, Ki67_negative_true[R50_indices[-1]][-1], settings[R50_indices,1].astype(int), r\"Ki67$^{-}$ fraction\", \"Initial number of cells\", \"Ki67_neg_frac_violin_R50\")\n",
    "    data = [Ki67_negative_fraction[i][:,-1] for i in R100_indices]\n",
    "    plot_violin(data, Ki67_negative_true[R100_indices[-1]][-1], settings[R100_indices,1].astype(int), r\"Ki67$^{-}$ fraction\", \"Initial number of cells\", \"Ki67_neg_frac_violin_R100\")\n",
    "    data = [Ki67_negative_fraction[i][:,-1] for i in R200_indices]\n",
    "    plot_violin(data, Ki67_negative_true[R200_indices[-1]][-1], settings[R200_indices,1].astype(int), r\"Ki67$^{-}$ fraction\", \"Initial number of cells\", \"Ki67_neg_frac_violin_R200\")\n",
    "    data = [Ki67_negative_fraction[i][:,-1] for i in R300_indices]\n",
    "    plot_violin(data, Ki67_negative_true[R300_indices[-1]][-1], settings[R300_indices,1].astype(int), r\"Ki67$^{-}$ fraction\", \"Initial number of cells\", \"Ki67_neg_frac_violin_R300\")\n",
    "    \n",
    "    data = [Ki67_positive_fraction[i][:,-1] for i in R10_indices]\n",
    "    plot_violin(data, Ki67_positive_true[R10_indices[-1]][-1], settings[R10_indices,1].astype(int), r\"Ki67$^{+}$ fraction\", \"Initial number of cells\", \"Ki67_pos_frac_violin_R10\")\n",
    "    data = [Ki67_positive_fraction[i][:,-1] for i in R20_indices]\n",
    "    plot_violin(data, Ki67_positive_true[R20_indices[-1]][-1], settings[R20_indices,1].astype(int), r\"Ki67$^{+}$ fraction\", \"Initial number of cells\", \"Ki67_pos_frac_violin_R20\")\n",
    "    data = [Ki67_positive_fraction[i][:,-1] for i in R50_indices]\n",
    "    plot_violin(data, Ki67_positive_true[R50_indices[-1]][-1], settings[R50_indices,1].astype(int), r\"Ki67$^{+}$ fraction\", \"Initial number of cells\", \"Ki67_pos_frac_violin_R50\")\n",
    "    data = [Ki67_positive_fraction[i][:,-1] for i in R100_indices]\n",
    "    plot_violin(data, Ki67_positive_true[R100_indices[-1]][-1], settings[R100_indices,1].astype(int), r\"Ki67$^{+}$ fraction\", \"Initial number of cells\", \"Ki67_pos_frac_violin_R100\")\n",
    "    data = [Ki67_positive_fraction[i][:,-1] for i in R200_indices]\n",
    "    plot_violin(data, Ki67_positive_true[R200_indices[-1]][-1], settings[R200_indices,1].astype(int), r\"Ki67$^{+}$ fraction\", \"Initial number of cells\", \"Ki67_pos_frac_violin_R200\")\n",
    "    data = [Ki67_positive_fraction[i][:,-1] for i in R300_indices]\n",
    "    plot_violin(data, Ki67_positive_true[R300_indices[-1]][-1], settings[R300_indices,1].astype(int), r\"Ki67$^{+}$ fraction\", \"Initial number of cells\", \"Ki67_pos_frac_violin_R300\")\n",
    "elif cycle_model == 2:\n",
    "    data = [G0G1_phase_fraction[i][:,-1] for i in R10_indices]\n",
    "    plot_violin(data, G0G1_phase_true[R10_indices[-1]][-1], settings[R10_indices,1].astype(int), r\"G$_0$ G$_1$  fraction\", \"Initial number of cells\", \"G0G1_phase_frac_violin_R10\")\n",
    "    data = [G0G1_phase_fraction[i][:,-1] for i in R20_indices]\n",
    "    plot_violin(data, G0G1_phase_true[R20_indices[-1]][-1], settings[R20_indices,1].astype(int), r\"G$_0$ G$_1$  fraction\", \"Initial number of cells\", \"G0G1_phase_frac_violin_R20\")\n",
    "    data = [G0G1_phase_fraction[i][:,-1] for i in R50_indices]\n",
    "    plot_violin(data, G0G1_phase_true[R50_indices[-1]][-1], settings[R50_indices,1].astype(int), r\"G$_0$ G$_1$  fraction\", \"Initial number of cells\", \"G0G1_phase_frac_violin_R50\")\n",
    "    data = [G0G1_phase_fraction[i][:,-1] for i in R100_indices]\n",
    "    plot_violin(data, G0G1_phase_true[R100_indices[-1]][-1], settings[R100_indices,1].astype(int), r\"G$_0$ G$_1$  fraction\", \"Initial number of cells\", \"G0G1_phase_frac_violin_R100\")\n",
    "    data = [G0G1_phase_fraction[i][:,-1] for i in R200_indices]\n",
    "    plot_violin(data, G0G1_phase_true[R200_indices[-1]][-1], settings[R200_indices,1].astype(int), r\"G$_0$ G$_1$  fraction\", \"Initial number of cells\", \"G0G1_phase_frac_violin_R200\")\n",
    "    data = [G0G1_phase_fraction[i][:,-1] for i in R300_indices]\n",
    "    plot_violin(data, G0G1_phase_true[R300_indices[-1]][-1], settings[R300_indices,1].astype(int), r\"G$_0$ G$_1$  fraction\", \"Initial number of cells\", \"G0G1_phase_frac_violin_R300\")\n",
    "    \n",
    "    data = [S_phase_fraction[i][:,-1] for i in R10_indices]\n",
    "    plot_violin(data, S_phase_true[R10_indices[-1]][-1], settings[R10_indices,1].astype(int), r\"S fraction\", \"Initial number of cells\", \"S_phase_frac_violin_R10\")\n",
    "    data = [S_phase_fraction[i][:,-1] for i in R20_indices]\n",
    "    plot_violin(data, S_phase_true[R20_indices[-1]][-1], settings[R20_indices,1].astype(int), r\"S fraction\", \"Initial number of cells\", \"S_phase_frac_violin_R20\")\n",
    "    data = [S_phase_fraction[i][:,-1] for i in R50_indices]\n",
    "    plot_violin(data, S_phase_true[R50_indices[-1]][-1], settings[R50_indices,1].astype(int), r\"S fraction\", \"Initial number of cells\", \"S_phase_frac_violin_R50\")\n",
    "    data = [S_phase_fraction[i][:,-1] for i in R100_indices]\n",
    "    plot_violin(data, S_phase_true[R100_indices[-1]][-1], settings[R100_indices,1].astype(int), r\"S fraction\", \"Initial number of cells\", \"S_phase_frac_violin_R100\")\n",
    "    data = [S_phase_fraction[i][:,-1] for i in R200_indices]\n",
    "    plot_violin(data, S_phase_true[R200_indices[-1]][-1], settings[R200_indices,1].astype(int), r\"S fraction\", \"Initial number of cells\", \"S_phase_frac_violin_R200\")\n",
    "    data = [S_phase_fraction[i][:,-1] for i in R300_indices]\n",
    "    plot_violin(data, S_phase_true[R300_indices[-1]][-1], settings[R300_indices,1].astype(int), r\"S fraction\", \"Initial number of cells\", \"S_phase_frac_violin_R300\")\n",
    "    \n",
    "    data = [G2M_phase_fraction[i][:,-1] for i in R10_indices]\n",
    "    plot_violin(data, G2M_phase_true[R10_indices[-1]][-1], settings[R10_indices,1].astype(int), r\"G$_2$ M fraction\", \"Initial number of cells\", \"G2M_phase_frac_violin_R10\")\n",
    "    data = [G2M_phase_fraction[i][:,-1] for i in R20_indices]\n",
    "    plot_violin(data, G2M_phase_true[R20_indices[-1]][-1], settings[R20_indices,1].astype(int), r\"G$_2$ M fraction\", \"Initial number of cells\", \"G2M_phase_frac_violin_R20\")\n",
    "    data = [G2M_phase_fraction[i][:,-1] for i in R50_indices]\n",
    "    plot_violin(data, G2M_phase_true[R50_indices[-1]][-1], settings[R50_indices,1].astype(int), r\"G$_2$ M fraction\", \"Initial number of cells\", \"G2M_phase_frac_violin_R50\")\n",
    "    data = [G2M_phase_fraction[i][:,-1] for i in R100_indices]\n",
    "    plot_violin(data, G2M_phase_true[R100_indices[-1]][-1], settings[R100_indices,1].astype(int), r\"G$_2$ M fraction\", \"Initial number of cells\", \"G2M_phase_frac_violin_R100\")\n",
    "    data = [G2M_phase_fraction[i][:,-1] for i in R200_indices]\n",
    "    plot_violin(data, G2M_phase_true[R200_indices[-1]][-1], settings[R200_indices,1].astype(int), r\"G$_2$ M fraction\", \"Initial number of cells\", \"G2M_phase_frac_violin_R200\")\n",
    "    data = [G2M_phase_fraction[i][:,-1] for i in R300_indices]\n",
    "    plot_violin(data, G2M_phase_true[R300_indices[-1]][-1], settings[R300_indices,1].astype(int), r\"G$_2$ M fraction\", \"Initial number of cells\", \"G2M_phase_frac_violin_R300\")\n",
    "elif cycle_model == 5:\n",
    "    data = [live_fraction[i][:,-1] for i in R10_indices]\n",
    "    plot_violin(data, live_true[R10_indices[-1]][-1], settings[R10_indices,1].astype(int), r\"Live fraction\", \"Initial number of cells\", \"Live_frac_violin_R10\")\n",
    "    data = [live_fraction[i][:,-1] for i in R20_indices]\n",
    "    plot_violin(data, live_true[R20_indices[-1]][-1], settings[R20_indices,1].astype(int), r\"Live fraction\", \"Initial number of cells\", \"Live_frac_violin_R20\")\n",
    "    data = [live_fraction[i][:,-1] for i in R50_indices]\n",
    "    plot_violin(data, live_true[R50_indices[-1]][-1], settings[R50_indices,1].astype(int), r\"Live fraction\", \"Initial number of cells\", \"Live_frac_violin_R50\")\n",
    "    data = [live_fraction[i][:,-1] for i in R100_indices]\n",
    "    plot_violin(data, live_true[R100_indices[-1]][-1], settings[R100_indices,1].astype(int), r\"Live fraction\", \"Initial number of cells\", \"Live_frac_violin_R100\")\n",
    "    data = [live_fraction[i][:,-1] for i in R200_indices]\n",
    "    plot_violin(data, live_true[R200_indices[-1]][-1], settings[R200_indices,1].astype(int), r\"Live fraction\", \"Initial number of cells\", \"Live_frac_violin_R200\")\n",
    "    data = [live_fraction[i][:,-1] for i in R300_indices]\n",
    "    plot_violin(data, live_true[R300_indices[-1]][-1], settings[R300_indices,1].astype(int), r\"Live fraction\", \"Initial number of cells\", \"Live_frac_violin_R300\")\n",
    "elif cycle_model == 6:\n",
    "    data = [G0G1_phase_fraction[i][:,-1] for i in R10_indices]\n",
    "    plot_violin(data, G0G1_phase_true[R10_indices[-1]][-1], settings[R10_indices,1].astype(int), r\"G$_0$ G$_1$  fraction\", \"Initial number of cells\", \"G0G1_phase_frac_violin_R10\")\n",
    "    data = [G0G1_phase_fraction[i][:,-1] for i in R20_indices]\n",
    "    plot_violin(data, G0G1_phase_true[R20_indices[-1]][-1], settings[R20_indices,1].astype(int), r\"G$_0$ G$_1$  fraction\", \"Initial number of cells\", \"G0G1_phase_frac_violin_R20\")\n",
    "    data = [G0G1_phase_fraction[i][:,-1] for i in R50_indices]\n",
    "    plot_violin(data, G0G1_phase_true[R50_indices[-1]][-1], settings[R50_indices,1].astype(int), r\"G$_0$ G$_1$  fraction\", \"Initial number of cells\", \"G0G1_phase_frac_violin_R50\")\n",
    "    data = [G0G1_phase_fraction[i][:,-1] for i in R100_indices]\n",
    "    plot_violin(data, G0G1_phase_true[R100_indices[-1]][-1], settings[R100_indices,1].astype(int), r\"G$_0$ G$_1$  fraction\", \"Initial number of cells\", \"G0G1_phase_frac_violin_R100\")\n",
    "    data = [G0G1_phase_fraction[i][:,-1] for i in R200_indices]\n",
    "    plot_violin(data, G0G1_phase_true[R200_indices[-1]][-1], settings[R200_indices,1].astype(int), r\"G$_0$ G$_1$  fraction\", \"Initial number of cells\", \"G0G1_phase_frac_violin_R200\")\n",
    "    data = [G0G1_phase_fraction[i][:,-1] for i in R300_indices]\n",
    "    plot_violin(data, G0G1_phase_true[R300_indices[-1]][-1], settings[R300_indices,1].astype(int), r\"G$_0$ G$_1$  fraction\", \"Initial number of cells\", \"G0G1_phase_frac_violin_R300\")\n",
    "    \n",
    "    data = [S_phase_fraction[i][:,-1] for i in R10_indices]\n",
    "    plot_violin(data, S_phase_true[R10_indices[-1]][-1], settings[R10_indices,1].astype(int), r\"S fraction\", \"Initial number of cells\", \"S_phase_frac_violin_R10\")\n",
    "    data = [S_phase_fraction[i][:,-1] for i in R20_indices]\n",
    "    plot_violin(data, S_phase_true[R20_indices[-1]][-1], settings[R20_indices,1].astype(int), r\"S fraction\", \"Initial number of cells\", \"S_phase_frac_violin_R20\")\n",
    "    data = [S_phase_fraction[i][:,-1] for i in R50_indices]\n",
    "    plot_violin(data, S_phase_true[R50_indices[-1]][-1], settings[R50_indices,1].astype(int), r\"S fraction\", \"Initial number of cells\", \"S_phase_frac_violin_R50\")\n",
    "    data = [S_phase_fraction[i][:,-1] for i in R100_indices]\n",
    "    plot_violin(data, S_phase_true[R100_indices[-1]][-1], settings[R100_indices,1].astype(int), r\"S fraction\", \"Initial number of cells\", \"S_phase_frac_violin_R100\")\n",
    "    data = [S_phase_fraction[i][:,-1] for i in R200_indices]\n",
    "    plot_violin(data, S_phase_true[R200_indices[-1]][-1], settings[R200_indices,1].astype(int), r\"S fraction\", \"Initial number of cells\", \"S_phase_frac_violin_R200\")\n",
    "    data = [S_phase_fraction[i][:,-1] for i in R300_indices]\n",
    "    plot_violin(data, S_phase_true[R300_indices[-1]][-1], settings[R300_indices,1].astype(int), r\"S fraction\", \"Initial number of cells\", \"S_phase_frac_violin_R300\")\n",
    "    \n",
    "    data = [G2_phase_fraction[i][:,-1] for i in R10_indices]\n",
    "    plot_violin(data, G2_phase_true[R10_indices[-1]][-1], settings[R10_indices,1].astype(int), r\"G$_2$ fraction\", \"Initial number of cells\", \"G2_phase_frac_violin_R10\")\n",
    "    data = [G2_phase_fraction[i][:,-1] for i in R20_indices]\n",
    "    plot_violin(data, G2_phase_true[R20_indices[-1]][-1], settings[R20_indices,1].astype(int), r\"G$_2$ fraction\", \"Initial number of cells\", \"G2_phase_frac_violin_R20\")\n",
    "    data = [G2_phase_fraction[i][:,-1] for i in R50_indices]\n",
    "    plot_violin(data, G2_phase_true[R50_indices[-1]][-1], settings[R50_indices,1].astype(int), r\"G$_2$ fraction\", \"Initial number of cells\", \"G2_phase_frac_violin_R50\")\n",
    "    data = [G2_phase_fraction[i][:,-1] for i in R100_indices]\n",
    "    plot_violin(data, G2_phase_true[R100_indices[-1]][-1], settings[R100_indices,1].astype(int), r\"G$_2$ fraction\", \"Initial number of cells\", \"G2_phase_frac_violin_R100\")\n",
    "    data = [G2_phase_fraction[i][:,-1] for i in R200_indices]\n",
    "    plot_violin(data, G2_phase_true[R200_indices[-1]][-1], settings[R200_indices,1].astype(int), r\"G$_2$ fraction\", \"Initial number of cells\", \"G2_phase_frac_violin_R200\")\n",
    "    data = [G2_phase_fraction[i][:,-1] for i in R300_indices]\n",
    "    plot_violin(data, G2_phase_true[R300_indices[-1]][-1], settings[R300_indices,1].astype(int), r\"G$_2$ fraction\", \"Initial number of cells\", \"G2_phase_frac_violin_R300\")\n",
    "    \n",
    "    data = [M_phase_fraction[i][:,-1] for i in R10_indices]\n",
    "    plot_violin(data, M_phase_true[R10_indices[-1]][-1], settings[R10_indices,1].astype(int), r\"M fraction\", \"Initial number of cells\", \"M_phase_frac_violin_R10\")\n",
    "    data = [M_phase_fraction[i][:,-1] for i in R20_indices]\n",
    "    plot_violin(data, M_phase_true[R20_indices[-1]][-1], settings[R20_indices,1].astype(int), r\"M fraction\", \"Initial number of cells\", \"M_phase_frac_violin_R20\")\n",
    "    data = [M_phase_fraction[i][:,-1] for i in R50_indices]\n",
    "    plot_violin(data, M_phase_true[R50_indices[-1]][-1], settings[R50_indices,1].astype(int), r\"M fraction\", \"Initial number of cells\", \"M_phase_frac_violin_R50\")\n",
    "    data = [M_phase_fraction[i][:,-1] for i in R100_indices]\n",
    "    plot_violin(data, M_phase_true[R100_indices[-1]][-1], settings[R100_indices,1].astype(int), r\"M fraction\", \"Initial number of cells\", \"M_phase_frac_violin_R100\")\n",
    "    data = [M_phase_fraction[i][:,-1] for i in R200_indices]\n",
    "    plot_violin(data, M_phase_true[R200_indices[-1]][-1], settings[R200_indices,1].astype(int), r\"M fraction\", \"Initial number of cells\", \"M_phase_frac_violin_R200\")\n",
    "    data = [M_phase_fraction[i][:,-1] for i in R300_indices]\n",
    "    plot_violin(data, M_phase_true[R300_indices[-1]][-1], settings[R300_indices,1].astype(int), r\"M fraction\", \"Initial number of cells\", \"M_phase_frac_violin_R300\")\n",
    "else:\n",
    "    print(\"Unrecognized cell cycle model.\")"
   ]
  },
  {
   "cell_type": "code",
   "execution_count": null,
   "id": "c0a7b975",
   "metadata": {},
   "outputs": [],
   "source": []
  }
 ],
 "metadata": {
  "kernelspec": {
   "display_name": "Python 3",
   "language": "python",
   "name": "python3"
  },
  "language_info": {
   "codemirror_mode": {
    "name": "ipython",
    "version": 3
   },
   "file_extension": ".py",
   "mimetype": "text/x-python",
   "name": "python",
   "nbconvert_exporter": "python",
   "pygments_lexer": "ipython3",
   "version": "3.8.2"
  }
 },
 "nbformat": 4,
 "nbformat_minor": 5
}
