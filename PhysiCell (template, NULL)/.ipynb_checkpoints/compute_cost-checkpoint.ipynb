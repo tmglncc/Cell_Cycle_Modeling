{
 "cells": [
  {
   "cell_type": "markdown",
   "id": "64317a2f",
   "metadata": {},
   "source": [
    "# Computing computational cost"
   ]
  },
  {
   "cell_type": "markdown",
   "id": "9479bd89",
   "metadata": {},
   "source": [
    "## Import libraries"
   ]
  },
  {
   "cell_type": "code",
   "execution_count": 19,
   "id": "881cd5f4",
   "metadata": {},
   "outputs": [],
   "source": [
    "# %matplotlib notebook\n",
    "#  add Python-loader repo to the path \n",
    "import sys\n",
    "sys.path.insert(0, '../Python-loader/')\n",
    "from pyMCDS import pyMCDS\n",
    "\n",
    "import numpy as np\n",
    "import matplotlib.pyplot as plt\n",
    "import os"
   ]
  },
  {
   "cell_type": "markdown",
   "id": "3dbcc42c",
   "metadata": {},
   "source": [
    "## Define cell cycle model"
   ]
  },
  {
   "cell_type": "code",
   "execution_count": 20,
   "id": "34343759",
   "metadata": {},
   "outputs": [],
   "source": [
    "# CELL CYCLE MODELS\n",
    "### advanced_Ki67_cycle_model = 0\n",
    "### basic_Ki67_cycle_model = 1\n",
    "### flow_cytometry_cycle_model = 2\n",
    "### live_apoptotic_cycle_model = 3\n",
    "### total_cells_cycle_model = 4\n",
    "### live_cells_cycle_model = 5 \n",
    "### flow_cytometry_separated_cycle_model = 6\n",
    "### cycling_quiescent_model = 7\n",
    "cycle_model = 1\n",
    "\n",
    "# output_folder = \"output_Live/\"\n",
    "output_folder = \"output_Ki67_Basic/\"\n",
    "# output_folder = \"output_Ki67_Advanced/\"\n",
    "# output_folder = \"output_Flow_Cytometry/\"\n",
    "# output_folder = \"output_Separated_Flow_Cytometry/\""
   ]
  },
  {
   "cell_type": "markdown",
   "id": "4a1c6936",
   "metadata": {},
   "source": [
    "## List output folders"
   ]
  },
  {
   "cell_type": "code",
   "execution_count": 21,
   "id": "48eb9770",
   "metadata": {},
   "outputs": [
    {
     "data": {
      "text/plain": [
       "['cost.csv',\n",
       " 'output_R00',\n",
       " 'output_R01',\n",
       " 'output_R02',\n",
       " 'output_R03',\n",
       " 'output_R04',\n",
       " 'output_R05',\n",
       " 'output_R06',\n",
       " 'output_R07',\n",
       " 'output_R08',\n",
       " 'output_R09']"
      ]
     },
     "execution_count": 21,
     "metadata": {},
     "output_type": "execute_result"
    }
   ],
   "source": [
    "## Type pyMCDS. and hit the tab key to see methods \n",
    "\n",
    "sorted(os.listdir(\"./\"+output_folder))"
   ]
  },
  {
   "cell_type": "markdown",
   "id": "1a984a66",
   "metadata": {},
   "source": [
    "## List *.xml* output files from one replicate"
   ]
  },
  {
   "cell_type": "code",
   "execution_count": 22,
   "id": "0e41fe10",
   "metadata": {},
   "outputs": [
    {
     "name": "stdout",
     "output_type": "stream",
     "text": [
      "['./output_Ki67_Basic/output_R00/PhysiCell_settings_Ki67_Basic_without_o2_apop_nec.xml', './output_Ki67_Basic/output_R00/final.xml', './output_Ki67_Basic/output_R00/initial.xml', './output_Ki67_Basic/output_R00/output00000000.xml', './output_Ki67_Basic/output_R00/output00000001.xml', './output_Ki67_Basic/output_R00/output00000002.xml', './output_Ki67_Basic/output_R00/output00000003.xml', './output_Ki67_Basic/output_R00/output00000004.xml', './output_Ki67_Basic/output_R00/output00000005.xml', './output_Ki67_Basic/output_R00/output00000006.xml', './output_Ki67_Basic/output_R00/output00000007.xml', './output_Ki67_Basic/output_R00/output00000008.xml', './output_Ki67_Basic/output_R00/output00000009.xml', './output_Ki67_Basic/output_R00/output00000010.xml', './output_Ki67_Basic/output_R00/output00000011.xml', './output_Ki67_Basic/output_R00/output00000012.xml', './output_Ki67_Basic/output_R00/output00000013.xml', './output_Ki67_Basic/output_R00/output00000014.xml', './output_Ki67_Basic/output_R00/output00000015.xml', './output_Ki67_Basic/output_R00/output00000016.xml', './output_Ki67_Basic/output_R00/output00000017.xml', './output_Ki67_Basic/output_R00/output00000018.xml', './output_Ki67_Basic/output_R00/output00000019.xml', './output_Ki67_Basic/output_R00/output00000020.xml', './output_Ki67_Basic/output_R00/output00000021.xml', './output_Ki67_Basic/output_R00/output00000022.xml', './output_Ki67_Basic/output_R00/output00000023.xml', './output_Ki67_Basic/output_R00/output00000024.xml', './output_Ki67_Basic/output_R00/output00000025.xml', './output_Ki67_Basic/output_R00/output00000026.xml', './output_Ki67_Basic/output_R00/output00000027.xml', './output_Ki67_Basic/output_R00/output00000028.xml', './output_Ki67_Basic/output_R00/output00000029.xml', './output_Ki67_Basic/output_R00/output00000030.xml', './output_Ki67_Basic/output_R00/output00000031.xml', './output_Ki67_Basic/output_R00/output00000032.xml', './output_Ki67_Basic/output_R00/output00000033.xml', './output_Ki67_Basic/output_R00/output00000034.xml', './output_Ki67_Basic/output_R00/output00000035.xml', './output_Ki67_Basic/output_R00/output00000036.xml', './output_Ki67_Basic/output_R00/output00000037.xml', './output_Ki67_Basic/output_R00/output00000038.xml', './output_Ki67_Basic/output_R00/output00000039.xml', './output_Ki67_Basic/output_R00/output00000040.xml', './output_Ki67_Basic/output_R00/output00000041.xml', './output_Ki67_Basic/output_R00/output00000042.xml', './output_Ki67_Basic/output_R00/output00000043.xml', './output_Ki67_Basic/output_R00/output00000044.xml', './output_Ki67_Basic/output_R00/output00000045.xml', './output_Ki67_Basic/output_R00/output00000046.xml', './output_Ki67_Basic/output_R00/output00000047.xml', './output_Ki67_Basic/output_R00/output00000048.xml', './output_Ki67_Basic/output_R00/output00000049.xml', './output_Ki67_Basic/output_R00/output00000050.xml', './output_Ki67_Basic/output_R00/output00000051.xml', './output_Ki67_Basic/output_R00/output00000052.xml', './output_Ki67_Basic/output_R00/output00000053.xml', './output_Ki67_Basic/output_R00/output00000054.xml', './output_Ki67_Basic/output_R00/output00000055.xml', './output_Ki67_Basic/output_R00/output00000056.xml', './output_Ki67_Basic/output_R00/output00000057.xml', './output_Ki67_Basic/output_R00/output00000058.xml', './output_Ki67_Basic/output_R00/output00000059.xml', './output_Ki67_Basic/output_R00/output00000060.xml', './output_Ki67_Basic/output_R00/output00000061.xml', './output_Ki67_Basic/output_R00/output00000062.xml', './output_Ki67_Basic/output_R00/output00000063.xml', './output_Ki67_Basic/output_R00/output00000064.xml', './output_Ki67_Basic/output_R00/output00000065.xml', './output_Ki67_Basic/output_R00/output00000066.xml', './output_Ki67_Basic/output_R00/output00000067.xml', './output_Ki67_Basic/output_R00/output00000068.xml', './output_Ki67_Basic/output_R00/output00000069.xml', './output_Ki67_Basic/output_R00/output00000070.xml', './output_Ki67_Basic/output_R00/output00000071.xml', './output_Ki67_Basic/output_R00/output00000072.xml', './output_Ki67_Basic/output_R00/output00000073.xml', './output_Ki67_Basic/output_R00/output00000074.xml', './output_Ki67_Basic/output_R00/output00000075.xml', './output_Ki67_Basic/output_R00/output00000076.xml', './output_Ki67_Basic/output_R00/output00000077.xml', './output_Ki67_Basic/output_R00/output00000078.xml', './output_Ki67_Basic/output_R00/output00000079.xml', './output_Ki67_Basic/output_R00/output00000080.xml', './output_Ki67_Basic/output_R00/output00000081.xml', './output_Ki67_Basic/output_R00/output00000082.xml', './output_Ki67_Basic/output_R00/output00000083.xml', './output_Ki67_Basic/output_R00/output00000084.xml', './output_Ki67_Basic/output_R00/output00000085.xml', './output_Ki67_Basic/output_R00/output00000086.xml', './output_Ki67_Basic/output_R00/output00000087.xml', './output_Ki67_Basic/output_R00/output00000088.xml', './output_Ki67_Basic/output_R00/output00000089.xml', './output_Ki67_Basic/output_R00/output00000090.xml', './output_Ki67_Basic/output_R00/output00000091.xml', './output_Ki67_Basic/output_R00/output00000092.xml', './output_Ki67_Basic/output_R00/output00000093.xml', './output_Ki67_Basic/output_R00/output00000094.xml', './output_Ki67_Basic/output_R00/output00000095.xml', './output_Ki67_Basic/output_R00/output00000096.xml', './output_Ki67_Basic/output_R00/output00000097.xml', './output_Ki67_Basic/output_R00/output00000098.xml', './output_Ki67_Basic/output_R00/output00000099.xml', './output_Ki67_Basic/output_R00/output00000100.xml', './output_Ki67_Basic/output_R00/output00000101.xml', './output_Ki67_Basic/output_R00/output00000102.xml', './output_Ki67_Basic/output_R00/output00000103.xml', './output_Ki67_Basic/output_R00/output00000104.xml', './output_Ki67_Basic/output_R00/output00000105.xml', './output_Ki67_Basic/output_R00/output00000106.xml', './output_Ki67_Basic/output_R00/output00000107.xml', './output_Ki67_Basic/output_R00/output00000108.xml', './output_Ki67_Basic/output_R00/output00000109.xml', './output_Ki67_Basic/output_R00/output00000110.xml', './output_Ki67_Basic/output_R00/output00000111.xml', './output_Ki67_Basic/output_R00/output00000112.xml', './output_Ki67_Basic/output_R00/output00000113.xml', './output_Ki67_Basic/output_R00/output00000114.xml', './output_Ki67_Basic/output_R00/output00000115.xml', './output_Ki67_Basic/output_R00/output00000116.xml', './output_Ki67_Basic/output_R00/output00000117.xml', './output_Ki67_Basic/output_R00/output00000118.xml', './output_Ki67_Basic/output_R00/output00000119.xml', './output_Ki67_Basic/output_R00/output00000120.xml']\n"
     ]
    }
   ],
   "source": [
    "## Type pyMCDS. and hit the tab key to see methods \n",
    "\n",
    "file_list = []\n",
    "for file in os.listdir(\"./\"+output_folder+\"output_R00/\"):\n",
    "    if file.endswith(\".xml\"):\n",
    "        file_list.append(os.path.join(\"./\"+output_folder+\"output_R00/\", file))\n",
    "print(sorted(file_list))"
   ]
  },
  {
   "cell_type": "markdown",
   "id": "ded4e6bc",
   "metadata": {},
   "source": [
    "## Compute computational cost over all replicates"
   ]
  },
  {
   "cell_type": "code",
   "execution_count": 23,
   "id": "377e64fc",
   "metadata": {},
   "outputs": [
    {
     "name": "stdout",
     "output_type": "stream",
     "text": [
      "Reading output_Ki67_Basic/output_R00/output00000120.xml\n",
      "Reading output_Ki67_Basic/output_R00/initial_mesh0.mat\n",
      "Reading output_Ki67_Basic/output_R00/output00000120_microenvironment0.mat\n",
      "Parsing oxygen data\n",
      "working on discrete cell data...\n",
      "\n",
      "Reading output_Ki67_Basic/output_R00/output00000120_cells.mat\n",
      "Reading output_Ki67_Basic/output_R01/output00000120.xml\n",
      "Reading output_Ki67_Basic/output_R01/initial_mesh0.mat\n",
      "Reading output_Ki67_Basic/output_R01/output00000120_microenvironment0.mat\n",
      "Parsing oxygen data\n",
      "working on discrete cell data...\n",
      "\n",
      "Reading output_Ki67_Basic/output_R01/output00000120_cells.mat\n",
      "Reading output_Ki67_Basic/output_R02/output00000120.xml\n",
      "Reading output_Ki67_Basic/output_R02/initial_mesh0.mat\n",
      "Reading output_Ki67_Basic/output_R02/output00000120_microenvironment0.mat\n",
      "Parsing oxygen data\n",
      "working on discrete cell data...\n",
      "\n",
      "Reading output_Ki67_Basic/output_R02/output00000120_cells.mat\n",
      "Reading output_Ki67_Basic/output_R03/output00000120.xml\n",
      "Reading output_Ki67_Basic/output_R03/initial_mesh0.mat\n",
      "Reading output_Ki67_Basic/output_R03/output00000120_microenvironment0.mat\n",
      "Parsing oxygen data\n",
      "working on discrete cell data...\n",
      "\n",
      "Reading output_Ki67_Basic/output_R03/output00000120_cells.mat\n",
      "Reading output_Ki67_Basic/output_R04/output00000120.xml\n",
      "Reading output_Ki67_Basic/output_R04/initial_mesh0.mat\n",
      "Reading output_Ki67_Basic/output_R04/output00000120_microenvironment0.mat\n",
      "Parsing oxygen data\n",
      "working on discrete cell data...\n",
      "\n",
      "Reading output_Ki67_Basic/output_R04/output00000120_cells.mat\n",
      "Reading output_Ki67_Basic/output_R05/output00000120.xml\n",
      "Reading output_Ki67_Basic/output_R05/initial_mesh0.mat\n",
      "Reading output_Ki67_Basic/output_R05/output00000120_microenvironment0.mat\n",
      "Parsing oxygen data\n",
      "working on discrete cell data...\n",
      "\n",
      "Reading output_Ki67_Basic/output_R05/output00000120_cells.mat\n",
      "Reading output_Ki67_Basic/output_R06/output00000120.xml\n",
      "Reading output_Ki67_Basic/output_R06/initial_mesh0.mat\n",
      "Reading output_Ki67_Basic/output_R06/output00000120_microenvironment0.mat\n",
      "Parsing oxygen data\n",
      "working on discrete cell data...\n",
      "\n",
      "Reading output_Ki67_Basic/output_R06/output00000120_cells.mat\n",
      "Reading output_Ki67_Basic/output_R07/output00000120.xml\n",
      "Reading output_Ki67_Basic/output_R07/initial_mesh0.mat\n",
      "Reading output_Ki67_Basic/output_R07/output00000120_microenvironment0.mat\n",
      "Parsing oxygen data\n",
      "working on discrete cell data...\n",
      "\n",
      "Reading output_Ki67_Basic/output_R07/output00000120_cells.mat\n",
      "Reading output_Ki67_Basic/output_R08/output00000120.xml\n",
      "Reading output_Ki67_Basic/output_R08/initial_mesh0.mat\n",
      "Reading output_Ki67_Basic/output_R08/output00000120_microenvironment0.mat\n",
      "Parsing oxygen data\n",
      "working on discrete cell data...\n",
      "\n",
      "Reading output_Ki67_Basic/output_R08/output00000120_cells.mat\n",
      "Reading output_Ki67_Basic/output_R09/output00000120.xml\n",
      "Reading output_Ki67_Basic/output_R09/initial_mesh0.mat\n",
      "Reading output_Ki67_Basic/output_R09/output00000120_microenvironment0.mat\n",
      "Parsing oxygen data\n",
      "working on discrete cell data...\n",
      "\n",
      "Reading output_Ki67_Basic/output_R09/output00000120_cells.mat\n",
      "\n",
      "Total computational cost = 553.394904 sec\n"
     ]
    }
   ],
   "source": [
    "num_replicates = 10;\n",
    "last_index = 120;\n",
    "\n",
    "costs = np.zeros( num_replicates );\n",
    "\n",
    "for id_replicate in range(num_replicates):\n",
    "    folder_name = output_folder+\"output_R\"+str(\"%02d\"%id_replicate)+'/'\n",
    "    filename = 'output'+\"%08i\"%last_index+'.xml'\n",
    "    mcds = pyMCDS(filename, folder_name)\n",
    "    \n",
    "    costs[id_replicate] = mcds.data['metadata']['current_runtime']\n",
    "    \n",
    "total_cost = np.sum(costs)\n",
    "print(\"\\nTotal computational cost = \" + str(total_cost) + \" sec\")"
   ]
  },
  {
   "cell_type": "markdown",
   "id": "3a2269cd",
   "metadata": {},
   "source": [
    "## Write a *.csv* output file"
   ]
  },
  {
   "cell_type": "code",
   "execution_count": 24,
   "id": "4c10abe9",
   "metadata": {},
   "outputs": [],
   "source": [
    "output_array = np.column_stack((total_cost.flatten(),))\n",
    "np.savetxt(os.path.join(output_folder, \"cost.csv\"), output_array, delimiter=',', fmt='%.8f',\n",
    "           header=\"total_cost\", comments='')"
   ]
  },
  {
   "cell_type": "code",
   "execution_count": null,
   "id": "7b8805c7",
   "metadata": {},
   "outputs": [],
   "source": []
  }
 ],
 "metadata": {
  "kernelspec": {
   "display_name": "Python 3",
   "language": "python",
   "name": "python3"
  },
  "language_info": {
   "codemirror_mode": {
    "name": "ipython",
    "version": 3
   },
   "file_extension": ".py",
   "mimetype": "text/x-python",
   "name": "python",
   "nbconvert_exporter": "python",
   "pygments_lexer": "ipython3",
   "version": "3.8.2"
  }
 },
 "nbformat": 4,
 "nbformat_minor": 5
}
