{
 "cells": [
  {
   "cell_type": "markdown",
   "id": "f1b01917",
   "metadata": {},
   "source": [
    "# Computing the error between data and true model"
   ]
  },
  {
   "cell_type": "markdown",
   "id": "8d01d555",
   "metadata": {},
   "source": [
    "## Import libraries"
   ]
  },
  {
   "cell_type": "code",
   "execution_count": 10,
   "id": "876ee896",
   "metadata": {},
   "outputs": [],
   "source": [
    "# %matplotlib notebook\n",
    "import numpy as np\n",
    "import matplotlib.pyplot as plt\n",
    "import os\n",
    "from scipy.integrate import odeint"
   ]
  },
  {
   "cell_type": "markdown",
   "id": "592aadb0",
   "metadata": {},
   "source": [
    "## Define cell cycle model"
   ]
  },
  {
   "cell_type": "code",
   "execution_count": 2,
   "id": "ba363d33",
   "metadata": {},
   "outputs": [],
   "source": [
    "# CELL CYCLE MODELS\n",
    "### advanced_Ki67_cycle_model = 0\n",
    "### basic_Ki67_cycle_model = 1\n",
    "### flow_cytometry_cycle_model = 2\n",
    "### live_apoptotic_cycle_model = 3\n",
    "### total_cells_cycle_model = 4\n",
    "### live_cells_cycle_model = 5 \n",
    "### flow_cytometry_separated_cycle_model = 6\n",
    "### cycling_quiescent_model = 7\n",
    "cycle_model = 1\n",
    "\n",
    "# output_folder = \"output_Live/\"\n",
    "output_folder = \"output_Ki67_Basic/\"\n",
    "# output_folder = \"output_Ki67_Advanced/\"\n",
    "# output_folder = \"output_Flow_Cytometry/\"\n",
    "# output_folder = \"output_Separated_Flow_Cytometry/\""
   ]
  },
  {
   "cell_type": "markdown",
   "id": "c16fd2d8",
   "metadata": {},
   "source": [
    "## Read *.csv* file"
   ]
  },
  {
   "cell_type": "code",
   "execution_count": 16,
   "id": "6bce4870",
   "metadata": {},
   "outputs": [],
   "source": [
    "data_filename = \"data_fraction.csv\"\n",
    "\n",
    "data = np.genfromtxt(output_folder + data_filename, dtype = float, delimiter = ',', names = True)\n",
    "times = data[\"times\"]\n",
    "\n",
    "if cycle_model == 0:\n",
    "    Ki67_negative_data = np.stack((data[\"Ki67_negative_mean\"],), axis = -1);\n",
    "    Ki67_positive_premitotic_data = np.stack((data[\"Ki67_positive_premitotic_mean\"],), axis = -1);\n",
    "    Ki67_positive_postmitotic_data = np.stack((data[\"Ki67_positive_postmitotic_mean\"],), axis = -1);\n",
    "elif cycle_model == 1:\n",
    "    Ki67_negative_data = np.stack((data[\"Ki67_negative_mean\"],), axis = -1);\n",
    "    Ki67_positive_data = np.stack((data[\"Ki67_positive_mean\"],), axis = -1);\n",
    "elif cycle_model == 2:\n",
    "    G0G1_phase_data = np.stack((data[\"G0G1_phase_mean\"],), axis = -1);\n",
    "    S_phase_data = np.stack((data[\"S_phase_mean\"],), axis = -1);\n",
    "    G2M_phase_data = np.stack((data[\"G2M_phase_mean\"],), axis = -1);\n",
    "elif cycle_model == 5:\n",
    "    live_data = np.stack((data[\"live_mean\"],), axis = -1);\n",
    "elif cycle_model == 6:\n",
    "    G0G1_phase_data = np.stack((data[\"G0G1_phase_mean\"],), axis = -1);\n",
    "    S_phase_data = np.stack((data[\"S_phase_mean\"],), axis = -1);\n",
    "    G2_phase_data = np.stack((data[\"G2_phase_mean\"],), axis = -1);\n",
    "    M_phase_data = np.stack((data[\"M_phase_mean\"],), axis = -1);\n",
    "else:\n",
    "    print(\"Unrecognized cell cycle model.\")\n",
    "apoptotic_data = np.stack((data[\"apoptotic_mean\"],), axis = -1);\n",
    "necrotic_data = np.stack((data[\"necrotic_mean\"],), axis = -1);"
   ]
  },
  {
   "cell_type": "markdown",
   "id": "c85c6c60",
   "metadata": {},
   "source": [
    "## Solve true model numerically"
   ]
  },
  {
   "cell_type": "code",
   "execution_count": 17,
   "id": "98f0069a",
   "metadata": {},
   "outputs": [],
   "source": [
    "number_of_cells = 37\n",
    "\n",
    "if cycle_model == 0:\n",
    "    def true_model(X, t, r01, r10, r12, r20):\n",
    "        Ki67_neg, Ki67_pos_pre, Ki67_pos_post = X\n",
    "        dXdt = [-r01*Ki67_neg + r10*Ki67_pos_post,\n",
    "            r01*Ki67_neg - r12*Ki67_pos_pre,\n",
    "            2.0*r12*Ki67_pos_pre - r20*Ki67_pos_post\n",
    "        ]\n",
    "        return dXdt\n",
    "    \n",
    "    X0 = np.array([number_of_cells, 0, 0])\n",
    "    r01 = 0.004604052\n",
    "    r10 = 0.006666667\n",
    "    r12 = 0.001282051\n",
    "    r20 = 0.006666667\n",
    "    true_solution = odeint(true_model, X0, times, args=(r01, r10, r12, r20))\n",
    "elif cycle_model == 1:\n",
    "    def true_model(X, t, r01, r10):\n",
    "        Ki67_neg, Ki67_pos = X\n",
    "        dXdt = [-r01*Ki67_neg + 2.0*r10*Ki67_pos, \n",
    "            r01*Ki67_neg - r10*Ki67_pos\n",
    "        ]\n",
    "        return dXdt\n",
    "    \n",
    "    X0 = np.array([number_of_cells, 0])\n",
    "    r01 = 0.003631082\n",
    "    r10 = 0.001075269\n",
    "    true_solution = odeint(true_model, X0, times, args=(r01, r10))\n",
    "elif cycle_model == 2:\n",
    "    def true_model(X, t, r01, r20, r12):\n",
    "        G0G1, S, G2M = X\n",
    "        dXdt = [-r01*G0G1 + 2.0*r20*G2M,\n",
    "            r01*G0G1 - r12*S,\n",
    "            r12*S - r20*G2M\n",
    "        ]\n",
    "        return dXdt\n",
    "    \n",
    "    X0 = np.array([number_of_cells, 0, 0])\n",
    "    r01 = 0.003236246\n",
    "    r20 = 0.003333333\n",
    "    r12 = 0.002083333\n",
    "    true_solution = odeint(true_model, X0, times, args=(r01, r20, r12))\n",
    "elif cycle_model == 5:\n",
    "    def true_model(X, t, b):\n",
    "        live = X\n",
    "        dXdt = b*live\n",
    "        return dXdt\n",
    "    \n",
    "    X0 = np.array([number_of_cells])\n",
    "    b = 0.0007198228\n",
    "    true_solution = odeint(true_model, X0, times, args=(b,))\n",
    "elif cycle_model == 6:\n",
    "    def true_model(X, t, r01, r30, r12, r23):\n",
    "        G0G1, S, G2, M = X\n",
    "        dXdt = [-r01*G0G1 + 2.0*r30*M,\n",
    "            r01*G0G1 - r12*S,\n",
    "            r12*S - r23*G2,\n",
    "            r23*G2 - r30*M\n",
    "        ]\n",
    "        return dXdt\n",
    "    \n",
    "    X0 = np.array([number_of_cells, 0, 0, 0])\n",
    "    r01 = 0.00334672\n",
    "    r30 = 0.016666667\n",
    "    r12 = 0.002083333\n",
    "    r23 = 0.004166667\n",
    "    true_solution = odeint(true_model, X0, times, args=(r01, r30, r12, r23))\n",
    "else:\n",
    "    print(\"Unrecognized cell cycle model.\")"
   ]
  },
  {
   "cell_type": "markdown",
   "id": "c0adbb3a",
   "metadata": {},
   "source": [
    "## Compute tumor cell fraction for the true model"
   ]
  },
  {
   "cell_type": "code",
   "execution_count": 20,
   "id": "ac275007",
   "metadata": {},
   "outputs": [],
   "source": [
    "total_true = np.sum(true_solution, axis=1)\n",
    "\n",
    "if cycle_model == 0:\n",
    "    Ki67_negative_true = true_solution[:,0]/total_true;\n",
    "    Ki67_positive_premitotic_true = true_solution[:,1]/total_true;\n",
    "    Ki67_positive_postmitotic_true = true_solution[:,2]/total_true;\n",
    "elif cycle_model == 1:\n",
    "    Ki67_negative_true = true_solution[:,0]/total_true;\n",
    "    Ki67_positive_true = true_solution[:,1]/total_true;\n",
    "elif cycle_model == 2:\n",
    "    G0G1_phase_true = true_solution[:,0]/total_true;\n",
    "    S_phase_true = true_solution[:,1]/total_true;\n",
    "    G2M_phase_true = true_solution[:,2]/total_true;\n",
    "elif cycle_model == 5:\n",
    "    live_true = true_solution[:,0]/total_true;\n",
    "elif cycle_model == 6:\n",
    "    G0G1_phase_true = true_solution[:,0]/total_true;\n",
    "    S_phase_true = true_solution[:,1]/total_true;\n",
    "    G2_phase_true = true_solution[:,2]/total_true;\n",
    "    M_phase_true = true_solution[:,3]/total_true;\n",
    "else:\n",
    "    print(\"Unrecognized cell cycle model.\")"
   ]
  },
  {
   "cell_type": "markdown",
   "id": "cac88a3b",
   "metadata": {},
   "source": [
    "## Compute cumulative sum of squared errors between data and true model"
   ]
  },
  {
   "cell_type": "code",
   "execution_count": 23,
   "id": "64269684",
   "metadata": {},
   "outputs": [],
   "source": [
    "def compute_CSSE(target, predicted):\n",
    "    squared_errors = (target - predicted)**2.0\n",
    "    return np.cumsum(squared_errors)"
   ]
  },
  {
   "cell_type": "code",
   "execution_count": 33,
   "id": "ebd170a8",
   "metadata": {},
   "outputs": [
    {
     "name": "stdout",
     "output_type": "stream",
     "text": [
      "SSE between data and true model = [0.05005506 0.05005506]\n",
      "\n"
     ]
    }
   ],
   "source": [
    "if cycle_model == 0:\n",
    "    Ki67_negative_csse = compute_CSSE(Ki67_negative_true.flatten(), Ki67_negative_data.flatten());\n",
    "    Ki67_positive_premitotic_csse = compute_CSSE(Ki67_positive_premitotic_true.flatten(), Ki67_positive_premitotic_data.flatten());\n",
    "    Ki67_positive_postmitotic_csse = compute_CSSE(Ki67_positive_postmitotic_true.flatten(), Ki67_positive_postmitotic_data.flatten());\n",
    "    \n",
    "    print(\"SSE between data and true model = \" + str(np.array([Ki67_negative_csse[-1], Ki67_positive_premitotic_csse[-1], Ki67_positive_postmitotic_csse[-1]])) + \"\\n\")\n",
    "elif cycle_model == 1:\n",
    "    Ki67_negative_csse = compute_CSSE(Ki67_negative_true.flatten(), Ki67_negative_data.flatten());\n",
    "    Ki67_positive_csse = compute_CSSE(Ki67_positive_true.flatten(), Ki67_positive_data.flatten());\n",
    "    \n",
    "    print(\"SSE between data and true model = \" + str(np.array([Ki67_negative_csse[-1], Ki67_positive_csse[-1]])) + \"\\n\")\n",
    "elif cycle_model == 2:\n",
    "    G0G1_phase_csse = compute_CSSE(G0G1_phase_true.flatten(), G0G1_phase_data.flatten());\n",
    "    S_phase_csse = compute_CSSE(S_phase_true.flatten(), S_phase_data.flatten());\n",
    "    G2M_phase_csse = compute_CSSE(G2M_phase_true.flatten(), G2M_phase_data.flatten());\n",
    "    \n",
    "    print(\"SSE between data and true model = \" + str(np.array([G0G1_phase_csse[-1], S_phase_csse[-1], G2M_phase_csse[-1]])) + \"\\n\")\n",
    "elif cycle_model == 5:\n",
    "    live_csse = compute_CSSE(live_true.flatten(), live_data.flatten());\n",
    "    \n",
    "    print(\"SSE between data and true model = \" + str(np.array([live_csse[-1]])) + \"\\n\")\n",
    "elif cycle_model == 6:\n",
    "    G0G1_phase_csse = compute_CSSE(G0G1_phase_true.flatten(), G0G1_phase_data.flatten());\n",
    "    S_phase_csse = compute_CSSE(S_phase_true.flatten(), S_phase_data.flatten());\n",
    "    G2_phase_csse = compute_CSSE(G2_phase_true.flatten(), G2_phase_data.flatten());\n",
    "    M_phase_csse = compute_CSSE(M_phase_true.flatten(), M_phase_data.flatten());\n",
    "    \n",
    "    print(\"SSE between data and true model = \" + str(np.array([G0G1_phase_csse[-1], S_phase_csse[-1], G2_phase_csse[-1], M_phase_csse[-1]])) + \"\\n\")\n",
    "else:\n",
    "    print(\"Unrecognized cell cycle model.\")"
   ]
  },
  {
   "cell_type": "markdown",
   "id": "ce2b529d",
   "metadata": {},
   "source": [
    "## Plot cumulative sum of squared errors"
   ]
  },
  {
   "cell_type": "code",
   "execution_count": 37,
   "id": "6551359a",
   "metadata": {},
   "outputs": [
    {
     "data": {
      "image/png": "[encoded data removed]",
      "text/plain": [
       "<Figure size 432x288 with 1 Axes>"
      ]
     },
     "metadata": {
      "needs_background": "light"
     },
     "output_type": "display_data"
    }
   ],
   "source": [
    "plt.clf()\n",
    "if cycle_model == 0:\n",
    "    plt.plot(times, Ki67_negative_csse, alpha = 1.0, linewidth = 1)\n",
    "elif cycle_model == 1:\n",
    "    plt.plot(times, Ki67_negative_csse, alpha = 1.0, linewidth = 1)\n",
    "elif cycle_model == 2:\n",
    "    plt.plot(times, G0G1_phase_csse, alpha = 1.0, linewidth = 1)\n",
    "elif cycle_model == 5:\n",
    "    plt.plot(times, live_csse, alpha = 1.0, linewidth = 1)\n",
    "elif cycle_model == 6:\n",
    "    plt.plot(times, G0G1_phase_csse, alpha = 1.0, linewidth = 1)\n",
    "else:\n",
    "    print(\"Unrecognized cell cycle model.\")\n",
    "    \n",
    "plt.title( 'Cumulative SSE between data and true model', size=20)\n",
    "plt.xlabel( 'Time', size=15 ) \n",
    "plt.ylabel( 'Cumulative SSE', size=15 )\n",
    "plt.savefig(os.path.join(output_folder, \"csse.png\"), bbox_inches = 'tight')"
   ]
  },
  {
   "cell_type": "markdown",
   "id": "dc441b29",
   "metadata": {},
   "source": [
    "## Write a *.csv* output file"
   ]
  },
  {
   "cell_type": "code",
   "execution_count": 38,
   "id": "1f12136a",
   "metadata": {},
   "outputs": [],
   "source": [
    "if cycle_model == 0:\n",
    "    output_array = np.column_stack((times.flatten(), Ki67_negative_csse.flatten()))\n",
    "    np.savetxt(os.path.join(output_folder, \"csse.csv\"), output_array, delimiter=',', fmt='%.8f',\n",
    "               header=\"times, tumor_cell_fraction_error\", comments='')\n",
    "elif cycle_model == 1:\n",
    "    output_array = np.column_stack((times.flatten(), Ki67_negative_csse.flatten()))\n",
    "    np.savetxt(os.path.join(output_folder, \"csse.csv\"), output_array, delimiter=',', fmt='%.8f',\n",
    "               header=\"times, tumor_cell_fraction_error\", comments='')\n",
    "elif cycle_model == 2:\n",
    "    output_array = np.column_stack((times.flatten(), G0G1_phase_csse.flatten()))\n",
    "    np.savetxt(os.path.join(output_folder, \"csse.csv\"), output_array, delimiter=',', fmt='%.8f',\n",
    "               header=\"times, tumor_cell_fraction_error\", comments='')\n",
    "elif cycle_model == 5:\n",
    "    output_array = np.column_stack((times.flatten(), live_csse.flatten()))\n",
    "    np.savetxt(os.path.join(output_folder, \"csse.csv\"), output_array, delimiter=',', fmt='%.8f',\n",
    "               header=\"times, tumor_cell_fraction_error\", comments='')\n",
    "elif cycle_model == 6:\n",
    "    output_array = np.column_stack((times.flatten(), G0G1_phase_csse.flatten()))\n",
    "    np.savetxt(os.path.join(output_folder, \"csse.csv\"), output_array, delimiter=',', fmt='%.8f',\n",
    "               header=\"times, tumor_cell_fraction_error\", comments='')\n",
    "else:\n",
    "    print(\"Unrecognized cell cycle model.\")"
   ]
  },
  {
   "cell_type": "markdown",
   "id": "ed409157",
   "metadata": {},
   "source": [
    "## Compute absolute error between data and true model"
   ]
  },
  {
   "cell_type": "code",
   "execution_count": 51,
   "id": "84faa306",
   "metadata": {},
   "outputs": [],
   "source": [
    "def compute_absolute_error(target, predicted):\n",
    "    absolute_errors = abs(target - predicted)\n",
    "    return np.cumsum(absolute_errors)"
   ]
  },
  {
   "cell_type": "code",
   "execution_count": 52,
   "id": "80721be2",
   "metadata": {},
   "outputs": [
    {
     "name": "stdout",
     "output_type": "stream",
     "text": [
      "Absolute error between data and true model = [1.78838558 1.78838558]\n",
      "\n"
     ]
    }
   ],
   "source": [
    "if cycle_model == 0:\n",
    "    Ki67_negative_absolute_error = compute_absolute_error(Ki67_negative_true.flatten(), Ki67_negative_data.flatten());\n",
    "    Ki67_positive_premitotic_absolute_error = compute_absolute_error(Ki67_positive_premitotic_true.flatten(), Ki67_positive_premitotic_data.flatten());\n",
    "    Ki67_positive_postmitotic_absolute_error = compute_absolute_error(Ki67_positive_postmitotic_true.flatten(), Ki67_positive_postmitotic_data.flatten());\n",
    "    \n",
    "    print(\"Absolute error between data and true model = \" + str(np.array([Ki67_negative_absolute_error[-1], Ki67_positive_premitotic_absolute_error[-1], Ki67_positive_postmitotic_absolute_error[-1]])) + \"\\n\")\n",
    "elif cycle_model == 1:\n",
    "    Ki67_negative_absolute_error = compute_absolute_error(Ki67_negative_true.flatten(), Ki67_negative_data.flatten());\n",
    "    Ki67_positive_absolute_error = compute_absolute_error(Ki67_positive_true.flatten(), Ki67_positive_data.flatten());\n",
    "    \n",
    "    print(\"Absolute error between data and true model = \" + str(np.array([Ki67_negative_absolute_error[-1], Ki67_positive_absolute_error[-1]])) + \"\\n\")\n",
    "elif cycle_model == 2:\n",
    "    G0G1_phase_absolute_error = compute_absolute_error(G0G1_phase_true.flatten(), G0G1_phase_data.flatten());\n",
    "    S_phase_absolute_error = compute_absolute_error(S_phase_true.flatten(), S_phase_data.flatten());\n",
    "    G2M_phase_absolute_error = compute_absolute_error(G2M_phase_true.flatten(), G2M_phase_data.flatten());\n",
    "    \n",
    "    print(\"Absolute error between data and true model = \" + str(np.array([G0G1_phase_absolute_error[-1], S_phase_absolute_error[-1], G2M_phase_absolute_error[-1]])) + \"\\n\")\n",
    "elif cycle_model == 5:\n",
    "    live_absolute_error = compute_absolute_error(live_true.flatten(), live_data.flatten());\n",
    "    \n",
    "    print(\"Absolute error between data and true model = \" + str(np.array([live_absolute_error[-1]])) + \"\\n\")\n",
    "elif cycle_model == 6:\n",
    "    G0G1_phase_absolute_error = compute_absolute_error(G0G1_phase_true.flatten(), G0G1_phase_data.flatten());\n",
    "    S_phase_absolute_error = compute_absolute_error(S_phase_true.flatten(), S_phase_data.flatten());\n",
    "    G2_phase_absolute_error = compute_absolute_error(G2_phase_true.flatten(), G2_phase_data.flatten());\n",
    "    M_phase_absolute_error = compute_absolute_error(M_phase_true.flatten(), M_phase_data.flatten());\n",
    "    \n",
    "    print(\"Absolute error between data and true model = \" + str(np.array([G0G1_phase_absolute_error[-1], S_phase_absolute_error[-1], G2_phase_absolute_error[-1], M_phase_absolute_error[-1]])) + \"\\n\")\n",
    "else:\n",
    "    print(\"Unrecognized cell cycle model.\")"
   ]
  },
  {
   "cell_type": "markdown",
   "id": "be0de538",
   "metadata": {},
   "source": [
    "## Plot absolute error"
   ]
  },
  {
   "cell_type": "code",
   "execution_count": null,
   "id": "77ae9aaa",
   "metadata": {},
   "outputs": [],
   "source": []
  }
 ],
 "metadata": {
  "kernelspec": {
   "display_name": "Python 3",
   "language": "python",
   "name": "python3"
  },
  "language_info": {
   "codemirror_mode": {
    "name": "ipython",
    "version": 3
   },
   "file_extension": ".py",
   "mimetype": "text/x-python",
   "name": "python",
   "nbconvert_exporter": "python",
   "pygments_lexer": "ipython3",
   "version": "3.8.2"
  }
 },
 "nbformat": 4,
 "nbformat_minor": 5
}
