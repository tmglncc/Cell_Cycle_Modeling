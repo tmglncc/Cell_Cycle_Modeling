{
 "cells": [
  {
   "cell_type": "markdown",
   "id": "22231858",
   "metadata": {},
   "source": [
    "# Plotting the temporal evolution of the number of tumor cells"
   ]
  },
  {
   "cell_type": "code",
   "execution_count": null,
   "id": "c52adeb6",
   "metadata": {},
   "outputs": [],
   "source": []
  }
 ],
 "metadata": {
  "kernelspec": {
   "display_name": "Python 3",
   "language": "python",
   "name": "python3"
  },
  "language_info": {
   "codemirror_mode": {
    "name": "ipython",
    "version": 3
   },
   "file_extension": ".py",
   "mimetype": "text/x-python",
   "name": "python",
   "nbconvert_exporter": "python",
   "pygments_lexer": "ipython3",
   "version": "3.8.2"
  }
 },
 "nbformat": 4,
 "nbformat_minor": 5
}
